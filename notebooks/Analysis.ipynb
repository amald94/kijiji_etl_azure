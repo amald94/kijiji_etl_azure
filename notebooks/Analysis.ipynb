{
 "cells": [
  {
   "cell_type": "markdown",
   "metadata": {
    "application/vnd.databricks.v1+cell": {
     "cellMetadata": {},
     "inputWidgets": {},
     "nuid": "4da0741c-1985-4457-8b59-5d52d6500b7c",
     "showTitle": false,
     "title": ""
    }
   },
   "source": [
    "##### Access Azure data lake and read the data using\n",
    "1. Databricks secretScope\n",
    "2. Azure key-vault"
   ]
  },
  {
   "cell_type": "code",
   "execution_count": 0,
   "metadata": {
    "application/vnd.databricks.v1+cell": {
     "cellMetadata": {
      "byteLimit": 2048000,
      "rowLimit": 10000
     },
     "inputWidgets": {},
     "nuid": "44975344-b3e8-4786-aa01-4909a18c9cf1",
     "showTitle": false,
     "title": ""
    }
   },
   "outputs": [],
   "source": [
    "account_key = dbutils.secrets.get(scope='kijiji-data-scope',key='account-key')"
   ]
  },
  {
   "cell_type": "code",
   "execution_count": 0,
   "metadata": {
    "application/vnd.databricks.v1+cell": {
     "cellMetadata": {
      "byteLimit": 2048000,
      "rowLimit": 10000
     },
     "inputWidgets": {},
     "nuid": "364f37d2-da15-4b62-9016-0a63a3d14f9f",
     "showTitle": false,
     "title": ""
    }
   },
   "outputs": [],
   "source": [
    "spark.conf.set(\n",
    "    \"fs.azure.account.key.kijijidata.dfs.core.windows.net\",\n",
    "    account_key\n",
    ")"
   ]
  },
  {
   "cell_type": "markdown",
   "metadata": {
    "application/vnd.databricks.v1+cell": {
     "cellMetadata": {},
     "inputWidgets": {},
     "nuid": "be6796ed-a5d4-4c0d-b191-7eb9f172da26",
     "showTitle": false,
     "title": ""
    }
   },
   "source": [
    "##### check the access to ADLS"
   ]
  },
  {
   "cell_type": "code",
   "execution_count": 0,
   "metadata": {
    "application/vnd.databricks.v1+cell": {
     "cellMetadata": {
      "byteLimit": 2048000,
      "rowLimit": 10000
     },
     "inputWidgets": {},
     "nuid": "95e16a21-52a6-463e-809c-e95ab91c4fd8",
     "showTitle": false,
     "title": ""
    }
   },
   "outputs": [
    {
     "output_type": "display_data",
     "data": {
      "text/html": [
       "<style scoped>\n  .table-result-container {\n    max-height: 300px;\n    overflow: auto;\n  }\n  table, th, td {\n    border: 1px solid black;\n    border-collapse: collapse;\n  }\n  th, td {\n    padding: 5px;\n  }\n  th {\n    text-align: left;\n  }\n</style><div class='table-result-container'><table class='table-result'><thead style='background-color: white'><tr><th>path</th><th>name</th><th>size</th><th>modificationTime</th></tr></thead><tbody><tr><td>abfs://processed@kijijidata.dfs.core.windows.net/apt/</td><td>apt/</td><td>0</td><td>1681313073000</td></tr><tr><td>abfs://processed@kijijidata.dfs.core.windows.net/house/</td><td>house/</td><td>0</td><td>1680723313000</td></tr></tbody></table></div>"
      ]
     },
     "metadata": {
      "application/vnd.databricks.v1+output": {
       "addedWidgets": {},
       "aggData": [],
       "aggError": "",
       "aggOverflow": false,
       "aggSchema": [],
       "aggSeriesLimitReached": false,
       "aggType": "",
       "arguments": {},
       "columnCustomDisplayInfos": {},
       "data": [
        [
         "abfs://processed@kijijidata.dfs.core.windows.net/apt/",
         "apt/",
         0,
         1681313073000
        ],
        [
         "abfs://processed@kijijidata.dfs.core.windows.net/house/",
         "house/",
         0,
         1680723313000
        ]
       ],
       "datasetInfos": [],
       "dbfsResultPath": null,
       "isJsonSchema": true,
       "metadata": {},
       "overflow": false,
       "plotOptions": {
        "customPlotOptions": {},
        "displayType": "table",
        "pivotAggregation": null,
        "pivotColumns": null,
        "xColumns": null,
        "yColumns": null
       },
       "removedWidgets": [],
       "schema": [
        {
         "metadata": "{}",
         "name": "path",
         "type": "\"string\""
        },
        {
         "metadata": "{}",
         "name": "name",
         "type": "\"string\""
        },
        {
         "metadata": "{}",
         "name": "size",
         "type": "\"long\""
        },
        {
         "metadata": "{}",
         "name": "modificationTime",
         "type": "\"long\""
        }
       ],
       "type": "table"
      }
     },
     "output_type": "display_data"
    }
   ],
   "source": [
    "display(dbutils.fs.ls(\"abfs://processed@kijijidata.dfs.core.windows.net\"))"
   ]
  },
  {
   "cell_type": "code",
   "execution_count": 0,
   "metadata": {
    "application/vnd.databricks.v1+cell": {
     "cellMetadata": {
      "byteLimit": 2048000,
      "rowLimit": 10000
     },
     "inputWidgets": {},
     "nuid": "3a09bc4e-0e5c-4ad9-ac04-8e214bac0e55",
     "showTitle": false,
     "title": ""
    }
   },
   "outputs": [
    {
     "output_type": "display_data",
     "data": {
      "text/html": [
       "<style scoped>\n  .table-result-container {\n    max-height: 300px;\n    overflow: auto;\n  }\n  table, th, td {\n    border: 1px solid black;\n    border-collapse: collapse;\n  }\n  th, td {\n    padding: 5px;\n  }\n  th {\n    text-align: left;\n  }\n</style><div class='table-result-container'><table class='table-result'><thead style='background-color: white'><tr><th>path</th><th>name</th><th>size</th><th>modificationTime</th></tr></thead><tbody><tr><td>abfs://processed@kijijidata.dfs.core.windows.net/apt/_SUCCESS</td><td>_SUCCESS</td><td>0</td><td>1681313085000</td></tr><tr><td>abfs://processed@kijijidata.dfs.core.windows.net/apt/location=Not Available/</td><td>location=Not Available/</td><td>0</td><td>1681313073000</td></tr><tr><td>abfs://processed@kijijidata.dfs.core.windows.net/apt/location=acton/</td><td>location=acton/</td><td>0</td><td>1681313073000</td></tr><tr><td>abfs://processed@kijijidata.dfs.core.windows.net/apt/location=ajax/</td><td>location=ajax/</td><td>0</td><td>1681313074000</td></tr><tr><td>abfs://processed@kijijidata.dfs.core.windows.net/apt/location=ashburn/</td><td>location=ashburn/</td><td>0</td><td>1681313074000</td></tr><tr><td>abfs://processed@kijijidata.dfs.core.windows.net/apt/location=aurora/</td><td>location=aurora/</td><td>0</td><td>1681313074000</td></tr><tr><td>abfs://processed@kijijidata.dfs.core.windows.net/apt/location=barrie/</td><td>location=barrie/</td><td>0</td><td>1681313074000</td></tr><tr><td>abfs://processed@kijijidata.dfs.core.windows.net/apt/location=berczy village/</td><td>location=berczy village/</td><td>0</td><td>1681313074000</td></tr><tr><td>abfs://processed@kijijidata.dfs.core.windows.net/apt/location=blackstock/</td><td>location=blackstock/</td><td>0</td><td>1681313074000</td></tr><tr><td>abfs://processed@kijijidata.dfs.core.windows.net/apt/location=bolton/</td><td>location=bolton/</td><td>0</td><td>1681313074000</td></tr><tr><td>abfs://processed@kijijidata.dfs.core.windows.net/apt/location=bowmanville/</td><td>location=bowmanville/</td><td>0</td><td>1681313073000</td></tr><tr><td>abfs://processed@kijijidata.dfs.core.windows.net/apt/location=bradford/</td><td>location=bradford/</td><td>0</td><td>1681313074000</td></tr><tr><td>abfs://processed@kijijidata.dfs.core.windows.net/apt/location=bradford west gwillimbury/</td><td>location=bradford west gwillimbury/</td><td>0</td><td>1681313074000</td></tr><tr><td>abfs://processed@kijijidata.dfs.core.windows.net/apt/location=bramalea/</td><td>location=bramalea/</td><td>0</td><td>1681313073000</td></tr><tr><td>abfs://processed@kijijidata.dfs.core.windows.net/apt/location=brampton/</td><td>location=brampton/</td><td>0</td><td>1681313074000</td></tr><tr><td>abfs://processed@kijijidata.dfs.core.windows.net/apt/location=bronte/</td><td>location=bronte/</td><td>0</td><td>1681313075000</td></tr><tr><td>abfs://processed@kijijidata.dfs.core.windows.net/apt/location=brooklin/</td><td>location=brooklin/</td><td>0</td><td>1681313075000</td></tr><tr><td>abfs://processed@kijijidata.dfs.core.windows.net/apt/location=burlington/</td><td>location=burlington/</td><td>0</td><td>1681313074000</td></tr><tr><td>abfs://processed@kijijidata.dfs.core.windows.net/apt/location=caledon/</td><td>location=caledon/</td><td>0</td><td>1681313074000</td></tr><tr><td>abfs://processed@kijijidata.dfs.core.windows.net/apt/location=caledon east/</td><td>location=caledon east/</td><td>0</td><td>1681313075000</td></tr><tr><td>abfs://processed@kijijidata.dfs.core.windows.net/apt/location=cambridge/</td><td>location=cambridge/</td><td>0</td><td>1681313075000</td></tr><tr><td>abfs://processed@kijijidata.dfs.core.windows.net/apt/location=campbellville/</td><td>location=campbellville/</td><td>0</td><td>1681313075000</td></tr><tr><td>abfs://processed@kijijidata.dfs.core.windows.net/apt/location=churchville/</td><td>location=churchville/</td><td>0</td><td>1681313075000</td></tr><tr><td>abfs://processed@kijijidata.dfs.core.windows.net/apt/location=cobourg/</td><td>location=cobourg/</td><td>0</td><td>1681313074000</td></tr><tr><td>abfs://processed@kijijidata.dfs.core.windows.net/apt/location=collingwood/</td><td>location=collingwood/</td><td>0</td><td>1681313076000</td></tr><tr><td>abfs://processed@kijijidata.dfs.core.windows.net/apt/location=concord/</td><td>location=concord/</td><td>0</td><td>1681313076000</td></tr><tr><td>abfs://processed@kijijidata.dfs.core.windows.net/apt/location=cooksville/</td><td>location=cooksville/</td><td>0</td><td>1681313076000</td></tr><tr><td>abfs://processed@kijijidata.dfs.core.windows.net/apt/location=courtice/</td><td>location=courtice/</td><td>0</td><td>1681313076000</td></tr><tr><td>abfs://processed@kijijidata.dfs.core.windows.net/apt/location=deerfield/</td><td>location=deerfield/</td><td>0</td><td>1681313074000</td></tr><tr><td>abfs://processed@kijijidata.dfs.core.windows.net/apt/location=donevan/</td><td>location=donevan/</td><td>0</td><td>1681313076000</td></tr><tr><td>abfs://processed@kijijidata.dfs.core.windows.net/apt/location=east credit/</td><td>location=east credit/</td><td>0</td><td>1681313076000</td></tr><tr><td>abfs://processed@kijijidata.dfs.core.windows.net/apt/location=east gwillimbury/</td><td>location=east gwillimbury/</td><td>0</td><td>1681313076000</td></tr><tr><td>abfs://processed@kijijidata.dfs.core.windows.net/apt/location=east york/</td><td>location=east york/</td><td>0</td><td>1681313074000</td></tr><tr><td>abfs://processed@kijijidata.dfs.core.windows.net/apt/location=eastdale/</td><td>location=eastdale/</td><td>0</td><td>1681313076000</td></tr><tr><td>abfs://processed@kijijidata.dfs.core.windows.net/apt/location=eden mills/</td><td>location=eden mills/</td><td>0</td><td>1681313077000</td></tr><tr><td>abfs://processed@kijijidata.dfs.core.windows.net/apt/location=erin/</td><td>location=erin/</td><td>0</td><td>1681313077000</td></tr><tr><td>abfs://processed@kijijidata.dfs.core.windows.net/apt/location=erin mills/</td><td>location=erin mills/</td><td>0</td><td>1681313076000</td></tr><tr><td>abfs://processed@kijijidata.dfs.core.windows.net/apt/location=etobicoke/</td><td>location=etobicoke/</td><td>0</td><td>1681313075000</td></tr><tr><td>abfs://processed@kijijidata.dfs.core.windows.net/apt/location=georgetown/</td><td>location=georgetown/</td><td>0</td><td>1681313077000</td></tr><tr><td>abfs://processed@kijijidata.dfs.core.windows.net/apt/location=georgina/</td><td>location=georgina/</td><td>0</td><td>1681313077000</td></tr><tr><td>abfs://processed@kijijidata.dfs.core.windows.net/apt/location=gormley/</td><td>location=gormley/</td><td>0</td><td>1681313077000</td></tr><tr><td>abfs://processed@kijijidata.dfs.core.windows.net/apt/location=grafton/</td><td>location=grafton/</td><td>0</td><td>1681313077000</td></tr><tr><td>abfs://processed@kijijidata.dfs.core.windows.net/apt/location=grimsby/</td><td>location=grimsby/</td><td>0</td><td>1681313077000</td></tr><tr><td>abfs://processed@kijijidata.dfs.core.windows.net/apt/location=guelph/</td><td>location=guelph/</td><td>0</td><td>1681313077000</td></tr><tr><td>abfs://processed@kijijidata.dfs.core.windows.net/apt/location=halton hills/</td><td>location=halton hills/</td><td>0</td><td>1681313077000</td></tr><tr><td>abfs://processed@kijijidata.dfs.core.windows.net/apt/location=hamilton/</td><td>location=hamilton/</td><td>0</td><td>1681313077000</td></tr><tr><td>abfs://processed@kijijidata.dfs.core.windows.net/apt/location=hampton/</td><td>location=hampton/</td><td>0</td><td>1681313077000</td></tr><tr><td>abfs://processed@kijijidata.dfs.core.windows.net/apt/location=inglewood/</td><td>location=inglewood/</td><td>0</td><td>1681313077000</td></tr><tr><td>abfs://processed@kijijidata.dfs.core.windows.net/apt/location=innisfil/</td><td>location=innisfil/</td><td>0</td><td>1681313078000</td></tr><tr><td>abfs://processed@kijijidata.dfs.core.windows.net/apt/location=kettleby/</td><td>location=kettleby/</td><td>0</td><td>1681313078000</td></tr><tr><td>abfs://processed@kijijidata.dfs.core.windows.net/apt/location=king/</td><td>location=king/</td><td>0</td><td>1681313078000</td></tr><tr><td>abfs://processed@kijijidata.dfs.core.windows.net/apt/location=king city/</td><td>location=king city/</td><td>0</td><td>1681313077000</td></tr><tr><td>abfs://processed@kijijidata.dfs.core.windows.net/apt/location=kitchener/</td><td>location=kitchener/</td><td>0</td><td>1681313078000</td></tr><tr><td>abfs://processed@kijijidata.dfs.core.windows.net/apt/location=lakeview/</td><td>location=lakeview/</td><td>0</td><td>1681313078000</td></tr><tr><td>abfs://processed@kijijidata.dfs.core.windows.net/apt/location=lefroy/</td><td>location=lefroy/</td><td>0</td><td>1681313078000</td></tr><tr><td>abfs://processed@kijijidata.dfs.core.windows.net/apt/location=malton/</td><td>location=malton/</td><td>0</td><td>1681313078000</td></tr><tr><td>abfs://processed@kijijidata.dfs.core.windows.net/apt/location=maple/</td><td>location=maple/</td><td>0</td><td>1681313078000</td></tr><tr><td>abfs://processed@kijijidata.dfs.core.windows.net/apt/location=markham/</td><td>location=markham/</td><td>0</td><td>1681313075000</td></tr><tr><td>abfs://processed@kijijidata.dfs.core.windows.net/apt/location=meadowvale/</td><td>location=meadowvale/</td><td>0</td><td>1681313078000</td></tr><tr><td>abfs://processed@kijijidata.dfs.core.windows.net/apt/location=meadowvale village/</td><td>location=meadowvale village/</td><td>0</td><td>1681313079000</td></tr><tr><td>abfs://processed@kijijidata.dfs.core.windows.net/apt/location=milliken/</td><td>location=milliken/</td><td>0</td><td>1681313079000</td></tr><tr><td>abfs://processed@kijijidata.dfs.core.windows.net/apt/location=milton/</td><td>location=milton/</td><td>0</td><td>1681313075000</td></tr><tr><td>abfs://processed@kijijidata.dfs.core.windows.net/apt/location=mineola/</td><td>location=mineola/</td><td>0</td><td>1681313078000</td></tr><tr><td>abfs://processed@kijijidata.dfs.core.windows.net/apt/location=missisauga/</td><td>location=missisauga/</td><td>0</td><td>1681313079000</td></tr><tr><td>abfs://processed@kijijidata.dfs.core.windows.net/apt/location=mississauga/</td><td>location=mississauga/</td><td>0</td><td>1681313075000</td></tr><tr><td>abfs://processed@kijijidata.dfs.core.windows.net/apt/location=mount albert/</td><td>location=mount albert/</td><td>0</td><td>1681313080000</td></tr><tr><td>abfs://processed@kijijidata.dfs.core.windows.net/apt/location=new tecumseth/</td><td>location=new tecumseth/</td><td>0</td><td>1681313079000</td></tr><tr><td>abfs://processed@kijijidata.dfs.core.windows.net/apt/location=newcastle/</td><td>location=newcastle/</td><td>0</td><td>1681313079000</td></tr><tr><td>abfs://processed@kijijidata.dfs.core.windows.net/apt/location=newmarket/</td><td>location=newmarket/</td><td>0</td><td>1681313079000</td></tr><tr><td>abfs://processed@kijijidata.dfs.core.windows.net/apt/location=niagara on the lake/</td><td>location=niagara on the lake/</td><td>0</td><td>1681313080000</td></tr><tr><td>abfs://processed@kijijidata.dfs.core.windows.net/apt/location=nobleton/</td><td>location=nobleton/</td><td>0</td><td>1681313080000</td></tr><tr><td>abfs://processed@kijijidata.dfs.core.windows.net/apt/location=north york/</td><td>location=north york/</td><td>0</td><td>1681313075000</td></tr><tr><td>abfs://processed@kijijidata.dfs.core.windows.net/apt/location=north yorks/</td><td>location=north yorks/</td><td>0</td><td>1681313079000</td></tr><tr><td>abfs://processed@kijijidata.dfs.core.windows.net/apt/location=oakville/</td><td>location=oakville/</td><td>0</td><td>1681313076000</td></tr><tr><td>abfs://processed@kijijidata.dfs.core.windows.net/apt/location=old toronto/</td><td>location=old toronto/</td><td>0</td><td>1681313076000</td></tr><tr><td>abfs://processed@kijijidata.dfs.core.windows.net/apt/location=orangeville/</td><td>location=orangeville/</td><td>0</td><td>1681313076000</td></tr><tr><td>abfs://processed@kijijidata.dfs.core.windows.net/apt/location=orillia/</td><td>location=orillia/</td><td>0</td><td>1681313080000</td></tr><tr><td>abfs://processed@kijijidata.dfs.core.windows.net/apt/location=oshawa/</td><td>location=oshawa/</td><td>0</td><td>1681313076000</td></tr><tr><td>abfs://processed@kijijidata.dfs.core.windows.net/apt/location=ottawa/</td><td>location=ottawa/</td><td>0</td><td>1681313079000</td></tr><tr><td>abfs://processed@kijijidata.dfs.core.windows.net/apt/location=palermo west/</td><td>location=palermo west/</td><td>0</td><td>1681313080000</td></tr><tr><td>abfs://processed@kijijidata.dfs.core.windows.net/apt/location=pickering/</td><td>location=pickering/</td><td>0</td><td>1681313076000</td></tr><tr><td>abfs://processed@kijijidata.dfs.core.windows.net/apt/location=port hope/</td><td>location=port hope/</td><td>0</td><td>1681313080000</td></tr><tr><td>abfs://processed@kijijidata.dfs.core.windows.net/apt/location=port perry/</td><td>location=port perry/</td><td>0</td><td>1681313080000</td></tr><tr><td>abfs://processed@kijijidata.dfs.core.windows.net/apt/location=regional municipality of peel/</td><td>location=regional municipality of peel/</td><td>0</td><td>1681313080000</td></tr><tr><td>abfs://processed@kijijidata.dfs.core.windows.net/apt/location=regional municipality of york/</td><td>location=regional municipality of york/</td><td>0</td><td>1681313081000</td></tr><tr><td>abfs://processed@kijijidata.dfs.core.windows.net/apt/location=richmond hill/</td><td>location=richmond hill/</td><td>0</td><td>1681313076000</td></tr><tr><td>abfs://processed@kijijidata.dfs.core.windows.net/apt/location=rockwood/</td><td>location=rockwood/</td><td>0</td><td>1681313081000</td></tr><tr><td>abfs://processed@kijijidata.dfs.core.windows.net/apt/location=roseneath/</td><td>location=roseneath/</td><td>0</td><td>1681313082000</td></tr><tr><td>abfs://processed@kijijidata.dfs.core.windows.net/apt/location=scarborough/</td><td>location=scarborough/</td><td>0</td><td>1681313077000</td></tr><tr><td>abfs://processed@kijijidata.dfs.core.windows.net/apt/location=schomberg/</td><td>location=schomberg/</td><td>0</td><td>1681313082000</td></tr><tr><td>abfs://processed@kijijidata.dfs.core.windows.net/apt/location=spring valley/</td><td>location=spring valley/</td><td>0</td><td>1681313082000</td></tr><tr><td>abfs://processed@kijijidata.dfs.core.windows.net/apt/location=stouffville/</td><td>location=stouffville/</td><td>0</td><td>1681313081000</td></tr><tr><td>abfs://processed@kijijidata.dfs.core.windows.net/apt/location=streetsville/</td><td>location=streetsville/</td><td>0</td><td>1681313080000</td></tr><tr><td>abfs://processed@kijijidata.dfs.core.windows.net/apt/location=sutton/</td><td>location=sutton/</td><td>0</td><td>1681313082000</td></tr><tr><td>abfs://processed@kijijidata.dfs.core.windows.net/apt/location=thornhill/</td><td>location=thornhill/</td><td>0</td><td>1681313081000</td></tr><tr><td>abfs://processed@kijijidata.dfs.core.windows.net/apt/location=thorold/</td><td>location=thorold/</td><td>0</td><td>1681313082000</td></tr><tr><td>abfs://processed@kijijidata.dfs.core.windows.net/apt/location=toronto/</td><td>location=toronto/</td><td>0</td><td>1681313077000</td></tr><tr><td>abfs://processed@kijijidata.dfs.core.windows.net/apt/location=toronto m9m 0b5/</td><td>location=toronto m9m 0b5/</td><td>0</td><td>1681313083000</td></tr><tr><td>abfs://processed@kijijidata.dfs.core.windows.net/apt/location=tottenham/</td><td>location=tottenham/</td><td>0</td><td>1681313082000</td></tr><tr><td>abfs://processed@kijijidata.dfs.core.windows.net/apt/location=town of caledon/</td><td>location=town of caledon/</td><td>0</td><td>1681313080000</td></tr><tr><td>abfs://processed@kijijidata.dfs.core.windows.net/apt/location=township of guelph/</td><td>location=township of guelph/</td><td>0</td><td>1681313081000</td></tr><tr><td>abfs://processed@kijijidata.dfs.core.windows.net/apt/location=township of melancthon/</td><td>location=township of melancthon/</td><td>0</td><td>1681313081000</td></tr><tr><td>abfs://processed@kijijidata.dfs.core.windows.net/apt/location=unionville/</td><td>location=unionville/</td><td>0</td><td>1681313077000</td></tr><tr><td>abfs://processed@kijijidata.dfs.core.windows.net/apt/location=uxbridge/</td><td>location=uxbridge/</td><td>0</td><td>1681313081000</td></tr><tr><td>abfs://processed@kijijidata.dfs.core.windows.net/apt/location=valley creek/</td><td>location=valley creek/</td><td>0</td><td>1681313081000</td></tr><tr><td>abfs://processed@kijijidata.dfs.core.windows.net/apt/location=vaughan/</td><td>location=vaughan/</td><td>0</td><td>1681313077000</td></tr><tr><td>abfs://processed@kijijidata.dfs.core.windows.net/apt/location=whitby/</td><td>location=whitby/</td><td>0</td><td>1681313077000</td></tr><tr><td>abfs://processed@kijijidata.dfs.core.windows.net/apt/location=whitchurch-stouffville/</td><td>location=whitchurch-stouffville/</td><td>0</td><td>1681313077000</td></tr><tr><td>abfs://processed@kijijidata.dfs.core.windows.net/apt/location=windfields/</td><td>location=windfields/</td><td>0</td><td>1681313083000</td></tr><tr><td>abfs://processed@kijijidata.dfs.core.windows.net/apt/location=woodbridge/</td><td>location=woodbridge/</td><td>0</td><td>1681313082000</td></tr><tr><td>abfs://processed@kijijidata.dfs.core.windows.net/apt/location=york/</td><td>location=york/</td><td>0</td><td>1681313082000</td></tr></tbody></table></div>"
      ]
     },
     "metadata": {
      "application/vnd.databricks.v1+output": {
       "addedWidgets": {},
       "aggData": [],
       "aggError": "",
       "aggOverflow": false,
       "aggSchema": [],
       "aggSeriesLimitReached": false,
       "aggType": "",
       "arguments": {},
       "columnCustomDisplayInfos": {},
       "data": [
        [
         "abfs://processed@kijijidata.dfs.core.windows.net/apt/_SUCCESS",
         "_SUCCESS",
         0,
         1681313085000
        ],
        [
         "abfs://processed@kijijidata.dfs.core.windows.net/apt/location=Not Available/",
         "location=Not Available/",
         0,
         1681313073000
        ],
        [
         "abfs://processed@kijijidata.dfs.core.windows.net/apt/location=acton/",
         "location=acton/",
         0,
         1681313073000
        ],
        [
         "abfs://processed@kijijidata.dfs.core.windows.net/apt/location=ajax/",
         "location=ajax/",
         0,
         1681313074000
        ],
        [
         "abfs://processed@kijijidata.dfs.core.windows.net/apt/location=ashburn/",
         "location=ashburn/",
         0,
         1681313074000
        ],
        [
         "abfs://processed@kijijidata.dfs.core.windows.net/apt/location=aurora/",
         "location=aurora/",
         0,
         1681313074000
        ],
        [
         "abfs://processed@kijijidata.dfs.core.windows.net/apt/location=barrie/",
         "location=barrie/",
         0,
         1681313074000
        ],
        [
         "abfs://processed@kijijidata.dfs.core.windows.net/apt/location=berczy village/",
         "location=berczy village/",
         0,
         1681313074000
        ],
        [
         "abfs://processed@kijijidata.dfs.core.windows.net/apt/location=blackstock/",
         "location=blackstock/",
         0,
         1681313074000
        ],
        [
         "abfs://processed@kijijidata.dfs.core.windows.net/apt/location=bolton/",
         "location=bolton/",
         0,
         1681313074000
        ],
        [
         "abfs://processed@kijijidata.dfs.core.windows.net/apt/location=bowmanville/",
         "location=bowmanville/",
         0,
         1681313073000
        ],
        [
         "abfs://processed@kijijidata.dfs.core.windows.net/apt/location=bradford/",
         "location=bradford/",
         0,
         1681313074000
        ],
        [
         "abfs://processed@kijijidata.dfs.core.windows.net/apt/location=bradford west gwillimbury/",
         "location=bradford west gwillimbury/",
         0,
         1681313074000
        ],
        [
         "abfs://processed@kijijidata.dfs.core.windows.net/apt/location=bramalea/",
         "location=bramalea/",
         0,
         1681313073000
        ],
        [
         "abfs://processed@kijijidata.dfs.core.windows.net/apt/location=brampton/",
         "location=brampton/",
         0,
         1681313074000
        ],
        [
         "abfs://processed@kijijidata.dfs.core.windows.net/apt/location=bronte/",
         "location=bronte/",
         0,
         1681313075000
        ],
        [
         "abfs://processed@kijijidata.dfs.core.windows.net/apt/location=brooklin/",
         "location=brooklin/",
         0,
         1681313075000
        ],
        [
         "abfs://processed@kijijidata.dfs.core.windows.net/apt/location=burlington/",
         "location=burlington/",
         0,
         1681313074000
        ],
        [
         "abfs://processed@kijijidata.dfs.core.windows.net/apt/location=caledon/",
         "location=caledon/",
         0,
         1681313074000
        ],
        [
         "abfs://processed@kijijidata.dfs.core.windows.net/apt/location=caledon east/",
         "location=caledon east/",
         0,
         1681313075000
        ],
        [
         "abfs://processed@kijijidata.dfs.core.windows.net/apt/location=cambridge/",
         "location=cambridge/",
         0,
         1681313075000
        ],
        [
         "abfs://processed@kijijidata.dfs.core.windows.net/apt/location=campbellville/",
         "location=campbellville/",
         0,
         1681313075000
        ],
        [
         "abfs://processed@kijijidata.dfs.core.windows.net/apt/location=churchville/",
         "location=churchville/",
         0,
         1681313075000
        ],
        [
         "abfs://processed@kijijidata.dfs.core.windows.net/apt/location=cobourg/",
         "location=cobourg/",
         0,
         1681313074000
        ],
        [
         "abfs://processed@kijijidata.dfs.core.windows.net/apt/location=collingwood/",
         "location=collingwood/",
         0,
         1681313076000
        ],
        [
         "abfs://processed@kijijidata.dfs.core.windows.net/apt/location=concord/",
         "location=concord/",
         0,
         1681313076000
        ],
        [
         "abfs://processed@kijijidata.dfs.core.windows.net/apt/location=cooksville/",
         "location=cooksville/",
         0,
         1681313076000
        ],
        [
         "abfs://processed@kijijidata.dfs.core.windows.net/apt/location=courtice/",
         "location=courtice/",
         0,
         1681313076000
        ],
        [
         "abfs://processed@kijijidata.dfs.core.windows.net/apt/location=deerfield/",
         "location=deerfield/",
         0,
         1681313074000
        ],
        [
         "abfs://processed@kijijidata.dfs.core.windows.net/apt/location=donevan/",
         "location=donevan/",
         0,
         1681313076000
        ],
        [
         "abfs://processed@kijijidata.dfs.core.windows.net/apt/location=east credit/",
         "location=east credit/",
         0,
         1681313076000
        ],
        [
         "abfs://processed@kijijidata.dfs.core.windows.net/apt/location=east gwillimbury/",
         "location=east gwillimbury/",
         0,
         1681313076000
        ],
        [
         "abfs://processed@kijijidata.dfs.core.windows.net/apt/location=east york/",
         "location=east york/",
         0,
         1681313074000
        ],
        [
         "abfs://processed@kijijidata.dfs.core.windows.net/apt/location=eastdale/",
         "location=eastdale/",
         0,
         1681313076000
        ],
        [
         "abfs://processed@kijijidata.dfs.core.windows.net/apt/location=eden mills/",
         "location=eden mills/",
         0,
         1681313077000
        ],
        [
         "abfs://processed@kijijidata.dfs.core.windows.net/apt/location=erin/",
         "location=erin/",
         0,
         1681313077000
        ],
        [
         "abfs://processed@kijijidata.dfs.core.windows.net/apt/location=erin mills/",
         "location=erin mills/",
         0,
         1681313076000
        ],
        [
         "abfs://processed@kijijidata.dfs.core.windows.net/apt/location=etobicoke/",
         "location=etobicoke/",
         0,
         1681313075000
        ],
        [
         "abfs://processed@kijijidata.dfs.core.windows.net/apt/location=georgetown/",
         "location=georgetown/",
         0,
         1681313077000
        ],
        [
         "abfs://processed@kijijidata.dfs.core.windows.net/apt/location=georgina/",
         "location=georgina/",
         0,
         1681313077000
        ],
        [
         "abfs://processed@kijijidata.dfs.core.windows.net/apt/location=gormley/",
         "location=gormley/",
         0,
         1681313077000
        ],
        [
         "abfs://processed@kijijidata.dfs.core.windows.net/apt/location=grafton/",
         "location=grafton/",
         0,
         1681313077000
        ],
        [
         "abfs://processed@kijijidata.dfs.core.windows.net/apt/location=grimsby/",
         "location=grimsby/",
         0,
         1681313077000
        ],
        [
         "abfs://processed@kijijidata.dfs.core.windows.net/apt/location=guelph/",
         "location=guelph/",
         0,
         1681313077000
        ],
        [
         "abfs://processed@kijijidata.dfs.core.windows.net/apt/location=halton hills/",
         "location=halton hills/",
         0,
         1681313077000
        ],
        [
         "abfs://processed@kijijidata.dfs.core.windows.net/apt/location=hamilton/",
         "location=hamilton/",
         0,
         1681313077000
        ],
        [
         "abfs://processed@kijijidata.dfs.core.windows.net/apt/location=hampton/",
         "location=hampton/",
         0,
         1681313077000
        ],
        [
         "abfs://processed@kijijidata.dfs.core.windows.net/apt/location=inglewood/",
         "location=inglewood/",
         0,
         1681313077000
        ],
        [
         "abfs://processed@kijijidata.dfs.core.windows.net/apt/location=innisfil/",
         "location=innisfil/",
         0,
         1681313078000
        ],
        [
         "abfs://processed@kijijidata.dfs.core.windows.net/apt/location=kettleby/",
         "location=kettleby/",
         0,
         1681313078000
        ],
        [
         "abfs://processed@kijijidata.dfs.core.windows.net/apt/location=king/",
         "location=king/",
         0,
         1681313078000
        ],
        [
         "abfs://processed@kijijidata.dfs.core.windows.net/apt/location=king city/",
         "location=king city/",
         0,
         1681313077000
        ],
        [
         "abfs://processed@kijijidata.dfs.core.windows.net/apt/location=kitchener/",
         "location=kitchener/",
         0,
         1681313078000
        ],
        [
         "abfs://processed@kijijidata.dfs.core.windows.net/apt/location=lakeview/",
         "location=lakeview/",
         0,
         1681313078000
        ],
        [
         "abfs://processed@kijijidata.dfs.core.windows.net/apt/location=lefroy/",
         "location=lefroy/",
         0,
         1681313078000
        ],
        [
         "abfs://processed@kijijidata.dfs.core.windows.net/apt/location=malton/",
         "location=malton/",
         0,
         1681313078000
        ],
        [
         "abfs://processed@kijijidata.dfs.core.windows.net/apt/location=maple/",
         "location=maple/",
         0,
         1681313078000
        ],
        [
         "abfs://processed@kijijidata.dfs.core.windows.net/apt/location=markham/",
         "location=markham/",
         0,
         1681313075000
        ],
        [
         "abfs://processed@kijijidata.dfs.core.windows.net/apt/location=meadowvale/",
         "location=meadowvale/",
         0,
         1681313078000
        ],
        [
         "abfs://processed@kijijidata.dfs.core.windows.net/apt/location=meadowvale village/",
         "location=meadowvale village/",
         0,
         1681313079000
        ],
        [
         "abfs://processed@kijijidata.dfs.core.windows.net/apt/location=milliken/",
         "location=milliken/",
         0,
         1681313079000
        ],
        [
         "abfs://processed@kijijidata.dfs.core.windows.net/apt/location=milton/",
         "location=milton/",
         0,
         1681313075000
        ],
        [
         "abfs://processed@kijijidata.dfs.core.windows.net/apt/location=mineola/",
         "location=mineola/",
         0,
         1681313078000
        ],
        [
         "abfs://processed@kijijidata.dfs.core.windows.net/apt/location=missisauga/",
         "location=missisauga/",
         0,
         1681313079000
        ],
        [
         "abfs://processed@kijijidata.dfs.core.windows.net/apt/location=mississauga/",
         "location=mississauga/",
         0,
         1681313075000
        ],
        [
         "abfs://processed@kijijidata.dfs.core.windows.net/apt/location=mount albert/",
         "location=mount albert/",
         0,
         1681313080000
        ],
        [
         "abfs://processed@kijijidata.dfs.core.windows.net/apt/location=new tecumseth/",
         "location=new tecumseth/",
         0,
         1681313079000
        ],
        [
         "abfs://processed@kijijidata.dfs.core.windows.net/apt/location=newcastle/",
         "location=newcastle/",
         0,
         1681313079000
        ],
        [
         "abfs://processed@kijijidata.dfs.core.windows.net/apt/location=newmarket/",
         "location=newmarket/",
         0,
         1681313079000
        ],
        [
         "abfs://processed@kijijidata.dfs.core.windows.net/apt/location=niagara on the lake/",
         "location=niagara on the lake/",
         0,
         1681313080000
        ],
        [
         "abfs://processed@kijijidata.dfs.core.windows.net/apt/location=nobleton/",
         "location=nobleton/",
         0,
         1681313080000
        ],
        [
         "abfs://processed@kijijidata.dfs.core.windows.net/apt/location=north york/",
         "location=north york/",
         0,
         1681313075000
        ],
        [
         "abfs://processed@kijijidata.dfs.core.windows.net/apt/location=north yorks/",
         "location=north yorks/",
         0,
         1681313079000
        ],
        [
         "abfs://processed@kijijidata.dfs.core.windows.net/apt/location=oakville/",
         "location=oakville/",
         0,
         1681313076000
        ],
        [
         "abfs://processed@kijijidata.dfs.core.windows.net/apt/location=old toronto/",
         "location=old toronto/",
         0,
         1681313076000
        ],
        [
         "abfs://processed@kijijidata.dfs.core.windows.net/apt/location=orangeville/",
         "location=orangeville/",
         0,
         1681313076000
        ],
        [
         "abfs://processed@kijijidata.dfs.core.windows.net/apt/location=orillia/",
         "location=orillia/",
         0,
         1681313080000
        ],
        [
         "abfs://processed@kijijidata.dfs.core.windows.net/apt/location=oshawa/",
         "location=oshawa/",
         0,
         1681313076000
        ],
        [
         "abfs://processed@kijijidata.dfs.core.windows.net/apt/location=ottawa/",
         "location=ottawa/",
         0,
         1681313079000
        ],
        [
         "abfs://processed@kijijidata.dfs.core.windows.net/apt/location=palermo west/",
         "location=palermo west/",
         0,
         1681313080000
        ],
        [
         "abfs://processed@kijijidata.dfs.core.windows.net/apt/location=pickering/",
         "location=pickering/",
         0,
         1681313076000
        ],
        [
         "abfs://processed@kijijidata.dfs.core.windows.net/apt/location=port hope/",
         "location=port hope/",
         0,
         1681313080000
        ],
        [
         "abfs://processed@kijijidata.dfs.core.windows.net/apt/location=port perry/",
         "location=port perry/",
         0,
         1681313080000
        ],
        [
         "abfs://processed@kijijidata.dfs.core.windows.net/apt/location=regional municipality of peel/",
         "location=regional municipality of peel/",
         0,
         1681313080000
        ],
        [
         "abfs://processed@kijijidata.dfs.core.windows.net/apt/location=regional municipality of york/",
         "location=regional municipality of york/",
         0,
         1681313081000
        ],
        [
         "abfs://processed@kijijidata.dfs.core.windows.net/apt/location=richmond hill/",
         "location=richmond hill/",
         0,
         1681313076000
        ],
        [
         "abfs://processed@kijijidata.dfs.core.windows.net/apt/location=rockwood/",
         "location=rockwood/",
         0,
         1681313081000
        ],
        [
         "abfs://processed@kijijidata.dfs.core.windows.net/apt/location=roseneath/",
         "location=roseneath/",
         0,
         1681313082000
        ],
        [
         "abfs://processed@kijijidata.dfs.core.windows.net/apt/location=scarborough/",
         "location=scarborough/",
         0,
         1681313077000
        ],
        [
         "abfs://processed@kijijidata.dfs.core.windows.net/apt/location=schomberg/",
         "location=schomberg/",
         0,
         1681313082000
        ],
        [
         "abfs://processed@kijijidata.dfs.core.windows.net/apt/location=spring valley/",
         "location=spring valley/",
         0,
         1681313082000
        ],
        [
         "abfs://processed@kijijidata.dfs.core.windows.net/apt/location=stouffville/",
         "location=stouffville/",
         0,
         1681313081000
        ],
        [
         "abfs://processed@kijijidata.dfs.core.windows.net/apt/location=streetsville/",
         "location=streetsville/",
         0,
         1681313080000
        ],
        [
         "abfs://processed@kijijidata.dfs.core.windows.net/apt/location=sutton/",
         "location=sutton/",
         0,
         1681313082000
        ],
        [
         "abfs://processed@kijijidata.dfs.core.windows.net/apt/location=thornhill/",
         "location=thornhill/",
         0,
         1681313081000
        ],
        [
         "abfs://processed@kijijidata.dfs.core.windows.net/apt/location=thorold/",
         "location=thorold/",
         0,
         1681313082000
        ],
        [
         "abfs://processed@kijijidata.dfs.core.windows.net/apt/location=toronto/",
         "location=toronto/",
         0,
         1681313077000
        ],
        [
         "abfs://processed@kijijidata.dfs.core.windows.net/apt/location=toronto m9m 0b5/",
         "location=toronto m9m 0b5/",
         0,
         1681313083000
        ],
        [
         "abfs://processed@kijijidata.dfs.core.windows.net/apt/location=tottenham/",
         "location=tottenham/",
         0,
         1681313082000
        ],
        [
         "abfs://processed@kijijidata.dfs.core.windows.net/apt/location=town of caledon/",
         "location=town of caledon/",
         0,
         1681313080000
        ],
        [
         "abfs://processed@kijijidata.dfs.core.windows.net/apt/location=township of guelph/",
         "location=township of guelph/",
         0,
         1681313081000
        ],
        [
         "abfs://processed@kijijidata.dfs.core.windows.net/apt/location=township of melancthon/",
         "location=township of melancthon/",
         0,
         1681313081000
        ],
        [
         "abfs://processed@kijijidata.dfs.core.windows.net/apt/location=unionville/",
         "location=unionville/",
         0,
         1681313077000
        ],
        [
         "abfs://processed@kijijidata.dfs.core.windows.net/apt/location=uxbridge/",
         "location=uxbridge/",
         0,
         1681313081000
        ],
        [
         "abfs://processed@kijijidata.dfs.core.windows.net/apt/location=valley creek/",
         "location=valley creek/",
         0,
         1681313081000
        ],
        [
         "abfs://processed@kijijidata.dfs.core.windows.net/apt/location=vaughan/",
         "location=vaughan/",
         0,
         1681313077000
        ],
        [
         "abfs://processed@kijijidata.dfs.core.windows.net/apt/location=whitby/",
         "location=whitby/",
         0,
         1681313077000
        ],
        [
         "abfs://processed@kijijidata.dfs.core.windows.net/apt/location=whitchurch-stouffville/",
         "location=whitchurch-stouffville/",
         0,
         1681313077000
        ],
        [
         "abfs://processed@kijijidata.dfs.core.windows.net/apt/location=windfields/",
         "location=windfields/",
         0,
         1681313083000
        ],
        [
         "abfs://processed@kijijidata.dfs.core.windows.net/apt/location=woodbridge/",
         "location=woodbridge/",
         0,
         1681313082000
        ],
        [
         "abfs://processed@kijijidata.dfs.core.windows.net/apt/location=york/",
         "location=york/",
         0,
         1681313082000
        ]
       ],
       "datasetInfos": [],
       "dbfsResultPath": null,
       "isJsonSchema": true,
       "metadata": {},
       "overflow": false,
       "plotOptions": {
        "customPlotOptions": {},
        "displayType": "table",
        "pivotAggregation": null,
        "pivotColumns": null,
        "xColumns": null,
        "yColumns": null
       },
       "removedWidgets": [],
       "schema": [
        {
         "metadata": "{}",
         "name": "path",
         "type": "\"string\""
        },
        {
         "metadata": "{}",
         "name": "name",
         "type": "\"string\""
        },
        {
         "metadata": "{}",
         "name": "size",
         "type": "\"long\""
        },
        {
         "metadata": "{}",
         "name": "modificationTime",
         "type": "\"long\""
        }
       ],
       "type": "table"
      }
     },
     "output_type": "display_data"
    }
   ],
   "source": [
    "display(dbutils.fs.ls(\"abfs://processed@kijijidata.dfs.core.windows.net/apt/\"))"
   ]
  },
  {
   "cell_type": "markdown",
   "metadata": {
    "application/vnd.databricks.v1+cell": {
     "cellMetadata": {},
     "inputWidgets": {},
     "nuid": "8a55ee45-779c-44cb-bb8e-07fffba99186",
     "showTitle": false,
     "title": ""
    }
   },
   "source": [
    "### Analyze the data using Spark\n",
    "\n",
    "1. Identify the cities with the highest number of listings?\n",
    "2. Which are the top 5 cities with the highest average rent?\n",
    "3. Average rent for each city\n",
    "4. Which city has the most affordable 1 BHK apartment for rent?\n",
    "5. Identify the most affordable rental option?"
   ]
  },
  {
   "cell_type": "code",
   "execution_count": 0,
   "metadata": {
    "application/vnd.databricks.v1+cell": {
     "cellMetadata": {
      "byteLimit": 2048000,
      "rowLimit": 10000
     },
     "inputWidgets": {},
     "nuid": "1634f1ca-f42e-4271-95de-d8bcd09ccfbd",
     "showTitle": false,
     "title": ""
    }
   },
   "outputs": [],
   "source": [
    "from pyspark.sql.functions import lit, col"
   ]
  },
  {
   "cell_type": "code",
   "execution_count": 0,
   "metadata": {
    "application/vnd.databricks.v1+cell": {
     "cellMetadata": {
      "byteLimit": 2048000,
      "rowLimit": 10000
     },
     "inputWidgets": {},
     "nuid": "ad134af6-5f89-4333-adc1-f1c31d122b15",
     "showTitle": false,
     "title": ""
    }
   },
   "outputs": [],
   "source": [
    "### read processed apt, house rental listings and combine them into 1 dataframe\n",
    "path = \"abfs://processed@kijijidata.dfs.core.windows.net/\"\n",
    "apt_df = spark.read\\\n",
    "              .parquet(path+\"apt/\")"
   ]
  },
  {
   "cell_type": "code",
   "execution_count": 0,
   "metadata": {
    "application/vnd.databricks.v1+cell": {
     "cellMetadata": {
      "byteLimit": 2048000,
      "rowLimit": 10000
     },
     "inputWidgets": {},
     "nuid": "623fe58a-e256-4a48-9196-a1a425c00785",
     "showTitle": false,
     "title": ""
    }
   },
   "outputs": [],
   "source": [
    "house_df = spark.read\\\n",
    "              .parquet(path+\"house/\")"
   ]
  },
  {
   "cell_type": "code",
   "execution_count": 0,
   "metadata": {
    "application/vnd.databricks.v1+cell": {
     "cellMetadata": {
      "byteLimit": 2048000,
      "rowLimit": 10000
     },
     "inputWidgets": {},
     "nuid": "9b6b1dfe-e09f-4e96-9d40-4383f7414bd0",
     "showTitle": false,
     "title": ""
    }
   },
   "outputs": [],
   "source": [
    "apt_df = apt_df.withColumn(\"type\", lit(\"apartment/condo\"))\n",
    "house_df = house_df.withColumn(\"type\", lit(\"house\"))"
   ]
  },
  {
   "cell_type": "code",
   "execution_count": 0,
   "metadata": {
    "application/vnd.databricks.v1+cell": {
     "cellMetadata": {
      "byteLimit": 2048000,
      "rowLimit": 10000
     },
     "inputWidgets": {},
     "nuid": "33864ce8-6e43-4eeb-b14d-caf5b17c7f51",
     "showTitle": false,
     "title": ""
    }
   },
   "outputs": [
    {
     "output_type": "stream",
     "name": "stdout",
     "output_type": "stream",
     "text": [
      "Out[37]: (9765, 11975)"
     ]
    }
   ],
   "source": [
    "apt_df.count(), house_df.count()"
   ]
  },
  {
   "cell_type": "code",
   "execution_count": 0,
   "metadata": {
    "application/vnd.databricks.v1+cell": {
     "cellMetadata": {
      "byteLimit": 2048000,
      "rowLimit": 10000
     },
     "inputWidgets": {},
     "nuid": "8c782ed4-4507-4311-a60e-edf132e6e561",
     "showTitle": false,
     "title": ""
    }
   },
   "outputs": [],
   "source": [
    "listing_df = apt_df.union(house_df)"
   ]
  },
  {
   "cell_type": "code",
   "execution_count": 0,
   "metadata": {
    "application/vnd.databricks.v1+cell": {
     "cellMetadata": {
      "byteLimit": 2048000,
      "rowLimit": 10000
     },
     "inputWidgets": {},
     "nuid": "39e30561-95bd-4bed-aa7c-deaf705133e5",
     "showTitle": false,
     "title": ""
    }
   },
   "outputs": [
    {
     "output_type": "stream",
     "name": "stdout",
     "output_type": "stream",
     "text": [
      "Out[39]: 21740"
     ]
    }
   ],
   "source": [
    "listing_df.count()"
   ]
  },
  {
   "cell_type": "code",
   "execution_count": 0,
   "metadata": {
    "application/vnd.databricks.v1+cell": {
     "cellMetadata": {
      "byteLimit": 2048000,
      "rowLimit": 10000
     },
     "inputWidgets": {},
     "nuid": "0035db04-c89c-4cee-bf01-3b19221f9c96",
     "showTitle": false,
     "title": ""
    }
   },
   "outputs": [
    {
     "output_type": "display_data",
     "data": {
      "text/html": [
       "<style scoped>\n  .table-result-container {\n    max-height: 300px;\n    overflow: auto;\n  }\n  table, th, td {\n    border: 1px solid black;\n    border-collapse: collapse;\n  }\n  th, td {\n    padding: 5px;\n  }\n  th {\n    text-align: left;\n  }\n</style><div class='table-result-container'><table class='table-result'><thead style='background-color: white'><tr><th>listing_id</th><th>title</th><th>rent</th><th>bedrooms</th><th>post_date</th><th>url</th><th>scrape_date</th><th>calculated_date</th><th>year</th><th>month</th><th>location</th><th>type</th></tr></thead><tbody><tr><td>1653225832</td><td>1 bedroom apartment for rent! dufferin st./lawrence ave.!</td><td>1750</td><td>1</td><td>2023-03-13 00:00:00.000</td><td>https://www.kijiji.ca/v-apartments-condos/city-of-toronto/1-bedroom-apartment-for-rent-dufferin-st-lawrence-ave/1653225832</td><td>2023-04-03</td><td>2023-03-13</td><td>2023</td><td>3</td><td>toronto</td><td>apartment/condo</td></tr><tr><td>1652711690</td><td>greenrock davisville - renovated 1 bedroom suite available</td><td>2500</td><td>1</td><td>2023-04-01 00:00:00.000</td><td>https://www.kijiji.ca/v-apartments-condos/city-of-toronto/greenrock-davisville-renovated-1-bedroom-suite-available/1652711690</td><td>2023-04-03</td><td>2023-04-01</td><td>2023</td><td>4</td><td>toronto</td><td>apartment/condo</td></tr><tr><td>1655389794</td><td>one bedroom plus den, direct access to subway, north york</td><td>2500</td><td>1</td><td>2023-04-03 00:00:00.000</td><td>https://www.kijiji.ca/v-apartments-condos/city-of-toronto/one-bedroom-plus-den-direct-access-to-subway-north-york/1655389794</td><td>2023-04-03</td><td>2023-04-03</td><td>2023</td><td>4</td><td>toronto</td><td>apartment/condo</td></tr><tr><td>1655389475</td><td>one bedroom, walk to subway , north york</td><td>2500</td><td>1</td><td>2023-04-03 00:00:00.000</td><td>https://www.kijiji.ca/v-apartments-condos/city-of-toronto/one-bedroom-walk-to-subway-north-york/1655389475</td><td>2023-04-03</td><td>2023-04-03</td><td>2023</td><td>4</td><td>toronto</td><td>apartment/condo</td></tr><tr><td>1655389447</td><td>prime annex !  live in the best part of the city !</td><td>2600</td><td>1</td><td>2023-04-03 00:00:00.000</td><td>https://www.kijiji.ca/v-apartments-condos/city-of-toronto/prime-annex-live-in-the-best-part-of-the-city/1655389447</td><td>2023-04-03</td><td>2023-04-03</td><td>2023</td><td>4</td><td>toronto</td><td>apartment/condo</td></tr></tbody></table></div>"
      ]
     },
     "metadata": {
      "application/vnd.databricks.v1+output": {
       "addedWidgets": {},
       "aggData": [],
       "aggError": "",
       "aggOverflow": false,
       "aggSchema": [],
       "aggSeriesLimitReached": false,
       "aggType": "",
       "arguments": {},
       "columnCustomDisplayInfos": {},
       "data": [
        [
         1653225832,
         "1 bedroom apartment for rent! dufferin st./lawrence ave.!",
         1750,
         1,
         "2023-03-13 00:00:00.000",
         "https://www.kijiji.ca/v-apartments-condos/city-of-toronto/1-bedroom-apartment-for-rent-dufferin-st-lawrence-ave/1653225832",
         "2023-04-03",
         "2023-03-13",
         2023,
         3,
         "toronto",
         "apartment/condo"
        ],
        [
         1652711690,
         "greenrock davisville - renovated 1 bedroom suite available",
         2500,
         1,
         "2023-04-01 00:00:00.000",
         "https://www.kijiji.ca/v-apartments-condos/city-of-toronto/greenrock-davisville-renovated-1-bedroom-suite-available/1652711690",
         "2023-04-03",
         "2023-04-01",
         2023,
         4,
         "toronto",
         "apartment/condo"
        ],
        [
         1655389794,
         "one bedroom plus den, direct access to subway, north york",
         2500,
         1,
         "2023-04-03 00:00:00.000",
         "https://www.kijiji.ca/v-apartments-condos/city-of-toronto/one-bedroom-plus-den-direct-access-to-subway-north-york/1655389794",
         "2023-04-03",
         "2023-04-03",
         2023,
         4,
         "toronto",
         "apartment/condo"
        ],
        [
         1655389475,
         "one bedroom, walk to subway , north york",
         2500,
         1,
         "2023-04-03 00:00:00.000",
         "https://www.kijiji.ca/v-apartments-condos/city-of-toronto/one-bedroom-walk-to-subway-north-york/1655389475",
         "2023-04-03",
         "2023-04-03",
         2023,
         4,
         "toronto",
         "apartment/condo"
        ],
        [
         1655389447,
         "prime annex !  live in the best part of the city !",
         2600,
         1,
         "2023-04-03 00:00:00.000",
         "https://www.kijiji.ca/v-apartments-condos/city-of-toronto/prime-annex-live-in-the-best-part-of-the-city/1655389447",
         "2023-04-03",
         "2023-04-03",
         2023,
         4,
         "toronto",
         "apartment/condo"
        ]
       ],
       "datasetInfos": [],
       "dbfsResultPath": null,
       "isJsonSchema": true,
       "metadata": {},
       "overflow": false,
       "plotOptions": {
        "customPlotOptions": {},
        "displayType": "table",
        "pivotAggregation": null,
        "pivotColumns": null,
        "xColumns": null,
        "yColumns": null
       },
       "removedWidgets": [],
       "schema": [
        {
         "metadata": "{}",
         "name": "listing_id",
         "type": "\"integer\""
        },
        {
         "metadata": "{}",
         "name": "title",
         "type": "\"string\""
        },
        {
         "metadata": "{}",
         "name": "rent",
         "type": "\"integer\""
        },
        {
         "metadata": "{}",
         "name": "bedrooms",
         "type": "\"integer\""
        },
        {
         "metadata": "{}",
         "name": "post_date",
         "type": "\"string\""
        },
        {
         "metadata": "{}",
         "name": "url",
         "type": "\"string\""
        },
        {
         "metadata": "{}",
         "name": "scrape_date",
         "type": "\"date\""
        },
        {
         "metadata": "{}",
         "name": "calculated_date",
         "type": "\"date\""
        },
        {
         "metadata": "{}",
         "name": "year",
         "type": "\"integer\""
        },
        {
         "metadata": "{}",
         "name": "month",
         "type": "\"integer\""
        },
        {
         "metadata": "{}",
         "name": "location",
         "type": "\"string\""
        },
        {
         "metadata": "{}",
         "name": "type",
         "type": "\"string\""
        }
       ],
       "type": "table"
      }
     },
     "output_type": "display_data"
    }
   ],
   "source": [
    "display(listing_df.limit(5))"
   ]
  },
  {
   "cell_type": "markdown",
   "metadata": {
    "application/vnd.databricks.v1+cell": {
     "cellMetadata": {},
     "inputWidgets": {},
     "nuid": "152e9651-e2fd-443b-a713-7305ba903f37",
     "showTitle": false,
     "title": ""
    }
   },
   "source": [
    "#### Filter outliers from the dataset\n",
    "* Remove listings with rent higher than 5000 : there were some listings of houses/apt/condo with lease/buy option.\n",
    "* Remove listings with rent 0 : listings without rent mentioned"
   ]
  },
  {
   "cell_type": "code",
   "execution_count": 0,
   "metadata": {
    "application/vnd.databricks.v1+cell": {
     "cellMetadata": {
      "byteLimit": 2048000,
      "rowLimit": 10000
     },
     "inputWidgets": {},
     "nuid": "ceb1c3e3-7555-4b87-a379-e5683a929f8d",
     "showTitle": false,
     "title": ""
    }
   },
   "outputs": [],
   "source": [
    "listing_df = listing_df\\\n",
    "                     .filter(listing_df.rent < 5000)\\\n",
    "                     .filter(listing_df.rent > 0)"
   ]
  },
  {
   "cell_type": "code",
   "execution_count": 0,
   "metadata": {
    "application/vnd.databricks.v1+cell": {
     "cellMetadata": {
      "byteLimit": 2048000,
      "rowLimit": 10000
     },
     "inputWidgets": {},
     "nuid": "8055e16d-a280-4f57-82a4-e3e2de565958",
     "showTitle": false,
     "title": ""
    }
   },
   "outputs": [
    {
     "output_type": "stream",
     "name": "stdout",
     "output_type": "stream",
     "text": [
      "Out[42]: 18995"
     ]
    }
   ],
   "source": [
    "listing_df.count()"
   ]
  },
  {
   "cell_type": "markdown",
   "metadata": {
    "application/vnd.databricks.v1+cell": {
     "cellMetadata": {},
     "inputWidgets": {},
     "nuid": "28ff8ec1-aa72-4aab-b93d-7645f4b87d18",
     "showTitle": false,
     "title": ""
    }
   },
   "source": [
    "###Identify the cities with the number of listings for the scraped period ?"
   ]
  },
  {
   "cell_type": "code",
   "execution_count": 0,
   "metadata": {
    "application/vnd.databricks.v1+cell": {
     "cellMetadata": {
      "byteLimit": 2048000,
      "rowLimit": 10000
     },
     "inputWidgets": {},
     "nuid": "2bdf6ece-8063-4373-a2ba-424a413cdac2",
     "showTitle": false,
     "title": ""
    }
   },
   "outputs": [],
   "source": [
    "from pyspark.sql.functions import desc, asc"
   ]
  },
  {
   "cell_type": "code",
   "execution_count": 0,
   "metadata": {
    "application/vnd.databricks.v1+cell": {
     "cellMetadata": {
      "byteLimit": 2048000,
      "rowLimit": 10000
     },
     "inputWidgets": {},
     "nuid": "1d0eafa4-322e-4f3b-91fe-0adc053f3d45",
     "showTitle": false,
     "title": ""
    }
   },
   "outputs": [],
   "source": [
    "q1df = listing_df.groupBy(\"location\",\"type\")\\\n",
    "                 .count()\\\n",
    "                 .orderBy(desc(\"count\"), desc(\"location\"))"
   ]
  },
  {
   "cell_type": "code",
   "execution_count": 0,
   "metadata": {
    "application/vnd.databricks.v1+cell": {
     "cellMetadata": {
      "byteLimit": 2048000,
      "rowLimit": 10000
     },
     "inputWidgets": {},
     "nuid": "158c07fe-0393-43f5-b591-951c86d93407",
     "showTitle": false,
     "title": ""
    }
   },
   "outputs": [
    {
     "output_type": "display_data",
     "data": {
      "text/html": [
       "<style scoped>\n  .table-result-container {\n    max-height: 300px;\n    overflow: auto;\n  }\n  table, th, td {\n    border: 1px solid black;\n    border-collapse: collapse;\n  }\n  th, td {\n    padding: 5px;\n  }\n  th {\n    text-align: left;\n  }\n</style><div class='table-result-container'><table class='table-result'><thead style='background-color: white'><tr><th>location</th><th>type</th><th>count</th></tr></thead><tbody><tr><td>toronto</td><td>apartment/condo</td><td>4132</td></tr><tr><td>toronto</td><td>house</td><td>3071</td></tr><tr><td>mississauga</td><td>house</td><td>1449</td></tr><tr><td>mississauga</td><td>apartment/condo</td><td>1317</td></tr><tr><td>brampton</td><td>house</td><td>1014</td></tr></tbody></table></div>"
      ]
     },
     "metadata": {
      "application/vnd.databricks.v1+output": {
       "addedWidgets": {},
       "aggData": [],
       "aggError": "",
       "aggOverflow": false,
       "aggSchema": [],
       "aggSeriesLimitReached": false,
       "aggType": "",
       "arguments": {},
       "columnCustomDisplayInfos": {},
       "data": [
        [
         "toronto",
         "apartment/condo",
         4132
        ],
        [
         "toronto",
         "house",
         3071
        ],
        [
         "mississauga",
         "house",
         1449
        ],
        [
         "mississauga",
         "apartment/condo",
         1317
        ],
        [
         "brampton",
         "house",
         1014
        ]
       ],
       "datasetInfos": [],
       "dbfsResultPath": null,
       "isJsonSchema": true,
       "metadata": {},
       "overflow": false,
       "plotOptions": {
        "customPlotOptions": {},
        "displayType": "table",
        "pivotAggregation": null,
        "pivotColumns": null,
        "xColumns": null,
        "yColumns": null
       },
       "removedWidgets": [],
       "schema": [
        {
         "metadata": "{}",
         "name": "location",
         "type": "\"string\""
        },
        {
         "metadata": "{}",
         "name": "type",
         "type": "\"string\""
        },
        {
         "metadata": "{}",
         "name": "count",
         "type": "\"long\""
        }
       ],
       "type": "table"
      }
     },
     "output_type": "display_data"
    }
   ],
   "source": [
    "display(q1df.limit(5))"
   ]
  },
  {
   "cell_type": "code",
   "execution_count": 0,
   "metadata": {
    "application/vnd.databricks.v1+cell": {
     "cellMetadata": {
      "byteLimit": 2048000,
      "rowLimit": 10000
     },
     "inputWidgets": {},
     "nuid": "b0b3f3e4-9c2c-41a7-9ec1-664acfc7e6b0",
     "showTitle": false,
     "title": ""
    }
   },
   "outputs": [],
   "source": [
    "path = \"abfs://presentation@kijijidata.dfs.core.windows.net/\" \n",
    "q1df.write\\\n",
    "    .mode(\"overwrite\")\\\n",
    "    .parquet(path+\"count_per_city\")"
   ]
  },
  {
   "cell_type": "markdown",
   "metadata": {
    "application/vnd.databricks.v1+cell": {
     "cellMetadata": {},
     "inputWidgets": {},
     "nuid": "d7147cc3-adb3-4038-a447-23027f7543c7",
     "showTitle": false,
     "title": ""
    }
   },
   "source": [
    "#### Top cities with the highest average rent?\n",
    "* remove listings with 0 bed rooms : some listings doe not include the number of beds"
   ]
  },
  {
   "cell_type": "code",
   "execution_count": 0,
   "metadata": {
    "application/vnd.databricks.v1+cell": {
     "cellMetadata": {
      "byteLimit": 2048000,
      "rowLimit": 10000
     },
     "inputWidgets": {},
     "nuid": "25eb280f-078a-41b2-91bd-160c754ac168",
     "showTitle": false,
     "title": ""
    }
   },
   "outputs": [],
   "source": [
    "from pyspark.sql.functions import round, avg"
   ]
  },
  {
   "cell_type": "code",
   "execution_count": 0,
   "metadata": {
    "application/vnd.databricks.v1+cell": {
     "cellMetadata": {
      "byteLimit": 2048000,
      "rowLimit": 10000
     },
     "inputWidgets": {},
     "nuid": "e14bbf24-c6c0-48fd-816d-c59ae6b31f33",
     "showTitle": false,
     "title": ""
    }
   },
   "outputs": [],
   "source": [
    "q2df = listing_df.filter(listing_df.bedrooms > 0)\\\n",
    "                 .groupBy(\"location\",\"type\",\"bedrooms\")\\\n",
    "                 .agg(round(avg(\"rent\"),2).alias(\"avg_rent\"))\\\n",
    "                 .orderBy(desc(\"avg_rent\"))"
   ]
  },
  {
   "cell_type": "code",
   "execution_count": 0,
   "metadata": {
    "application/vnd.databricks.v1+cell": {
     "cellMetadata": {
      "byteLimit": 2048000,
      "rowLimit": 10000
     },
     "inputWidgets": {},
     "nuid": "151dd74a-c4ce-41b5-b4bc-86d4cdfa22a8",
     "showTitle": false,
     "title": ""
    }
   },
   "outputs": [
    {
     "output_type": "display_data",
     "data": {
      "text/html": [
       "<style scoped>\n  .table-result-container {\n    max-height: 300px;\n    overflow: auto;\n  }\n  table, th, td {\n    border: 1px solid black;\n    border-collapse: collapse;\n  }\n  th, td {\n    padding: 5px;\n  }\n  th {\n    text-align: left;\n  }\n</style><div class='table-result-container'><table class='table-result'><thead style='background-color: white'><tr><th>location</th><th>type</th><th>bedrooms</th><th>avg_rent</th></tr></thead><tbody><tr><td>vaughan</td><td>apartment/condo</td><td>5</td><td>4800.0</td></tr><tr><td>old toronto</td><td>house</td><td>3</td><td>4600.0</td></tr><tr><td>vaughan</td><td>house</td><td>5</td><td>4560.0</td></tr><tr><td>woodbridge</td><td>apartment/condo</td><td>4</td><td>4500.0</td></tr><tr><td>woodbridge</td><td>house</td><td>4</td><td>4500.0</td></tr></tbody></table></div>"
      ]
     },
     "metadata": {
      "application/vnd.databricks.v1+output": {
       "addedWidgets": {},
       "aggData": [],
       "aggError": "",
       "aggOverflow": false,
       "aggSchema": [],
       "aggSeriesLimitReached": false,
       "aggType": "",
       "arguments": {},
       "columnCustomDisplayInfos": {},
       "data": [
        [
         "vaughan",
         "apartment/condo",
         5,
         4800.0
        ],
        [
         "old toronto",
         "house",
         3,
         4600.0
        ],
        [
         "vaughan",
         "house",
         5,
         4560.0
        ],
        [
         "woodbridge",
         "apartment/condo",
         4,
         4500.0
        ],
        [
         "woodbridge",
         "house",
         4,
         4500.0
        ]
       ],
       "datasetInfos": [],
       "dbfsResultPath": null,
       "isJsonSchema": true,
       "metadata": {},
       "overflow": false,
       "plotOptions": {
        "customPlotOptions": {},
        "displayType": "table",
        "pivotAggregation": null,
        "pivotColumns": null,
        "xColumns": null,
        "yColumns": null
       },
       "removedWidgets": [],
       "schema": [
        {
         "metadata": "{}",
         "name": "location",
         "type": "\"string\""
        },
        {
         "metadata": "{}",
         "name": "type",
         "type": "\"string\""
        },
        {
         "metadata": "{}",
         "name": "bedrooms",
         "type": "\"integer\""
        },
        {
         "metadata": "{}",
         "name": "avg_rent",
         "type": "\"double\""
        }
       ],
       "type": "table"
      }
     },
     "output_type": "display_data"
    }
   ],
   "source": [
    "display(q2df.limit(5))"
   ]
  },
  {
   "cell_type": "code",
   "execution_count": 0,
   "metadata": {
    "application/vnd.databricks.v1+cell": {
     "cellMetadata": {
      "byteLimit": 2048000,
      "rowLimit": 10000
     },
     "inputWidgets": {},
     "nuid": "5f58b816-95fe-4656-8f67-5e12eb6b72b4",
     "showTitle": false,
     "title": ""
    }
   },
   "outputs": [
    {
     "output_type": "display_data",
     "data": {
      "text/html": [
       "<style scoped>\n  .table-result-container {\n    max-height: 300px;\n    overflow: auto;\n  }\n  table, th, td {\n    border: 1px solid black;\n    border-collapse: collapse;\n  }\n  th, td {\n    padding: 5px;\n  }\n  th {\n    text-align: left;\n  }\n</style><div class='table-result-container'><table class='table-result'><thead style='background-color: white'><tr><th>location</th><th>type</th><th>bedrooms</th><th>avg_rent</th></tr></thead><tbody><tr><td>toronto</td><td>house</td><td>5</td><td>4283.13</td></tr><tr><td>toronto</td><td>apartment/condo</td><td>5</td><td>3791.67</td></tr><tr><td>toronto</td><td>house</td><td>4</td><td>3372.93</td></tr><tr><td>toronto</td><td>apartment/condo</td><td>4</td><td>3142.53</td></tr><tr><td>toronto</td><td>apartment/condo</td><td>3</td><td>3106.23</td></tr></tbody></table></div>"
      ]
     },
     "metadata": {
      "application/vnd.databricks.v1+output": {
       "addedWidgets": {},
       "aggData": [],
       "aggError": "",
       "aggOverflow": false,
       "aggSchema": [],
       "aggSeriesLimitReached": false,
       "aggType": "",
       "arguments": {},
       "columnCustomDisplayInfos": {},
       "data": [
        [
         "toronto",
         "house",
         5,
         4283.13
        ],
        [
         "toronto",
         "apartment/condo",
         5,
         3791.67
        ],
        [
         "toronto",
         "house",
         4,
         3372.93
        ],
        [
         "toronto",
         "apartment/condo",
         4,
         3142.53
        ],
        [
         "toronto",
         "apartment/condo",
         3,
         3106.23
        ]
       ],
       "datasetInfos": [],
       "dbfsResultPath": null,
       "isJsonSchema": true,
       "metadata": {},
       "overflow": false,
       "plotOptions": {
        "customPlotOptions": {},
        "displayType": "table",
        "pivotAggregation": null,
        "pivotColumns": null,
        "xColumns": null,
        "yColumns": null
       },
       "removedWidgets": [],
       "schema": [
        {
         "metadata": "{}",
         "name": "location",
         "type": "\"string\""
        },
        {
         "metadata": "{}",
         "name": "type",
         "type": "\"string\""
        },
        {
         "metadata": "{}",
         "name": "bedrooms",
         "type": "\"integer\""
        },
        {
         "metadata": "{}",
         "name": "avg_rent",
         "type": "\"double\""
        }
       ],
       "type": "table"
      }
     },
     "output_type": "display_data"
    }
   ],
   "source": [
    "display(q2df[q2df.location==\"toronto\"].limit(5))"
   ]
  },
  {
   "cell_type": "code",
   "execution_count": 0,
   "metadata": {
    "application/vnd.databricks.v1+cell": {
     "cellMetadata": {
      "byteLimit": 2048000,
      "rowLimit": 10000
     },
     "inputWidgets": {},
     "nuid": "49026612-3831-4c13-9cf7-71bb56f35f26",
     "showTitle": false,
     "title": ""
    }
   },
   "outputs": [],
   "source": [
    "path = \"abfs://presentation@kijijidata.dfs.core.windows.net/\" \n",
    "q2df.write\\\n",
    "    .mode(\"overwrite\")\\\n",
    "    .parquet(path+\"avg_rent_per_city\")"
   ]
  },
  {
   "cell_type": "markdown",
   "metadata": {
    "application/vnd.databricks.v1+cell": {
     "cellMetadata": {},
     "inputWidgets": {},
     "nuid": "0ce14f26-e8c3-4f12-9207-a4442af72d09",
     "showTitle": false,
     "title": ""
    }
   },
   "source": [
    "#### Which city has the most affordable 1 BHK apartment for rent?"
   ]
  },
  {
   "cell_type": "code",
   "execution_count": 0,
   "metadata": {
    "application/vnd.databricks.v1+cell": {
     "cellMetadata": {
      "byteLimit": 2048000,
      "rowLimit": 10000
     },
     "inputWidgets": {},
     "nuid": "45d627f0-b01a-479e-a62b-b566d62b864a",
     "showTitle": false,
     "title": ""
    }
   },
   "outputs": [
    {
     "output_type": "display_data",
     "data": {
      "text/html": [
       "<style scoped>\n  .table-result-container {\n    max-height: 300px;\n    overflow: auto;\n  }\n  table, th, td {\n    border: 1px solid black;\n    border-collapse: collapse;\n  }\n  th, td {\n    padding: 5px;\n  }\n  th {\n    text-align: left;\n  }\n</style><div class='table-result-container'><table class='table-result'><thead style='background-color: white'><tr><th>location</th><th>type</th><th>bedrooms</th><th>avg_rent</th></tr></thead><tbody><tr><td>bramalea</td><td>apartment/condo</td><td>1</td><td>475.0</td></tr><tr><td>courtice</td><td>house</td><td>1</td><td>775.0</td></tr><tr><td>caledon east</td><td>house</td><td>1</td><td>800.0</td></tr><tr><td>samac</td><td>house</td><td>1</td><td>850.0</td></tr><tr><td>old malton village</td><td>house</td><td>1</td><td>900.0</td></tr></tbody></table></div>"
      ]
     },
     "metadata": {
      "application/vnd.databricks.v1+output": {
       "addedWidgets": {},
       "aggData": [],
       "aggError": "",
       "aggOverflow": false,
       "aggSchema": [],
       "aggSeriesLimitReached": false,
       "aggType": "",
       "arguments": {},
       "columnCustomDisplayInfos": {},
       "data": [
        [
         "bramalea",
         "apartment/condo",
         1,
         475.0
        ],
        [
         "courtice",
         "house",
         1,
         775.0
        ],
        [
         "caledon east",
         "house",
         1,
         800.0
        ],
        [
         "samac",
         "house",
         1,
         850.0
        ],
        [
         "old malton village",
         "house",
         1,
         900.0
        ]
       ],
       "datasetInfos": [],
       "dbfsResultPath": null,
       "isJsonSchema": true,
       "metadata": {},
       "overflow": false,
       "plotOptions": {
        "customPlotOptions": {},
        "displayType": "table",
        "pivotAggregation": null,
        "pivotColumns": null,
        "xColumns": null,
        "yColumns": null
       },
       "removedWidgets": [],
       "schema": [
        {
         "metadata": "{}",
         "name": "location",
         "type": "\"string\""
        },
        {
         "metadata": "{}",
         "name": "type",
         "type": "\"string\""
        },
        {
         "metadata": "{}",
         "name": "bedrooms",
         "type": "\"integer\""
        },
        {
         "metadata": "{}",
         "name": "avg_rent",
         "type": "\"double\""
        }
       ],
       "type": "table"
      }
     },
     "output_type": "display_data"
    }
   ],
   "source": [
    "display(q2df.filter(q2df.bedrooms==1)\\\n",
    "    .orderBy(asc(\"avg_rent\"))\\\n",
    "    .limit(5))"
   ]
  },
  {
   "cell_type": "markdown",
   "metadata": {
    "application/vnd.databricks.v1+cell": {
     "cellMetadata": {},
     "inputWidgets": {},
     "nuid": "e83c0b6d-1dd5-4426-b79f-38ac0deeb846",
     "showTitle": false,
     "title": ""
    }
   },
   "source": [
    "Looking at the avg rent, this is probably a room sharing listing."
   ]
  },
  {
   "cell_type": "code",
   "execution_count": 0,
   "metadata": {
    "application/vnd.databricks.v1+cell": {
     "cellMetadata": {},
     "inputWidgets": {},
     "nuid": "81a526f5-8902-49dd-8412-93ba736fc9a8",
     "showTitle": false,
     "title": ""
    }
   },
   "outputs": [],
   "source": []
  }
 ],
 "metadata": {
  "application/vnd.databricks.v1+notebook": {
   "dashboards": [],
   "language": "python",
   "notebookMetadata": {
    "pythonIndentUnit": 4
   },
   "notebookName": "Analysis",
   "notebookOrigID": 3354036332381205,
   "widgets": {}
  }
 },
 "nbformat": 4,
 "nbformat_minor": 0
}
