{
 "cells": [
  {
   "cell_type": "markdown",
   "metadata": {
    "application/vnd.databricks.v1+cell": {
     "cellMetadata": {
      "byteLimit": 2048000,
      "rowLimit": 10000
     },
     "inputWidgets": {},
     "nuid": "7629cab4-8862-4b3b-a420-9e2f70959cf8",
     "showTitle": false,
     "title": ""
    }
   },
   "source": [
    "##### Access Azure data lake and read the data using\n",
    "1. Databricks secretScope\n",
    "2. Azure key-vault"
   ]
  },
  {
   "cell_type": "code",
   "execution_count": 0,
   "metadata": {
    "application/vnd.databricks.v1+cell": {
     "cellMetadata": {
      "byteLimit": 2048000,
      "rowLimit": 10000
     },
     "inputWidgets": {},
     "nuid": "ddd0f67f-c9be-4d34-866d-44472d9d2c2b",
     "showTitle": false,
     "title": ""
    }
   },
   "outputs": [
    {
     "output_type": "display_data",
     "data": {
      "text/html": [
       "<div class = \"ansiout\">\nProvides utilities for leveraging secrets within notebooks.\nDatabricks documentation for more info.\n    <h3></h3><b>get(scope: String, key: String): String</b> -> Gets the string representation of a secret value with scope and key<br /><b>getBytes(scope: String, key: String): byte[]</b> -> Gets the bytes representation of a secret value with scope and key<br /><b>list(scope: String): Seq</b> -> Lists secret metadata for secrets within a scope<br /><b>listScopes: Seq</b> -> Lists secret scopes<br /><br /></div>"
      ]
     },
     "metadata": {
      "application/vnd.databricks.v1+output": {
       "addedWidgets": {},
       "arguments": {},
       "data": "<div class = \"ansiout\">\nProvides utilities for leveraging secrets within notebooks.\nDatabricks documentation for more info.\n    <h3></h3><b>get(scope: String, key: String): String</b> -> Gets the string representation of a secret value with scope and key<br /><b>getBytes(scope: String, key: String): byte[]</b> -> Gets the bytes representation of a secret value with scope and key<br /><b>list(scope: String): Seq</b> -> Lists secret metadata for secrets within a scope<br /><b>listScopes: Seq</b> -> Lists secret scopes<br /><br /></div>",
       "datasetInfos": [],
       "metadata": {},
       "removedWidgets": [],
       "textData": null,
       "type": "htmlSandbox"
      }
     },
     "output_type": "display_data"
    }
   ],
   "source": [
    "dbutils.secrets.help()"
   ]
  },
  {
   "cell_type": "code",
   "execution_count": 0,
   "metadata": {
    "application/vnd.databricks.v1+cell": {
     "cellMetadata": {
      "byteLimit": 2048000,
      "rowLimit": 10000
     },
     "inputWidgets": {},
     "nuid": "27b54094-73ad-4f74-89f6-97c84e333b35",
     "showTitle": false,
     "title": ""
    }
   },
   "outputs": [
    {
     "output_type": "stream",
     "name": "stdout",
     "output_type": "stream",
     "text": [
      "Out[2]: [SecretScope(name='kijiji-data-scope')]"
     ]
    }
   ],
   "source": [
    "dbutils.secrets.listScopes()"
   ]
  },
  {
   "cell_type": "code",
   "execution_count": 0,
   "metadata": {
    "application/vnd.databricks.v1+cell": {
     "cellMetadata": {
      "byteLimit": 2048000,
      "rowLimit": 10000
     },
     "inputWidgets": {},
     "nuid": "b72f217e-206e-4287-a892-e625e03bf76d",
     "showTitle": false,
     "title": ""
    }
   },
   "outputs": [
    {
     "output_type": "stream",
     "name": "stdout",
     "output_type": "stream",
     "text": [
      "Out[3]: [SecretMetadata(key='account-key')]"
     ]
    }
   ],
   "source": [
    "dbutils.secrets.list(scope='kijiji-data-scope')"
   ]
  },
  {
   "cell_type": "code",
   "execution_count": 0,
   "metadata": {
    "application/vnd.databricks.v1+cell": {
     "cellMetadata": {
      "byteLimit": 2048000,
      "rowLimit": 10000
     },
     "inputWidgets": {},
     "nuid": "0245e556-c15a-42de-b785-99d3ddfab181",
     "showTitle": false,
     "title": ""
    }
   },
   "outputs": [],
   "source": [
    "account_key = dbutils.secrets.get(scope='kijiji-data-scope',key='account-key')"
   ]
  },
  {
   "cell_type": "code",
   "execution_count": 0,
   "metadata": {
    "application/vnd.databricks.v1+cell": {
     "cellMetadata": {
      "byteLimit": 2048000,
      "rowLimit": 10000
     },
     "inputWidgets": {},
     "nuid": "6df12bd5-af40-40a8-a3ff-77154ceb258f",
     "showTitle": false,
     "title": ""
    }
   },
   "outputs": [],
   "source": [
    "spark.conf.set(\n",
    "    \"fs.azure.account.key.kijijidata.dfs.core.windows.net\",\n",
    "    account_key\n",
    ")"
   ]
  },
  {
   "cell_type": "markdown",
   "metadata": {
    "application/vnd.databricks.v1+cell": {
     "cellMetadata": {
      "byteLimit": 2048000,
      "rowLimit": 10000
     },
     "inputWidgets": {},
     "nuid": "eeb15708-1655-4471-9950-39323acab899",
     "showTitle": false,
     "title": ""
    }
   },
   "source": [
    "##### check the access to ADLS"
   ]
  },
  {
   "cell_type": "code",
   "execution_count": 0,
   "metadata": {
    "application/vnd.databricks.v1+cell": {
     "cellMetadata": {
      "byteLimit": 2048000,
      "rowLimit": 10000
     },
     "inputWidgets": {},
     "nuid": "37593221-ae06-4a59-8697-d3946029c854",
     "showTitle": false,
     "title": ""
    }
   },
   "outputs": [
    {
     "output_type": "display_data",
     "data": {
      "text/html": [
       "<style scoped>\n  .table-result-container {\n    max-height: 300px;\n    overflow: auto;\n  }\n  table, th, td {\n    border: 1px solid black;\n    border-collapse: collapse;\n  }\n  th, td {\n    padding: 5px;\n  }\n  th {\n    text-align: left;\n  }\n</style><div class='table-result-container'><table class='table-result'><thead style='background-color: white'><tr><th>path</th><th>name</th><th>size</th><th>modificationTime</th></tr></thead><tbody><tr><td>abfs://raw@kijijidata.dfs.core.windows.net/house/</td><td>house/</td><td>0</td><td>1680861678000</td></tr></tbody></table></div>"
      ]
     },
     "metadata": {
      "application/vnd.databricks.v1+output": {
       "addedWidgets": {},
       "aggData": [],
       "aggError": "",
       "aggOverflow": false,
       "aggSchema": [],
       "aggSeriesLimitReached": false,
       "aggType": "",
       "arguments": {},
       "columnCustomDisplayInfos": {},
       "data": [
        [
         "abfs://raw@kijijidata.dfs.core.windows.net/house/",
         "house/",
         0,
         1680861678000
        ]
       ],
       "datasetInfos": [],
       "dbfsResultPath": null,
       "isJsonSchema": true,
       "metadata": {},
       "overflow": false,
       "plotOptions": {
        "customPlotOptions": {},
        "displayType": "table",
        "pivotAggregation": null,
        "pivotColumns": null,
        "xColumns": null,
        "yColumns": null
       },
       "removedWidgets": [],
       "schema": [
        {
         "metadata": "{}",
         "name": "path",
         "type": "\"string\""
        },
        {
         "metadata": "{}",
         "name": "name",
         "type": "\"string\""
        },
        {
         "metadata": "{}",
         "name": "size",
         "type": "\"long\""
        },
        {
         "metadata": "{}",
         "name": "modificationTime",
         "type": "\"long\""
        }
       ],
       "type": "table"
      }
     },
     "output_type": "display_data"
    }
   ],
   "source": [
    "display(dbutils.fs.ls(\"abfs://raw@kijijidata.dfs.core.windows.net\"))"
   ]
  },
  {
   "cell_type": "code",
   "execution_count": 0,
   "metadata": {
    "application/vnd.databricks.v1+cell": {
     "cellMetadata": {
      "byteLimit": 2048000,
      "rowLimit": 10000
     },
     "inputWidgets": {},
     "nuid": "682e0e69-6cae-432e-8858-65db499631ab",
     "showTitle": false,
     "title": ""
    }
   },
   "outputs": [
    {
     "output_type": "display_data",
     "data": {
      "text/html": [
       "<style scoped>\n  .table-result-container {\n    max-height: 300px;\n    overflow: auto;\n  }\n  table, th, td {\n    border: 1px solid black;\n    border-collapse: collapse;\n  }\n  th, td {\n    padding: 5px;\n  }\n  th {\n    text-align: left;\n  }\n</style><div class='table-result-container'><table class='table-result'><thead style='background-color: white'><tr><th>path</th><th>name</th><th>size</th><th>modificationTime</th></tr></thead><tbody><tr><td>abfs://raw@kijijidata.dfs.core.windows.net/house/2023-04-01/</td><td>2023-04-01/</td><td>0</td><td>1681308161000</td></tr><tr><td>abfs://raw@kijijidata.dfs.core.windows.net/house/2023-04-02/</td><td>2023-04-02/</td><td>0</td><td>1681308177000</td></tr><tr><td>abfs://raw@kijijidata.dfs.core.windows.net/house/2023-04-03/</td><td>2023-04-03/</td><td>0</td><td>1681308181000</td></tr><tr><td>abfs://raw@kijijidata.dfs.core.windows.net/house/2023-04-04/</td><td>2023-04-04/</td><td>0</td><td>1681308195000</td></tr><tr><td>abfs://raw@kijijidata.dfs.core.windows.net/house/2023-04-05/</td><td>2023-04-05/</td><td>0</td><td>1681308220000</td></tr><tr><td>abfs://raw@kijijidata.dfs.core.windows.net/house/2023-04-06/</td><td>2023-04-06/</td><td>0</td><td>1681308235000</td></tr><tr><td>abfs://raw@kijijidata.dfs.core.windows.net/house/2023-04-07/</td><td>2023-04-07/</td><td>0</td><td>1681308250000</td></tr></tbody></table></div>"
      ]
     },
     "metadata": {
      "application/vnd.databricks.v1+output": {
       "addedWidgets": {},
       "aggData": [],
       "aggError": "",
       "aggOverflow": false,
       "aggSchema": [],
       "aggSeriesLimitReached": false,
       "aggType": "",
       "arguments": {},
       "columnCustomDisplayInfos": {},
       "data": [
        [
         "abfs://raw@kijijidata.dfs.core.windows.net/house/2023-04-01/",
         "2023-04-01/",
         0,
         1681308161000
        ],
        [
         "abfs://raw@kijijidata.dfs.core.windows.net/house/2023-04-02/",
         "2023-04-02/",
         0,
         1681308177000
        ],
        [
         "abfs://raw@kijijidata.dfs.core.windows.net/house/2023-04-03/",
         "2023-04-03/",
         0,
         1681308181000
        ],
        [
         "abfs://raw@kijijidata.dfs.core.windows.net/house/2023-04-04/",
         "2023-04-04/",
         0,
         1681308195000
        ],
        [
         "abfs://raw@kijijidata.dfs.core.windows.net/house/2023-04-05/",
         "2023-04-05/",
         0,
         1681308220000
        ],
        [
         "abfs://raw@kijijidata.dfs.core.windows.net/house/2023-04-06/",
         "2023-04-06/",
         0,
         1681308235000
        ],
        [
         "abfs://raw@kijijidata.dfs.core.windows.net/house/2023-04-07/",
         "2023-04-07/",
         0,
         1681308250000
        ]
       ],
       "datasetInfos": [],
       "dbfsResultPath": null,
       "isJsonSchema": true,
       "metadata": {},
       "overflow": false,
       "plotOptions": {
        "customPlotOptions": {},
        "displayType": "table",
        "pivotAggregation": null,
        "pivotColumns": null,
        "xColumns": null,
        "yColumns": null
       },
       "removedWidgets": [],
       "schema": [
        {
         "metadata": "{}",
         "name": "path",
         "type": "\"string\""
        },
        {
         "metadata": "{}",
         "name": "name",
         "type": "\"string\""
        },
        {
         "metadata": "{}",
         "name": "size",
         "type": "\"long\""
        },
        {
         "metadata": "{}",
         "name": "modificationTime",
         "type": "\"long\""
        }
       ],
       "type": "table"
      }
     },
     "output_type": "display_data"
    }
   ],
   "source": [
    "display(dbutils.fs.ls(\"abfs://raw@kijijidata.dfs.core.windows.net/house/\"))"
   ]
  },
  {
   "cell_type": "code",
   "execution_count": 0,
   "metadata": {
    "application/vnd.databricks.v1+cell": {
     "cellMetadata": {
      "byteLimit": 2048000,
      "rowLimit": 10000
     },
     "inputWidgets": {},
     "nuid": "7283830f-c516-4bc0-8a24-5c6cac926f3c",
     "showTitle": false,
     "title": ""
    }
   },
   "outputs": [
    {
     "output_type": "display_data",
     "data": {
      "text/html": [
       "<style scoped>\n  .table-result-container {\n    max-height: 300px;\n    overflow: auto;\n  }\n  table, th, td {\n    border: 1px solid black;\n    border-collapse: collapse;\n  }\n  th, td {\n    padding: 5px;\n  }\n  th {\n    text-align: left;\n  }\n</style><div class='table-result-container'><table class='table-result'><thead style='background-color: white'><tr><th>path</th><th>name</th><th>size</th><th>modificationTime</th></tr></thead><tbody><tr><td>abfs://raw@kijijidata.dfs.core.windows.net/house/2023-04-06/kijiji_gta_1_2023-04-06.csv</td><td>kijiji_gta_1_2023-04-06.csv</td><td>189767</td><td>1681309550000</td></tr><tr><td>abfs://raw@kijijidata.dfs.core.windows.net/house/2023-04-06/kijiji_gta_21_2023-04-06.csv</td><td>kijiji_gta_21_2023-04-06.csv</td><td>79542</td><td>1681309550000</td></tr><tr><td>abfs://raw@kijijidata.dfs.core.windows.net/house/2023-04-06/kijiji_gta_41_2023-04-06.csv</td><td>kijiji_gta_41_2023-04-06.csv</td><td>60</td><td>1681309550000</td></tr><tr><td>abfs://raw@kijijidata.dfs.core.windows.net/house/2023-04-06/kijiji_gta_61_2023-04-06.csv</td><td>kijiji_gta_61_2023-04-06.csv</td><td>60</td><td>1681309550000</td></tr><tr><td>abfs://raw@kijijidata.dfs.core.windows.net/house/2023-04-06/kijiji_gta_81_2023-04-06.csv</td><td>kijiji_gta_81_2023-04-06.csv</td><td>60</td><td>1681309550000</td></tr></tbody></table></div>"
      ]
     },
     "metadata": {
      "application/vnd.databricks.v1+output": {
       "addedWidgets": {},
       "aggData": [],
       "aggError": "",
       "aggOverflow": false,
       "aggSchema": [],
       "aggSeriesLimitReached": false,
       "aggType": "",
       "arguments": {},
       "columnCustomDisplayInfos": {},
       "data": [
        [
         "abfs://raw@kijijidata.dfs.core.windows.net/house/2023-04-06/kijiji_gta_1_2023-04-06.csv",
         "kijiji_gta_1_2023-04-06.csv",
         189767,
         1681309550000
        ],
        [
         "abfs://raw@kijijidata.dfs.core.windows.net/house/2023-04-06/kijiji_gta_21_2023-04-06.csv",
         "kijiji_gta_21_2023-04-06.csv",
         79542,
         1681309550000
        ],
        [
         "abfs://raw@kijijidata.dfs.core.windows.net/house/2023-04-06/kijiji_gta_41_2023-04-06.csv",
         "kijiji_gta_41_2023-04-06.csv",
         60,
         1681309550000
        ],
        [
         "abfs://raw@kijijidata.dfs.core.windows.net/house/2023-04-06/kijiji_gta_61_2023-04-06.csv",
         "kijiji_gta_61_2023-04-06.csv",
         60,
         1681309550000
        ],
        [
         "abfs://raw@kijijidata.dfs.core.windows.net/house/2023-04-06/kijiji_gta_81_2023-04-06.csv",
         "kijiji_gta_81_2023-04-06.csv",
         60,
         1681309550000
        ]
       ],
       "datasetInfos": [],
       "dbfsResultPath": null,
       "isJsonSchema": true,
       "metadata": {},
       "overflow": false,
       "plotOptions": {
        "customPlotOptions": {},
        "displayType": "table",
        "pivotAggregation": null,
        "pivotColumns": null,
        "xColumns": null,
        "yColumns": null
       },
       "removedWidgets": [],
       "schema": [
        {
         "metadata": "{}",
         "name": "path",
         "type": "\"string\""
        },
        {
         "metadata": "{}",
         "name": "name",
         "type": "\"string\""
        },
        {
         "metadata": "{}",
         "name": "size",
         "type": "\"long\""
        },
        {
         "metadata": "{}",
         "name": "modificationTime",
         "type": "\"long\""
        }
       ],
       "type": "table"
      }
     },
     "output_type": "display_data"
    }
   ],
   "source": [
    "display(dbutils.fs.ls(\"abfs://raw@kijijidata.dfs.core.windows.net/house/2023-04-06/\"))"
   ]
  },
  {
   "cell_type": "code",
   "execution_count": 0,
   "metadata": {
    "application/vnd.databricks.v1+cell": {
     "cellMetadata": {
      "byteLimit": 2048000,
      "rowLimit": 10000
     },
     "inputWidgets": {},
     "nuid": "097771cb-3876-4f32-ad2a-bdf3ce459be6",
     "showTitle": false,
     "title": ""
    }
   },
   "outputs": [
    {
     "output_type": "display_data",
     "data": {
      "text/html": [
       "<style scoped>\n  .table-result-container {\n    max-height: 300px;\n    overflow: auto;\n  }\n  table, th, td {\n    border: 1px solid black;\n    border-collapse: collapse;\n  }\n  th, td {\n    padding: 5px;\n  }\n  th {\n    text-align: left;\n  }\n</style><div class='table-result-container'><table class='table-result'><thead style='background-color: white'><tr><th>_c0</th><th>_c1</th><th>_c2</th><th>_c3</th><th>_c4</th><th>_c5</th><th>_c6</th><th>_c7</th></tr></thead><tbody><tr><td>id</td><td>title</td><td>location</td><td>rent</td><td>bed_rooms</td><td>date_posted</td><td>url</td><td>scraped_on</td></tr><tr><td>1655524549</td><td>Spacious 4 bed, 4 bath, 3300sf detached house in Oshawa for rent</td><td>Oshawa</td><td>Please Contact</td><td>4 + Den</td><td>Yesterday</td><td>https://www.kijiji.ca/v-apartments-condos/oshawa-durham-region/spacious-4-bed-4-bath-3300sf-detached-house-in-oshawa-for-rent/1655524549</td><td>2023-04-06</td></tr><tr><td>1655493604</td><td>****BUY HOUSE WITH 0% DOWN****</td><td>Brampton</td><td>$2,000.00</td><td>3</td><td>04/04/2023</td><td>https://www.kijiji.ca/v-apartments-condos/mississauga-peel-region/buy-house-with-0-down/1655493604</td><td>2023-04-06</td></tr><tr><td>1654499999</td><td>Gorgeous House 4 Beds + 4 Baths in Mississauga Churchill Meadows</td><td>Mississauga</td><td>$3,700.00</td><td>4</td><td>< 17 hours ago</td><td>https://www.kijiji.ca/v-apartments-condos/mississauga-peel-region/gorgeous-house-4-beds-4-baths-in-mississauga-churchill-meadows/1654499999</td><td>2023-04-06</td></tr><tr><td>1655040573</td><td>Bright and clean 3+1 Br semi in Bronte Oakville & steps to lake</td><td>Oakville</td><td>$3,700.00</td><td>3</td><td>31/03/2023</td><td>https://www.kijiji.ca/v-apartments-condos/oakville-halton-region/bright-and-clean-3-1-br-semi-in-bronte-oakville-steps-to-lake/1655040573</td><td>2023-04-06</td></tr></tbody></table></div>"
      ]
     },
     "metadata": {
      "application/vnd.databricks.v1+output": {
       "addedWidgets": {},
       "aggData": [],
       "aggError": "",
       "aggOverflow": false,
       "aggSchema": [],
       "aggSeriesLimitReached": false,
       "aggType": "",
       "arguments": {},
       "columnCustomDisplayInfos": {},
       "data": [
        [
         "id",
         "title",
         "location",
         "rent",
         "bed_rooms",
         "date_posted",
         "url",
         "scraped_on"
        ],
        [
         "1655524549",
         "Spacious 4 bed, 4 bath, 3300sf detached house in Oshawa for rent",
         "Oshawa",
         "Please Contact",
         "4 + Den",
         "Yesterday",
         "https://www.kijiji.ca/v-apartments-condos/oshawa-durham-region/spacious-4-bed-4-bath-3300sf-detached-house-in-oshawa-for-rent/1655524549",
         "2023-04-06"
        ],
        [
         "1655493604",
         "****BUY HOUSE WITH 0% DOWN****",
         "Brampton",
         "$2,000.00",
         "3",
         "04/04/2023",
         "https://www.kijiji.ca/v-apartments-condos/mississauga-peel-region/buy-house-with-0-down/1655493604",
         "2023-04-06"
        ],
        [
         "1654499999",
         "Gorgeous House 4 Beds + 4 Baths in Mississauga Churchill Meadows",
         "Mississauga",
         "$3,700.00",
         "4",
         "< 17 hours ago",
         "https://www.kijiji.ca/v-apartments-condos/mississauga-peel-region/gorgeous-house-4-beds-4-baths-in-mississauga-churchill-meadows/1654499999",
         "2023-04-06"
        ],
        [
         "1655040573",
         "Bright and clean 3+1 Br semi in Bronte Oakville & steps to lake",
         "Oakville",
         "$3,700.00",
         "3",
         "31/03/2023",
         "https://www.kijiji.ca/v-apartments-condos/oakville-halton-region/bright-and-clean-3-1-br-semi-in-bronte-oakville-steps-to-lake/1655040573",
         "2023-04-06"
        ]
       ],
       "datasetInfos": [],
       "dbfsResultPath": null,
       "isJsonSchema": true,
       "metadata": {},
       "overflow": false,
       "plotOptions": {
        "customPlotOptions": {},
        "displayType": "table",
        "pivotAggregation": null,
        "pivotColumns": null,
        "xColumns": null,
        "yColumns": null
       },
       "removedWidgets": [],
       "schema": [
        {
         "metadata": "{}",
         "name": "_c0",
         "type": "\"string\""
        },
        {
         "metadata": "{}",
         "name": "_c1",
         "type": "\"string\""
        },
        {
         "metadata": "{}",
         "name": "_c2",
         "type": "\"string\""
        },
        {
         "metadata": "{}",
         "name": "_c3",
         "type": "\"string\""
        },
        {
         "metadata": "{}",
         "name": "_c4",
         "type": "\"string\""
        },
        {
         "metadata": "{}",
         "name": "_c5",
         "type": "\"string\""
        },
        {
         "metadata": "{}",
         "name": "_c6",
         "type": "\"string\""
        },
        {
         "metadata": "{}",
         "name": "_c7",
         "type": "\"string\""
        }
       ],
       "type": "table"
      }
     },
     "output_type": "display_data"
    }
   ],
   "source": [
    "display(spark.read.csv(\"abfs://raw@kijijidata.dfs.core.windows.net/house/2023-04-06/kijiji_gta_21_2023-04-06.csv\").limit(5))"
   ]
  },
  {
   "cell_type": "markdown",
   "metadata": {
    "application/vnd.databricks.v1+cell": {
     "cellMetadata": {
      "byteLimit": 2048000,
      "rowLimit": 10000
     },
     "inputWidgets": {},
     "nuid": "ee9e3ce5-4577-40c2-9a1a-4c546c6e0346",
     "showTitle": false,
     "title": ""
    }
   },
   "source": [
    "###### Perform necessary transformations and save the result as parquet to ADLS\n",
    "1. read apt listsing and house rental listings from adls\n",
    "2. Specify Schema\n",
    "3. drop null column\n",
    "4. make title column smaller case\n",
    "5. clean location - group same text to one, eq :- City of Toronto, Toronto --> toronto\n",
    "6. convert rent column to integer and replace text please contact with 0\n",
    "7. clean bed_rooms columns and cast to int\n",
    "7. recalculate the date_posted column. eq :-  21 hours ago should be converted to proper date format\n",
    "8. create two additional columns. eq :- year and month column"
   ]
  },
  {
   "cell_type": "code",
   "execution_count": 0,
   "metadata": {
    "application/vnd.databricks.v1+cell": {
     "cellMetadata": {
      "byteLimit": 2048000,
      "rowLimit": 10000
     },
     "inputWidgets": {},
     "nuid": "493141c6-7c57-4c55-8ade-055818be99fd",
     "showTitle": false,
     "title": ""
    }
   },
   "outputs": [],
   "source": [
    "from pyspark.sql.types import StructField, StructType, StringType, IntegerType, DateType\n",
    "from pyspark.sql.functions import lower, udf, col, when, regexp_replace, trim, to_date, date_add\n",
    "from dateutil.relativedelta import relativedelta"
   ]
  },
  {
   "cell_type": "code",
   "execution_count": 0,
   "metadata": {
    "application/vnd.databricks.v1+cell": {
     "cellMetadata": {
      "byteLimit": 2048000,
      "rowLimit": 10000
     },
     "inputWidgets": {},
     "nuid": "c0ff65b1-6ce3-49ee-a942-c21842eb4b67",
     "showTitle": false,
     "title": ""
    }
   },
   "outputs": [],
   "source": [
    "# Set the timeParserPolicy to LEGACY\n",
    "spark.conf.set(\"spark.sql.legacy.timeParserPolicy\", \"LEGACY\")"
   ]
  },
  {
   "cell_type": "code",
   "execution_count": 0,
   "metadata": {
    "application/vnd.databricks.v1+cell": {
     "cellMetadata": {
      "byteLimit": 2048000,
      "rowLimit": 10000
     },
     "inputWidgets": {},
     "nuid": "e8f34e67-a5ff-4c76-9f6c-342e8f18daad",
     "showTitle": false,
     "title": ""
    }
   },
   "outputs": [],
   "source": [
    "rental_schema = StructType(fields=[\n",
    "                                StructField(\"id\", IntegerType(), True),\n",
    "                                StructField(\"title\", StringType(), True),\n",
    "                                StructField(\"location\", StringType(), True),\n",
    "                                StructField(\"rent\", StringType(), True),\n",
    "                                StructField(\"bed_rooms\", StringType(), True),\n",
    "                                StructField(\"date_posted\", StringType(), True),\n",
    "                                StructField(\"url\", StringType(), True),\n",
    "                                StructField(\"scraped_on\", DateType(), True)\n",
    "                            ])"
   ]
  },
  {
   "cell_type": "code",
   "execution_count": 0,
   "metadata": {
    "application/vnd.databricks.v1+cell": {
     "cellMetadata": {
      "byteLimit": 2048000,
      "rowLimit": 10000
     },
     "inputWidgets": {},
     "nuid": "c57cd859-388b-4ddf-ab8e-9bb5fe2d82de",
     "showTitle": false,
     "title": ""
    }
   },
   "outputs": [],
   "source": [
    "house_df = spark.read\\\n",
    "              .option(\"header\", True)\\\n",
    "              .schema(rental_schema)\\\n",
    "              .csv(\"abfs://raw@kijijidata.dfs.core.windows.net/house/**/*.csv\")\\\n",
    "              .drop(\"null\")"
   ]
  },
  {
   "cell_type": "code",
   "execution_count": 0,
   "metadata": {
    "application/vnd.databricks.v1+cell": {
     "cellMetadata": {
      "byteLimit": 2048000,
      "rowLimit": 10000
     },
     "inputWidgets": {},
     "nuid": "73101922-29ed-475f-aa19-ab707f983dfb",
     "showTitle": false,
     "title": ""
    }
   },
   "outputs": [
    {
     "output_type": "stream",
     "name": "stdout",
     "output_type": "stream",
     "text": [
      "Out[45]: 8322"
     ]
    }
   ],
   "source": [
    "house_df.count()"
   ]
  },
  {
   "cell_type": "code",
   "execution_count": 0,
   "metadata": {
    "application/vnd.databricks.v1+cell": {
     "cellMetadata": {
      "byteLimit": 2048000,
      "rowLimit": 10000
     },
     "inputWidgets": {},
     "nuid": "6cb39613-efa5-4fb0-828a-aca6c76dfa2a",
     "showTitle": false,
     "title": ""
    }
   },
   "outputs": [
    {
     "output_type": "display_data",
     "data": {
      "text/html": [
       "<style scoped>\n  .table-result-container {\n    max-height: 300px;\n    overflow: auto;\n  }\n  table, th, td {\n    border: 1px solid black;\n    border-collapse: collapse;\n  }\n  th, td {\n    padding: 5px;\n  }\n  th {\n    text-align: left;\n  }\n</style><div class='table-result-container'><table class='table-result'><thead style='background-color: white'><tr><th>id</th><th>title</th><th>location</th><th>rent</th><th>bed_rooms</th><th>date_posted</th><th>url</th><th>scraped_on</th></tr></thead><tbody><tr><td>1649068951</td><td>Jr. 1 Bedroom Apartment – Spacious & Newly Renovated – Call now!</td><td>City of Toronto</td><td>$2,319.00</td><td>1</td><td>2023-04-01 00:00:00.000</td><td>https://www.kijiji.ca/v-apartments-condos/city-of-toronto/jr-1-bedroom-apartment-spacious-newly-renovated-call-now/1649068951</td><td>2023-04-03</td></tr><tr><td>1655269031</td><td>5 BDRM HOUSE, availaible immediately, Christie and St. Clair</td><td>Toronto</td><td>$4,500.00</td><td>5+</td><td>2023-04-02 00:00:00.000</td><td>https://www.kijiji.ca/v-apartments-condos/city-of-toronto/5-bdrm-house-availaible-immediately-christie-and-st-clair/1655269031</td><td>2023-04-03</td></tr><tr><td>1651533067</td><td>1 Bedroom Large Renovated Apartment For Rent in Toronto - 90 Eas</td><td>Toronto</td><td>$2,195.00</td><td>1</td><td>2023-03-26 00:00:00.000</td><td>https://www.kijiji.ca/v-apartments-condos/city-of-toronto/1-bedroom-large-renovated-apartment-for-rent-in-toronto-90-eas/1651533067</td><td>2023-04-03</td></tr><tr><td>1652242175</td><td>1 Bedroom - 212 Davis Drive - Steps to Rapidway!</td><td>Markham / York Region</td><td>$2,550.00</td><td>1</td><td>2023-04-03 21:03:02.776</td><td>https://www.kijiji.ca/v-apartments-condos/markham-york-region/1-bedroom-212-davis-drive-steps-to-rapidway/1652242175</td><td>2023-04-03</td></tr><tr><td>1652711864</td><td>Gorgeous 4 Bdrm 4 Baths Detached House for Lease in Bradford</td><td>Bradford</td><td>$3,500.00</td><td>4</td><td>2023-03-31 00:00:00.000</td><td>https://www.kijiji.ca/v-apartments-condos/markham-york-region/gorgeous-4-bdrm-4-baths-detached-house-for-lease-in-bradford/1652711864</td><td>2023-04-03</td></tr></tbody></table></div>"
      ]
     },
     "metadata": {
      "application/vnd.databricks.v1+output": {
       "addedWidgets": {},
       "aggData": [],
       "aggError": "",
       "aggOverflow": false,
       "aggSchema": [],
       "aggSeriesLimitReached": false,
       "aggType": "",
       "arguments": {},
       "columnCustomDisplayInfos": {},
       "data": [
        [
         1649068951,
         "Jr. 1 Bedroom Apartment – Spacious & Newly Renovated – Call now!",
         "City of Toronto",
         "$2,319.00",
         "1",
         "2023-04-01 00:00:00.000",
         "https://www.kijiji.ca/v-apartments-condos/city-of-toronto/jr-1-bedroom-apartment-spacious-newly-renovated-call-now/1649068951",
         "2023-04-03"
        ],
        [
         1655269031,
         "5 BDRM HOUSE, availaible immediately, Christie and St. Clair",
         "Toronto",
         "$4,500.00",
         "5+",
         "2023-04-02 00:00:00.000",
         "https://www.kijiji.ca/v-apartments-condos/city-of-toronto/5-bdrm-house-availaible-immediately-christie-and-st-clair/1655269031",
         "2023-04-03"
        ],
        [
         1651533067,
         "1 Bedroom Large Renovated Apartment For Rent in Toronto - 90 Eas",
         "Toronto",
         "$2,195.00",
         "1",
         "2023-03-26 00:00:00.000",
         "https://www.kijiji.ca/v-apartments-condos/city-of-toronto/1-bedroom-large-renovated-apartment-for-rent-in-toronto-90-eas/1651533067",
         "2023-04-03"
        ],
        [
         1652242175,
         "1 Bedroom - 212 Davis Drive - Steps to Rapidway!",
         "Markham / York Region",
         "$2,550.00",
         "1",
         "2023-04-03 21:03:02.776",
         "https://www.kijiji.ca/v-apartments-condos/markham-york-region/1-bedroom-212-davis-drive-steps-to-rapidway/1652242175",
         "2023-04-03"
        ],
        [
         1652711864,
         "Gorgeous 4 Bdrm 4 Baths Detached House for Lease in Bradford",
         "Bradford",
         "$3,500.00",
         "4",
         "2023-03-31 00:00:00.000",
         "https://www.kijiji.ca/v-apartments-condos/markham-york-region/gorgeous-4-bdrm-4-baths-detached-house-for-lease-in-bradford/1652711864",
         "2023-04-03"
        ]
       ],
       "datasetInfos": [],
       "dbfsResultPath": null,
       "isJsonSchema": true,
       "metadata": {},
       "overflow": false,
       "plotOptions": {
        "customPlotOptions": {},
        "displayType": "table",
        "pivotAggregation": null,
        "pivotColumns": null,
        "xColumns": null,
        "yColumns": null
       },
       "removedWidgets": [],
       "schema": [
        {
         "metadata": "{}",
         "name": "id",
         "type": "\"integer\""
        },
        {
         "metadata": "{}",
         "name": "title",
         "type": "\"string\""
        },
        {
         "metadata": "{}",
         "name": "location",
         "type": "\"string\""
        },
        {
         "metadata": "{}",
         "name": "rent",
         "type": "\"string\""
        },
        {
         "metadata": "{}",
         "name": "bed_rooms",
         "type": "\"string\""
        },
        {
         "metadata": "{}",
         "name": "date_posted",
         "type": "\"string\""
        },
        {
         "metadata": "{}",
         "name": "url",
         "type": "\"string\""
        },
        {
         "metadata": "{}",
         "name": "scraped_on",
         "type": "\"date\""
        }
       ],
       "type": "table"
      }
     },
     "output_type": "display_data"
    }
   ],
   "source": [
    "display(house_df.limit(5))"
   ]
  },
  {
   "cell_type": "code",
   "execution_count": 0,
   "metadata": {
    "application/vnd.databricks.v1+cell": {
     "cellMetadata": {
      "byteLimit": 2048000,
      "rowLimit": 10000
     },
     "inputWidgets": {},
     "nuid": "cd1c0771-f5ab-4e93-a511-9b79e2a4826c",
     "showTitle": false,
     "title": ""
    }
   },
   "outputs": [],
   "source": [
    "house_df = house_df.dropna(subset=[\"id\"])"
   ]
  },
  {
   "cell_type": "code",
   "execution_count": 0,
   "metadata": {
    "application/vnd.databricks.v1+cell": {
     "cellMetadata": {
      "byteLimit": 2048000,
      "rowLimit": 10000
     },
     "inputWidgets": {},
     "nuid": "9bb9fa1e-35f9-4180-8578-a5d982cf34be",
     "showTitle": false,
     "title": ""
    }
   },
   "outputs": [
    {
     "output_type": "stream",
     "name": "stdout",
     "output_type": "stream",
     "text": [
      "Out[48]: 8312"
     ]
    }
   ],
   "source": [
    "house_df.count()"
   ]
  },
  {
   "cell_type": "code",
   "execution_count": 0,
   "metadata": {
    "application/vnd.databricks.v1+cell": {
     "cellMetadata": {
      "byteLimit": 2048000,
      "rowLimit": 10000
     },
     "inputWidgets": {},
     "nuid": "de8697d9-7395-473a-942b-46dc129244b2",
     "showTitle": false,
     "title": ""
    }
   },
   "outputs": [],
   "source": [
    "house_df = house_df.withColumn(\"title\", lower(house_df[\"title\"]))\\\n",
    "               .withColumn(\"date_posted\", lower(house_df[\"date_posted\"]))\\\n",
    "               .withColumn(\"location\", when(col(\"location\").isNull(), \"Not Available\").otherwise(lower(col(\"location\"))))\\\n",
    "               .withColumn(\"rent\", when(col(\"rent\") == \"Please Contact\", 0).otherwise(col(\"rent\")))\\\n",
    "               .withColumn(\"rent\", trim(regexp_replace(col(\"rent\"), \"[$,]\", \"\")).cast(\"int\"))\\\n",
    "               .withColumn(\"bed_rooms\", when(col(\"bed_rooms\").isNull(), 0).otherwise(lower(col(\"bed_rooms\"))))"
   ]
  },
  {
   "cell_type": "code",
   "execution_count": 0,
   "metadata": {
    "application/vnd.databricks.v1+cell": {
     "cellMetadata": {
      "byteLimit": 2048000,
      "rowLimit": 10000
     },
     "inputWidgets": {},
     "nuid": "dcc0e226-4c95-4de0-bfdd-c39dd9bccb00",
     "showTitle": false,
     "title": ""
    }
   },
   "outputs": [],
   "source": [
    "unique_locations = house_df.select(\"location\").distinct().collect()"
   ]
  },
  {
   "cell_type": "code",
   "execution_count": 0,
   "metadata": {
    "application/vnd.databricks.v1+cell": {
     "cellMetadata": {
      "byteLimit": 2048000,
      "rowLimit": 10000
     },
     "inputWidgets": {},
     "nuid": "fd4de965-60de-41b8-b60d-3b179a041022",
     "showTitle": false,
     "title": ""
    }
   },
   "outputs": [
    {
     "output_type": "stream",
     "name": "stdout",
     "output_type": "stream",
     "text": [
      "kitchener\ntown of caledon\ncaledon east\nconcord\nacton\noshawa / durham region\norangeville\nmarkham / york region\nthorold\nqueensville\nroseneath\nbradford\nashburn\ncaledon\ntoronto\nburlington\nsutton\nschomberg\nerin\nmilton\ncobourg\nblackstock\nnobleton\ncity of toronto\nbrampton\ninnisfil\nmississauga\nchurchville\neast york\nkettleby\nvaughan\nstouffville\nmineola\norillia\netobicoke\nwhitchurch-stouffville\neden mills\nerin mills\nnewmarket\noshawa\neast credit\ngeorgetown\najax\nguelph\nbolton\nnew tecumseth\nmarkham\nhamilton\nnorth york\nwhitby\nmississauga / peel region\nwoodbridge\ntottenham\nbowmanville\ndeerfield\nold malton village\nmount albert\nrichmond hill\nhalton hills\ntownship of melancthon\neast gwillimbury\nbronte\nthornhill\nnewcastle\noakville / halton region\ngeorgina\nmeadowvale village\nking city\ncourtice\nuxbridge\nbramalea\nrockwood\nvalley creek\nscarborough\nregional municipality of york\nyork\nlaurel\nold toronto\nNot Available\nhampton\noakville\ncampbellville\npickering\naurora\nwindfields\nnewtonville\nbradford west gwillimbury\nmalton\nmeadowvale\ntownship of guelph/eramosa\ncollingwood\nnorth yorks\nstreetsville\nkleinburg\ngormley\nsimcoe county\nnorval\nbailieboro\nwest oak trails\ncambridge\nniagara falls\nlefroy\nspring valley\nport hope\ngrimsby\nsamac\n"
     ]
    }
   ],
   "source": [
    "for location in unique_locations:\n",
    "    print(location[\"location\"])"
   ]
  },
  {
   "cell_type": "code",
   "execution_count": 0,
   "metadata": {
    "application/vnd.databricks.v1+cell": {
     "cellMetadata": {
      "byteLimit": 2048000,
      "rowLimit": 10000
     },
     "inputWidgets": {},
     "nuid": "8576702c-8788-4b5b-9c18-f58cf32a4697",
     "showTitle": false,
     "title": ""
    }
   },
   "outputs": [
    {
     "output_type": "stream",
     "name": "stdout",
     "output_type": "stream",
     "text": [
      "+----------+--------------------+---------------+----+---------+--------------------+--------------------+----------+\n|        id|               title|       location|rent|bed_rooms|         date_posted|                 url|scraped_on|\n+----------+--------------------+---------------+----+---------+--------------------+--------------------+----------+\n|1649068951|jr. 1 bedroom apa...|city of toronto|2319|        1|2023-04-01 00:00:...|https://www.kijij...|2023-04-03|\n|1649856271|      1 bdrm and den|city of toronto|2615|  1 + den|2023-04-03 00:00:...|https://www.kijij...|2023-04-03|\n|1640353318|1 bdrm and den- k...|city of toronto|2850|  1 + den|2023-04-03 00:00:...|https://www.kijij...|2023-04-03|\n|1649220565|1 bdrm + den +din...|city of toronto|3220|        1|2023-04-03 00:00:...|https://www.kijij...|2023-04-03|\n|1655388109|beautiful 3 bedro...|city of toronto|3400|        3|2023-04-03 00:00:...|https://www.kijij...|2023-04-03|\n+----------+--------------------+---------------+----+---------+--------------------+--------------------+----------+\nonly showing top 5 rows\n\n"
     ]
    }
   ],
   "source": [
    "house_df[house_df[\"location\"]==\"city of toronto\"].show(5)"
   ]
  },
  {
   "cell_type": "code",
   "execution_count": 0,
   "metadata": {
    "application/vnd.databricks.v1+cell": {
     "cellMetadata": {
      "byteLimit": 2048000,
      "rowLimit": 10000
     },
     "inputWidgets": {},
     "nuid": "aa7192ab-7a6e-435b-9fb1-271b19c04e4e",
     "showTitle": false,
     "title": ""
    }
   },
   "outputs": [],
   "source": [
    "@udf(returnType=StringType())\n",
    "def clean_location(location):\n",
    "    # split the location text by / and return first element\n",
    "    # eq : mississauga / peel region - > mississauga\n",
    "    location_dict = {\"city of toronto\":\"toronto\"}\n",
    "    if str(location) == \"None\":\n",
    "        return \"N/A\"\n",
    "    location = location.split(\"/\")[0]\n",
    "    if location in location_dict:\n",
    "        return location_dict[location]\n",
    "    return location.strip()"
   ]
  },
  {
   "cell_type": "code",
   "execution_count": 0,
   "metadata": {
    "application/vnd.databricks.v1+cell": {
     "cellMetadata": {
      "byteLimit": 2048000,
      "rowLimit": 10000
     },
     "inputWidgets": {},
     "nuid": "8d611996-fda4-479c-b52e-ff2cb1c28d72",
     "showTitle": false,
     "title": ""
    }
   },
   "outputs": [],
   "source": [
    "house_df = house_df.withColumn(\"location\", clean_location(house_df[\"location\"]))"
   ]
  },
  {
   "cell_type": "code",
   "execution_count": 0,
   "metadata": {
    "application/vnd.databricks.v1+cell": {
     "cellMetadata": {
      "byteLimit": 2048000,
      "rowLimit": 10000
     },
     "inputWidgets": {},
     "nuid": "19e72d0a-fb57-48cc-8d64-973df1955560",
     "showTitle": false,
     "title": ""
    }
   },
   "outputs": [
    {
     "output_type": "stream",
     "name": "stdout",
     "output_type": "stream",
     "text": [
      "2 + den\n1 + den\n3\n4 + den\n0\n3 + den\n5+\nbachelor/studio\n1\n4\n2\n"
     ]
    }
   ],
   "source": [
    "unique_beds = house_df.select(\"bed_rooms\").distinct().collect()\n",
    "for beds in unique_beds:\n",
    "    print(beds[\"bed_rooms\"])"
   ]
  },
  {
   "cell_type": "code",
   "execution_count": 0,
   "metadata": {
    "application/vnd.databricks.v1+cell": {
     "cellMetadata": {
      "byteLimit": 2048000,
      "rowLimit": 10000
     },
     "inputWidgets": {},
     "nuid": "d4e2c401-4964-42f5-af57-821b6ee322b1",
     "showTitle": false,
     "title": ""
    }
   },
   "outputs": [],
   "source": [
    "@udf(returnType=IntegerType())\n",
    "def clean_beds(beds):\n",
    "    if 'bachelor' in beds:\n",
    "        return 0\n",
    "    if 'studio' in beds:\n",
    "        return 0\n",
    "    \n",
    "    beds = beds.split(\"+\")[0]\n",
    "    return int(beds)"
   ]
  },
  {
   "cell_type": "code",
   "execution_count": 0,
   "metadata": {
    "application/vnd.databricks.v1+cell": {
     "cellMetadata": {
      "byteLimit": 2048000,
      "rowLimit": 10000
     },
     "inputWidgets": {},
     "nuid": "641192c4-da01-4c72-856b-07a4acf8b2c9",
     "showTitle": false,
     "title": ""
    }
   },
   "outputs": [],
   "source": [
    "house_df = house_df.withColumn(\"bed_rooms\", clean_beds(house_df[\"bed_rooms\"]))"
   ]
  },
  {
   "cell_type": "code",
   "execution_count": 0,
   "metadata": {
    "application/vnd.databricks.v1+cell": {
     "cellMetadata": {
      "byteLimit": 2048000,
      "rowLimit": 10000
     },
     "inputWidgets": {},
     "nuid": "e922e639-02c1-4ca1-bd65-4d84405a7790",
     "showTitle": false,
     "title": ""
    }
   },
   "outputs": [
    {
     "output_type": "stream",
     "name": "stdout",
     "output_type": "stream",
     "text": [
      "1\n3\n5\n4\n2\n0\n"
     ]
    }
   ],
   "source": [
    "unique_beds = house_df.select(\"bed_rooms\").distinct().collect()\n",
    "for beds in unique_beds:\n",
    "    print(beds[\"bed_rooms\"])"
   ]
  },
  {
   "cell_type": "code",
   "execution_count": 0,
   "metadata": {
    "application/vnd.databricks.v1+cell": {
     "cellMetadata": {
      "byteLimit": 2048000,
      "rowLimit": 10000
     },
     "inputWidgets": {},
     "nuid": "fa4dcbf6-ccb3-4d65-83c0-ccd8de3fb86d",
     "showTitle": false,
     "title": ""
    }
   },
   "outputs": [],
   "source": [
    "from pyspark.sql.functions import year, month, to_date, datediff\n",
    "from dateutil.relativedelta import relativedelta\n",
    "from datetime import datetime, date, timedelta"
   ]
  },
  {
   "cell_type": "code",
   "execution_count": 0,
   "metadata": {
    "application/vnd.databricks.v1+cell": {
     "cellMetadata": {
      "byteLimit": 2048000,
      "rowLimit": 10000
     },
     "inputWidgets": {},
     "nuid": "32eaa47b-dc56-4d21-9b78-92eb94c8d6b0",
     "showTitle": false,
     "title": ""
    }
   },
   "outputs": [
    {
     "output_type": "stream",
     "name": "stdout",
     "output_type": "stream",
     "text": [
      "< 48 minutes ago\n2023-03-24 00:00:00.000\n2023-03-30 00:00:00.000\n08/03/2023\n2023-03-28 00:00:00.000\n< 9 hours ago\n2023-04-01 17:04:56.304\n2023-04-01 17:11:56.306\n2023-04-01 17:00:56.305\n2023-04-01 17:21:56.304\n2023-04-01 17:04:56.306\n2023-04-03 21:22:02.777\n2023-03-04 00:00:00.000\n2023-03-02 00:00:00.000\n2023-03-20 00:00:00.000\n2023-04-01 17:12:56.306\n31/03/2023\n< 6 minutes ago\n2023-02-22 00:00:00.000\n< 7 hours ago\n29/03/2023\n2023-04-01 17:03:01.994\n2023-04-01 17:04:56.305\n2023-04-03 21:02:02.777\n< 41 minutes ago\n< 40 minutes ago\n< 58 minutes ago\n2023-04-01 17:09:56.304\n2023-04-01 17:03:56.306\n2023-04-03 21:23:02.779\n13/03/2023\n2023-04-03 21:18:02.778\n2023-02-27 00:00:00.000\n12/03/2023\n2023-04-03 21:21:02.777\n< 31 minutes ago\n< 35 minutes ago\nNone\n2023-03-17 00:00:00.000\n2023-03-31 00:00:00.000\n2023-04-03 00:00:00.000\n< 52 minutes ago\n2023-04-01 17:19:56.305\n2023-04-01 17:08:01.994\n2023-03-26 00:00:00.000\n2023-04-01 17:06:56.305\n2023-04-01 17:14:56.306\n< 6 hours ago\n< 8 minutes ago\n< 25 minutes ago\n< 19 hours ago\n< 26 minutes ago\n< 20 hours ago\n2023-04-01 17:06:56.304\n2023-04-01 17:20:56.305\n2023-04-03 21:03:02.778\n2023-03-27 00:00:00.000\n2023-04-01 17:10:56.306\n11/03/2023\n2023-04-01 17:18:56.305\n05/04/2023\n2023-04-03 21:19:02.777\n2023-04-01 17:09:56.306\n2023-04-01 17:08:01.998\n2023-03-06 00:00:00.000\n2023-04-01 17:22:56.306\n< 2 minutes ago\n2023-04-01 17:03:56.307\n2023-03-10 00:00:00.000\n2023-04-01 17:06:56.307\n2023-04-03 21:23:02.776\n< 22 hours ago\n< 1 minute ago\n< 22 minutes ago\n14/03/2023\n2023-03-22 00:00:00.000\n2023-04-01 17:05:56.307\n2023-04-02 00:00:00.000\n2023-04-03 21:02:02.776\n2023-04-01 17:12:56.305\n< 5 hours ago\n2023-04-01 17:21:56.305\n2023-04-03 21:01:02.779\n21/03/2023\n< 11 hours ago\n< 18 minutes ago\n< 16 hours ago\n< 18 hours ago\n2023-04-01 17:13:56.306\n27/03/2023\n< 16 minutes ago\n17/03/2023\n16/03/2023\n2023-03-05 00:00:00.000\n< 44 minutes ago\n< 57 minutes ago\n2023-04-01 17:03:56.305\n04/04/2023\n< 60 minutes ago\n2023-03-21 00:00:00.000\n2023-04-03 21:20:02.777\n2023-03-23 00:00:00.000\n< 2 hours ago\n2023-04-03 21:03:02.777\n2023-03-08 00:00:00.000\n< 4 hours ago\n< 21 hours ago\n2023-03-25 00:00:00.000\n2023-03-01 00:00:00.000\n2023-04-03 21:19:02.778\n30/03/2023\n2023-04-03 21:03:02.776\n2023-04-01 17:08:56.306\n2023-04-01 17:06:01.994\n2023-03-11 00:00:00.000\n< 17 hours ago\n2023-04-01 17:06:01.999\n20/03/2023\n18/03/2023\nyesterday\n2023-04-01 17:06:01.995\n2023-04-01 17:03:56.304\n2023-04-03 21:14:02.779\n2023-04-01 17:22:56.307\n2023-04-03 21:13:02.779\n< 4 minutes ago\n< 3 hours ago\n< 29 minutes ago\n09/03/2023\n2023-04-01 17:18:56.306\n< 12 hours ago\n2023-04-03 21:15:02.779\n2023-04-01 17:02:56.307\n2023-04-01 17:15:56.306\n< 23 hours ago\n< 36 minutes ago\n2023-04-03 21:22:02.776\n2023-04-01 17:07:56.306\n< 21 minutes ago\n2023-04-01 17:16:56.306\n2023-04-03 21:17:02.778\n2023-04-01 17:22:56.304\n2023-04-01 17:05:01.994\n2023-03-18 00:00:00.000\n19/03/2023\n< 10 hours ago\n< 56 minutes ago\n2023-03-13 00:00:00.000\n2023-04-03 21:22:02.779\n28/03/2023\n2023-04-03 21:16:02.779\n< 24 hours ago\n10/03/2023\n< 15 hours ago\n2023-04-03 21:23:02.778\n2023-03-14 00:00:00.000\n< 8 hours ago\n2023-04-01 17:08:01.997\n2023-04-01 17:06:56.306\n< 3 minutes ago\n15/03/2023\n2023-04-01 17:17:56.306\n2023-04-03 21:16:02.778\n2023-04-01 17:04:56.307\n02/04/2023\n< 54 minutes ago\n< 14 hours ago\n07/03/2023\n2023-03-19 00:00:00.000\n2023-02-21 00:00:00.000\n03/04/2023\n01/04/2023\n2023-04-03 21:21:02.778\n2023-03-29 00:00:00.000\n2023-04-01 00:00:00.000\n2023-04-03 21:23:02.777\n< 38 minutes ago\n2023-04-01 17:02:56.306\n< 13 hours ago\n2023-03-11\n2023-03-17\n2023-03-29\n05/02/2023\n23/02/2023\n2023-04-03 21:24:03.808\n2023-03-20\n2023-04-03 21:24:01.767\n15/02/2023\n2023-04-03 21:24:01.766\n2023-03-06\n19/02/2023\n2023-03-31\n08/02/2023\n2023-04-03 21:20:01.768\n11/02/2023\n22/02/2023\n10/02/2023\n2023-03-30\n2023-03-22\n13/02/2023\n< 43 minutes ago\n21/02/2023\n< 42 minutes ago\n09/02/2023\n2023-04-03 21:18:03.812\n2023-04-03 21:04:01.766\n2023-04-03 21:24:04.635\n04/02/2023\n16/02/2023\n20/02/2023\n2023-03-09 00:00:00.000\n2023-04-03 21:18:03.811\n07/02/2023\n12/02/2023\n06/02/2023\n2023-03-27\n2023-04-03 21:24:04.636\n03/02/2023\n2023-04-03 21:22:04.635\n2023-04-01\n2023-04-03 21:20:03.811\n2023-03-09\n2023-04-03 21:23:03.809\n2023-04-02\n2023-04-03 21:24:04.637\n2023-03-24\n17/02/2023\n14/02/2023\n2023-03-26\n18/02/2023\n24/02/2023\n26/03/2023\n25/03/2023\n27/02/2023\n28/02/2023\n01/03/2023\n26/02/2023\n"
     ]
    }
   ],
   "source": [
    "unique_dates = house_df.select(\"date_posted\").distinct().collect()\n",
    "for dates in unique_dates:\n",
    "    print(dates[\"date_posted\"])"
   ]
  },
  {
   "cell_type": "code",
   "execution_count": 0,
   "metadata": {
    "application/vnd.databricks.v1+cell": {
     "cellMetadata": {
      "byteLimit": 2048000,
      "rowLimit": 10000
     },
     "inputWidgets": {},
     "nuid": "35ad9fe0-c462-4088-b3ce-b22fc6955070",
     "showTitle": false,
     "title": ""
    }
   },
   "outputs": [],
   "source": [
    "from dateutil.parser import parse\n",
    "@udf(returnType=DateType())\n",
    "def parse_date_string(date_string, date_=None):\n",
    "    \n",
    "    date_string = str(date_string)\n",
    "    if date_string == \"None\":\n",
    "        return date_\n",
    "\n",
    "    if \"/\" in date_string:\n",
    "        date_obj = datetime.strptime(date_string, '%d/%m/%Y')\n",
    "        date_string = date_obj.strftime('%Y-%m-%d')\n",
    "    elif \"-\" in date_string:\n",
    "        try:\n",
    "            date_obj = datetime.strptime(date_string, '%Y-%m-%d %H:%M:%S.%f')\n",
    "            date_string = date_obj.strftime('%Y-%m-%d')\n",
    "        except:\n",
    "            date_obj = datetime.strptime(date_string, '%Y-%m-%d')\n",
    "            date_string = date_obj.strftime('%Y-%m-%d')\n",
    "    \n",
    "    if date_ is None:\n",
    "        now = datetime.now().date()\n",
    "    else:\n",
    "        now = datetime.strptime(str(date_), '%Y-%m-%d')\n",
    "    \n",
    "    if date_string == 'yesterday':\n",
    "        return (now - relativedelta(days=1)).date()\n",
    "    \n",
    "    elif 'minute' in date_string:\n",
    "        return now.date()\n",
    "    \n",
    "    elif date_string.startswith('<'):\n",
    "        # Convert relative time to absolute time\n",
    "        minutes_ago = int(date_string.split()[1])\n",
    "        return datetime.now() - timedelta(minutes=minutes_ago)\n",
    "    \n",
    "    else:\n",
    "        return datetime.strptime(date_string, '%Y-%m-%d').date()"
   ]
  },
  {
   "cell_type": "code",
   "execution_count": 0,
   "metadata": {
    "application/vnd.databricks.v1+cell": {
     "cellMetadata": {
      "byteLimit": 2048000,
      "rowLimit": 10000
     },
     "inputWidgets": {},
     "nuid": "0d13db3f-6494-46c7-887b-048abdb8a0f7",
     "showTitle": false,
     "title": ""
    }
   },
   "outputs": [],
   "source": [
    "house_df = house_df.withColumn(\"date_posted_calculated\", parse_date_string(house_df[\"date_posted\"], house_df[\"scraped_on\"]))"
   ]
  },
  {
   "cell_type": "code",
   "execution_count": 0,
   "metadata": {
    "application/vnd.databricks.v1+cell": {
     "cellMetadata": {
      "byteLimit": 2048000,
      "rowLimit": 10000
     },
     "inputWidgets": {},
     "nuid": "70282152-2b3e-4ef4-a927-a8c038f88ac1",
     "showTitle": false,
     "title": ""
    }
   },
   "outputs": [],
   "source": [
    "house_df = house_df.withColumn(\"year\", year(house_df[\"date_posted_calculated\"]))\\\n",
    "               .withColumn(\"month\", month(house_df[\"date_posted_calculated\"]))"
   ]
  },
  {
   "cell_type": "code",
   "execution_count": 0,
   "metadata": {
    "application/vnd.databricks.v1+cell": {
     "cellMetadata": {
      "byteLimit": 2048000,
      "rowLimit": 10000
     },
     "inputWidgets": {},
     "nuid": "3059eb96-60a4-451d-a587-6269ac6e6919",
     "showTitle": false,
     "title": ""
    }
   },
   "outputs": [
    {
     "output_type": "stream",
     "name": "stdout",
     "output_type": "stream",
     "text": [
      "Out[66]: 8312"
     ]
    }
   ],
   "source": [
    "house_df.count()"
   ]
  },
  {
   "cell_type": "code",
   "execution_count": 0,
   "metadata": {
    "application/vnd.databricks.v1+cell": {
     "cellMetadata": {
      "byteLimit": 2048000,
      "rowLimit": 10000
     },
     "inputWidgets": {},
     "nuid": "c9f976c8-891b-4695-bd4b-a215d2c33c41",
     "showTitle": false,
     "title": ""
    }
   },
   "outputs": [],
   "source": [
    "house_df = house_df.withColumnRenamed('id', 'listing_id')\\\n",
    "       .withColumnRenamed('bed_rooms', 'bedrooms')\\\n",
    "       .withColumnRenamed('date_posted', 'post_date')\\\n",
    "       .withColumnRenamed('scraped_on', 'scrape_date')\\\n",
    "       .withColumnRenamed(\"date_posted_calculated\", \"calculated_date\")\n"
   ]
  },
  {
   "cell_type": "code",
   "execution_count": 0,
   "metadata": {
    "application/vnd.databricks.v1+cell": {
     "cellMetadata": {
      "byteLimit": 2048000,
      "rowLimit": 10000
     },
     "inputWidgets": {},
     "nuid": "89d5dcce-0bdc-4ca3-93e4-0322991935c5",
     "showTitle": false,
     "title": ""
    }
   },
   "outputs": [
    {
     "output_type": "display_data",
     "data": {
      "text/html": [
       "<style scoped>\n  .table-result-container {\n    max-height: 300px;\n    overflow: auto;\n  }\n  table, th, td {\n    border: 1px solid black;\n    border-collapse: collapse;\n  }\n  th, td {\n    padding: 5px;\n  }\n  th {\n    text-align: left;\n  }\n</style><div class='table-result-container'><table class='table-result'><thead style='background-color: white'><tr><th>listing_id</th><th>title</th><th>location</th><th>rent</th><th>bedrooms</th><th>post_date</th><th>url</th><th>scrape_date</th><th>calculated_date</th><th>year</th><th>month</th></tr></thead><tbody><tr><td>1649068951</td><td>jr. 1 bedroom apartment – spacious & newly renovated – call now!</td><td>toronto</td><td>2319</td><td>1</td><td>2023-04-01 00:00:00.000</td><td>https://www.kijiji.ca/v-apartments-condos/city-of-toronto/jr-1-bedroom-apartment-spacious-newly-renovated-call-now/1649068951</td><td>2023-04-03</td><td>2023-04-01</td><td>2023</td><td>4</td></tr><tr><td>1655269031</td><td>5 bdrm house, availaible immediately, christie and st. clair</td><td>toronto</td><td>4500</td><td>5</td><td>2023-04-02 00:00:00.000</td><td>https://www.kijiji.ca/v-apartments-condos/city-of-toronto/5-bdrm-house-availaible-immediately-christie-and-st-clair/1655269031</td><td>2023-04-03</td><td>2023-04-02</td><td>2023</td><td>4</td></tr><tr><td>1651533067</td><td>1 bedroom large renovated apartment for rent in toronto - 90 eas</td><td>toronto</td><td>2195</td><td>1</td><td>2023-03-26 00:00:00.000</td><td>https://www.kijiji.ca/v-apartments-condos/city-of-toronto/1-bedroom-large-renovated-apartment-for-rent-in-toronto-90-eas/1651533067</td><td>2023-04-03</td><td>2023-03-26</td><td>2023</td><td>3</td></tr><tr><td>1652242175</td><td>1 bedroom - 212 davis drive - steps to rapidway!</td><td>markham</td><td>2550</td><td>1</td><td>2023-04-03 21:03:02.776</td><td>https://www.kijiji.ca/v-apartments-condos/markham-york-region/1-bedroom-212-davis-drive-steps-to-rapidway/1652242175</td><td>2023-04-03</td><td>2023-04-03</td><td>2023</td><td>4</td></tr><tr><td>1652711864</td><td>gorgeous 4 bdrm 4 baths detached house for lease in bradford</td><td>bradford</td><td>3500</td><td>4</td><td>2023-03-31 00:00:00.000</td><td>https://www.kijiji.ca/v-apartments-condos/markham-york-region/gorgeous-4-bdrm-4-baths-detached-house-for-lease-in-bradford/1652711864</td><td>2023-04-03</td><td>2023-03-31</td><td>2023</td><td>3</td></tr></tbody></table></div>"
      ]
     },
     "metadata": {
      "application/vnd.databricks.v1+output": {
       "addedWidgets": {},
       "aggData": [],
       "aggError": "",
       "aggOverflow": false,
       "aggSchema": [],
       "aggSeriesLimitReached": false,
       "aggType": "",
       "arguments": {},
       "columnCustomDisplayInfos": {},
       "data": [
        [
         1649068951,
         "jr. 1 bedroom apartment – spacious & newly renovated – call now!",
         "toronto",
         2319,
         1,
         "2023-04-01 00:00:00.000",
         "https://www.kijiji.ca/v-apartments-condos/city-of-toronto/jr-1-bedroom-apartment-spacious-newly-renovated-call-now/1649068951",
         "2023-04-03",
         "2023-04-01",
         2023,
         4
        ],
        [
         1655269031,
         "5 bdrm house, availaible immediately, christie and st. clair",
         "toronto",
         4500,
         5,
         "2023-04-02 00:00:00.000",
         "https://www.kijiji.ca/v-apartments-condos/city-of-toronto/5-bdrm-house-availaible-immediately-christie-and-st-clair/1655269031",
         "2023-04-03",
         "2023-04-02",
         2023,
         4
        ],
        [
         1651533067,
         "1 bedroom large renovated apartment for rent in toronto - 90 eas",
         "toronto",
         2195,
         1,
         "2023-03-26 00:00:00.000",
         "https://www.kijiji.ca/v-apartments-condos/city-of-toronto/1-bedroom-large-renovated-apartment-for-rent-in-toronto-90-eas/1651533067",
         "2023-04-03",
         "2023-03-26",
         2023,
         3
        ],
        [
         1652242175,
         "1 bedroom - 212 davis drive - steps to rapidway!",
         "markham",
         2550,
         1,
         "2023-04-03 21:03:02.776",
         "https://www.kijiji.ca/v-apartments-condos/markham-york-region/1-bedroom-212-davis-drive-steps-to-rapidway/1652242175",
         "2023-04-03",
         "2023-04-03",
         2023,
         4
        ],
        [
         1652711864,
         "gorgeous 4 bdrm 4 baths detached house for lease in bradford",
         "bradford",
         3500,
         4,
         "2023-03-31 00:00:00.000",
         "https://www.kijiji.ca/v-apartments-condos/markham-york-region/gorgeous-4-bdrm-4-baths-detached-house-for-lease-in-bradford/1652711864",
         "2023-04-03",
         "2023-03-31",
         2023,
         3
        ]
       ],
       "datasetInfos": [],
       "dbfsResultPath": null,
       "isJsonSchema": true,
       "metadata": {},
       "overflow": false,
       "plotOptions": {
        "customPlotOptions": {},
        "displayType": "table",
        "pivotAggregation": null,
        "pivotColumns": null,
        "xColumns": null,
        "yColumns": null
       },
       "removedWidgets": [],
       "schema": [
        {
         "metadata": "{}",
         "name": "listing_id",
         "type": "\"integer\""
        },
        {
         "metadata": "{}",
         "name": "title",
         "type": "\"string\""
        },
        {
         "metadata": "{}",
         "name": "location",
         "type": "\"string\""
        },
        {
         "metadata": "{}",
         "name": "rent",
         "type": "\"integer\""
        },
        {
         "metadata": "{}",
         "name": "bedrooms",
         "type": "\"integer\""
        },
        {
         "metadata": "{}",
         "name": "post_date",
         "type": "\"string\""
        },
        {
         "metadata": "{}",
         "name": "url",
         "type": "\"string\""
        },
        {
         "metadata": "{}",
         "name": "scrape_date",
         "type": "\"date\""
        },
        {
         "metadata": "{}",
         "name": "calculated_date",
         "type": "\"date\""
        },
        {
         "metadata": "{}",
         "name": "year",
         "type": "\"integer\""
        },
        {
         "metadata": "{}",
         "name": "month",
         "type": "\"integer\""
        }
       ],
       "type": "table"
      }
     },
     "output_type": "display_data"
    }
   ],
   "source": [
    "display(house_df.limit(5))"
   ]
  },
  {
   "cell_type": "markdown",
   "metadata": {
    "application/vnd.databricks.v1+cell": {
     "cellMetadata": {
      "byteLimit": 2048000,
      "rowLimit": 10000
     },
     "inputWidgets": {},
     "nuid": "75f99beb-cac4-4a92-91ed-f93bafd2ff71",
     "showTitle": false,
     "title": ""
    }
   },
   "source": [
    "###### write the processed data back to ADLS"
   ]
  },
  {
   "cell_type": "code",
   "execution_count": 0,
   "metadata": {
    "application/vnd.databricks.v1+cell": {
     "cellMetadata": {
      "byteLimit": 2048000,
      "rowLimit": 10000
     },
     "inputWidgets": {},
     "nuid": "99e42b34-d9bd-45de-9813-7cef36686cca",
     "showTitle": false,
     "title": ""
    }
   },
   "outputs": [],
   "source": [
    "house_df.write\\\n",
    "      .format('parquet')\\\n",
    "      .mode('append')\\\n",
    "      .partitionBy(\"location\")\\\n",
    "      .save('abfs://processed@kijijidata.dfs.core.windows.net/house/')\n"
   ]
  },
  {
   "cell_type": "markdown",
   "metadata": {
    "application/vnd.databricks.v1+cell": {
     "cellMetadata": {
      "byteLimit": 2048000,
      "rowLimit": 10000
     },
     "inputWidgets": {},
     "nuid": "1b044585-4303-485e-a6aa-5f05dbd65ce3",
     "showTitle": false,
     "title": ""
    }
   },
   "source": [
    "##### move processed data from raw to raw-processed"
   ]
  },
  {
   "cell_type": "code",
   "execution_count": 0,
   "metadata": {
    "application/vnd.databricks.v1+cell": {
     "cellMetadata": {
      "byteLimit": 2048000,
      "rowLimit": 10000
     },
     "inputWidgets": {},
     "nuid": "bd08b558-d091-4c01-b4a1-a60824fc65f1",
     "showTitle": false,
     "title": ""
    }
   },
   "outputs": [
    {
     "output_type": "stream",
     "name": "stdout",
     "output_type": "stream",
     "text": [
      "Out[70]: True"
     ]
    }
   ],
   "source": [
    "dbutils.fs.mv(\"abfs://raw@kijijidata.dfs.core.windows.net/house/\", \"abfs://raw-processed@kijijidata.dfs.core.windows.net/house/\", recurse=True)"
   ]
  },
  {
   "cell_type": "code",
   "execution_count": 0,
   "metadata": {
    "application/vnd.databricks.v1+cell": {
     "cellMetadata": {
      "byteLimit": 2048000,
      "rowLimit": 10000
     },
     "inputWidgets": {},
     "nuid": "61e5126b-1eed-4c86-8c0b-4c0f8bbb0e8a",
     "showTitle": false,
     "title": ""
    }
   },
   "outputs": [],
   "source": []
  }
 ],
 "metadata": {
  "application/vnd.databricks.v1+notebook": {
   "dashboards": [],
   "language": "python",
   "notebookMetadata": {
    "pythonIndentUnit": 4
   },
   "notebookName": "kijiji_ingest_house",
   "notebookOrigID": 3354036332381100,
   "widgets": {}
  }
 },
 "nbformat": 4,
 "nbformat_minor": 0
}
