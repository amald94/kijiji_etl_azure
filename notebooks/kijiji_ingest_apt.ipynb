{
 "cells": [
  {
   "cell_type": "markdown",
   "metadata": {
    "application/vnd.databricks.v1+cell": {
     "cellMetadata": {
      "byteLimit": 2048000,
      "rowLimit": 10000
     },
     "inputWidgets": {},
     "nuid": "7629cab4-8862-4b3b-a420-9e2f70959cf8",
     "showTitle": false,
     "title": ""
    }
   },
   "source": [
    "##### Access Azure data lake and read the data using\n",
    "1. Databricks secretScope\n",
    "2. Azure key-vault"
   ]
  },
  {
   "cell_type": "code",
   "execution_count": 0,
   "metadata": {
    "application/vnd.databricks.v1+cell": {
     "cellMetadata": {
      "byteLimit": 2048000,
      "rowLimit": 10000
     },
     "inputWidgets": {},
     "nuid": "ddd0f67f-c9be-4d34-866d-44472d9d2c2b",
     "showTitle": false,
     "title": ""
    }
   },
   "outputs": [
    {
     "output_type": "display_data",
     "data": {
      "text/html": [
       "<div class = \"ansiout\">\nProvides utilities for leveraging secrets within notebooks.\nDatabricks documentation for more info.\n    <h3></h3><b>get(scope: String, key: String): String</b> -> Gets the string representation of a secret value with scope and key<br /><b>getBytes(scope: String, key: String): byte[]</b> -> Gets the bytes representation of a secret value with scope and key<br /><b>list(scope: String): Seq</b> -> Lists secret metadata for secrets within a scope<br /><b>listScopes: Seq</b> -> Lists secret scopes<br /><br /></div>"
      ]
     },
     "metadata": {
      "application/vnd.databricks.v1+output": {
       "addedWidgets": {},
       "arguments": {},
       "data": "<div class = \"ansiout\">\nProvides utilities for leveraging secrets within notebooks.\nDatabricks documentation for more info.\n    <h3></h3><b>get(scope: String, key: String): String</b> -> Gets the string representation of a secret value with scope and key<br /><b>getBytes(scope: String, key: String): byte[]</b> -> Gets the bytes representation of a secret value with scope and key<br /><b>list(scope: String): Seq</b> -> Lists secret metadata for secrets within a scope<br /><b>listScopes: Seq</b> -> Lists secret scopes<br /><br /></div>",
       "datasetInfos": [],
       "metadata": {},
       "removedWidgets": [],
       "textData": null,
       "type": "htmlSandbox"
      }
     },
     "output_type": "display_data"
    }
   ],
   "source": [
    "dbutils.secrets.help()"
   ]
  },
  {
   "cell_type": "code",
   "execution_count": 0,
   "metadata": {
    "application/vnd.databricks.v1+cell": {
     "cellMetadata": {
      "byteLimit": 2048000,
      "rowLimit": 10000
     },
     "inputWidgets": {},
     "nuid": "27b54094-73ad-4f74-89f6-97c84e333b35",
     "showTitle": false,
     "title": ""
    }
   },
   "outputs": [
    {
     "output_type": "stream",
     "name": "stdout",
     "output_type": "stream",
     "text": [
      "Out[85]: [SecretScope(name='kijiji-data-scope')]"
     ]
    }
   ],
   "source": [
    "dbutils.secrets.listScopes()"
   ]
  },
  {
   "cell_type": "code",
   "execution_count": 0,
   "metadata": {
    "application/vnd.databricks.v1+cell": {
     "cellMetadata": {
      "byteLimit": 2048000,
      "rowLimit": 10000
     },
     "inputWidgets": {},
     "nuid": "b72f217e-206e-4287-a892-e625e03bf76d",
     "showTitle": false,
     "title": ""
    }
   },
   "outputs": [
    {
     "output_type": "stream",
     "name": "stdout",
     "output_type": "stream",
     "text": [
      "Out[86]: [SecretMetadata(key='account-key')]"
     ]
    }
   ],
   "source": [
    "dbutils.secrets.list(scope='kijiji-data-scope')"
   ]
  },
  {
   "cell_type": "code",
   "execution_count": 0,
   "metadata": {
    "application/vnd.databricks.v1+cell": {
     "cellMetadata": {
      "byteLimit": 2048000,
      "rowLimit": 10000
     },
     "inputWidgets": {},
     "nuid": "0245e556-c15a-42de-b785-99d3ddfab181",
     "showTitle": false,
     "title": ""
    }
   },
   "outputs": [],
   "source": [
    "account_key = dbutils.secrets.get(scope='kijiji-data-scope',key='account-key')"
   ]
  },
  {
   "cell_type": "code",
   "execution_count": 0,
   "metadata": {
    "application/vnd.databricks.v1+cell": {
     "cellMetadata": {
      "byteLimit": 2048000,
      "rowLimit": 10000
     },
     "inputWidgets": {},
     "nuid": "6df12bd5-af40-40a8-a3ff-77154ceb258f",
     "showTitle": false,
     "title": ""
    }
   },
   "outputs": [],
   "source": [
    "spark.conf.set(\n",
    "    \"fs.azure.account.key.kijijidata.dfs.core.windows.net\",\n",
    "    account_key\n",
    ")"
   ]
  },
  {
   "cell_type": "markdown",
   "metadata": {
    "application/vnd.databricks.v1+cell": {
     "cellMetadata": {
      "byteLimit": 2048000,
      "rowLimit": 10000
     },
     "inputWidgets": {},
     "nuid": "eeb15708-1655-4471-9950-39323acab899",
     "showTitle": false,
     "title": ""
    }
   },
   "source": [
    "##### check the access to ADLS"
   ]
  },
  {
   "cell_type": "code",
   "execution_count": 0,
   "metadata": {
    "application/vnd.databricks.v1+cell": {
     "cellMetadata": {
      "byteLimit": 2048000,
      "rowLimit": 10000
     },
     "inputWidgets": {},
     "nuid": "37593221-ae06-4a59-8697-d3946029c854",
     "showTitle": false,
     "title": ""
    }
   },
   "outputs": [
    {
     "output_type": "display_data",
     "data": {
      "text/html": [
       "<style scoped>\n  .table-result-container {\n    max-height: 300px;\n    overflow: auto;\n  }\n  table, th, td {\n    border: 1px solid black;\n    border-collapse: collapse;\n  }\n  th, td {\n    padding: 5px;\n  }\n  th {\n    text-align: left;\n  }\n</style><div class='table-result-container'><table class='table-result'><thead style='background-color: white'><tr><th>path</th><th>name</th><th>size</th><th>modificationTime</th></tr></thead><tbody><tr><td>abfs://raw@kijijidata.dfs.core.windows.net/apt/</td><td>apt/</td><td>0</td><td>1681309808000</td></tr><tr><td>abfs://raw@kijijidata.dfs.core.windows.net/house/</td><td>house/</td><td>0</td><td>1680861678000</td></tr></tbody></table></div>"
      ]
     },
     "metadata": {
      "application/vnd.databricks.v1+output": {
       "addedWidgets": {},
       "aggData": [],
       "aggError": "",
       "aggOverflow": false,
       "aggSchema": [],
       "aggSeriesLimitReached": false,
       "aggType": "",
       "arguments": {},
       "columnCustomDisplayInfos": {},
       "data": [
        [
         "abfs://raw@kijijidata.dfs.core.windows.net/apt/",
         "apt/",
         0,
         1681309808000
        ],
        [
         "abfs://raw@kijijidata.dfs.core.windows.net/house/",
         "house/",
         0,
         1680861678000
        ]
       ],
       "datasetInfos": [],
       "dbfsResultPath": null,
       "isJsonSchema": true,
       "metadata": {},
       "overflow": false,
       "plotOptions": {
        "customPlotOptions": {},
        "displayType": "table",
        "pivotAggregation": null,
        "pivotColumns": null,
        "xColumns": null,
        "yColumns": null
       },
       "removedWidgets": [],
       "schema": [
        {
         "metadata": "{}",
         "name": "path",
         "type": "\"string\""
        },
        {
         "metadata": "{}",
         "name": "name",
         "type": "\"string\""
        },
        {
         "metadata": "{}",
         "name": "size",
         "type": "\"long\""
        },
        {
         "metadata": "{}",
         "name": "modificationTime",
         "type": "\"long\""
        }
       ],
       "type": "table"
      }
     },
     "output_type": "display_data"
    }
   ],
   "source": [
    "display(dbutils.fs.ls(\"abfs://raw@kijijidata.dfs.core.windows.net\"))"
   ]
  },
  {
   "cell_type": "code",
   "execution_count": 0,
   "metadata": {
    "application/vnd.databricks.v1+cell": {
     "cellMetadata": {
      "byteLimit": 2048000,
      "rowLimit": 10000
     },
     "inputWidgets": {},
     "nuid": "682e0e69-6cae-432e-8858-65db499631ab",
     "showTitle": false,
     "title": ""
    }
   },
   "outputs": [
    {
     "output_type": "display_data",
     "data": {
      "text/html": [
       "<style scoped>\n  .table-result-container {\n    max-height: 300px;\n    overflow: auto;\n  }\n  table, th, td {\n    border: 1px solid black;\n    border-collapse: collapse;\n  }\n  th, td {\n    padding: 5px;\n  }\n  th {\n    text-align: left;\n  }\n</style><div class='table-result-container'><table class='table-result'><thead style='background-color: white'><tr><th>path</th><th>name</th><th>size</th><th>modificationTime</th></tr></thead><tbody><tr><td>abfs://raw@kijijidata.dfs.core.windows.net/apt/2023-04-01/</td><td>2023-04-01/</td><td>0</td><td>1681309808000</td></tr><tr><td>abfs://raw@kijijidata.dfs.core.windows.net/apt/2023-04-03/</td><td>2023-04-03/</td><td>0</td><td>1681309810000</td></tr><tr><td>abfs://raw@kijijidata.dfs.core.windows.net/apt/2023-04-04/</td><td>2023-04-04/</td><td>0</td><td>1681309811000</td></tr><tr><td>abfs://raw@kijijidata.dfs.core.windows.net/apt/2023-04-05/</td><td>2023-04-05/</td><td>0</td><td>1681309813000</td></tr><tr><td>abfs://raw@kijijidata.dfs.core.windows.net/apt/2023-04-06/</td><td>2023-04-06/</td><td>0</td><td>1681309815000</td></tr><tr><td>abfs://raw@kijijidata.dfs.core.windows.net/apt/2023-04-07/</td><td>2023-04-07/</td><td>0</td><td>1681309817000</td></tr></tbody></table></div>"
      ]
     },
     "metadata": {
      "application/vnd.databricks.v1+output": {
       "addedWidgets": {},
       "aggData": [],
       "aggError": "",
       "aggOverflow": false,
       "aggSchema": [],
       "aggSeriesLimitReached": false,
       "aggType": "",
       "arguments": {},
       "columnCustomDisplayInfos": {},
       "data": [
        [
         "abfs://raw@kijijidata.dfs.core.windows.net/apt/2023-04-01/",
         "2023-04-01/",
         0,
         1681309808000
        ],
        [
         "abfs://raw@kijijidata.dfs.core.windows.net/apt/2023-04-03/",
         "2023-04-03/",
         0,
         1681309810000
        ],
        [
         "abfs://raw@kijijidata.dfs.core.windows.net/apt/2023-04-04/",
         "2023-04-04/",
         0,
         1681309811000
        ],
        [
         "abfs://raw@kijijidata.dfs.core.windows.net/apt/2023-04-05/",
         "2023-04-05/",
         0,
         1681309813000
        ],
        [
         "abfs://raw@kijijidata.dfs.core.windows.net/apt/2023-04-06/",
         "2023-04-06/",
         0,
         1681309815000
        ],
        [
         "abfs://raw@kijijidata.dfs.core.windows.net/apt/2023-04-07/",
         "2023-04-07/",
         0,
         1681309817000
        ]
       ],
       "datasetInfos": [],
       "dbfsResultPath": null,
       "isJsonSchema": true,
       "metadata": {},
       "overflow": false,
       "plotOptions": {
        "customPlotOptions": {},
        "displayType": "table",
        "pivotAggregation": null,
        "pivotColumns": null,
        "xColumns": null,
        "yColumns": null
       },
       "removedWidgets": [],
       "schema": [
        {
         "metadata": "{}",
         "name": "path",
         "type": "\"string\""
        },
        {
         "metadata": "{}",
         "name": "name",
         "type": "\"string\""
        },
        {
         "metadata": "{}",
         "name": "size",
         "type": "\"long\""
        },
        {
         "metadata": "{}",
         "name": "modificationTime",
         "type": "\"long\""
        }
       ],
       "type": "table"
      }
     },
     "output_type": "display_data"
    }
   ],
   "source": [
    "display(dbutils.fs.ls(\"abfs://raw@kijijidata.dfs.core.windows.net/apt/\"))"
   ]
  },
  {
   "cell_type": "code",
   "execution_count": 0,
   "metadata": {
    "application/vnd.databricks.v1+cell": {
     "cellMetadata": {
      "byteLimit": 2048000,
      "rowLimit": 10000
     },
     "inputWidgets": {},
     "nuid": "7283830f-c516-4bc0-8a24-5c6cac926f3c",
     "showTitle": false,
     "title": ""
    }
   },
   "outputs": [
    {
     "output_type": "display_data",
     "data": {
      "text/html": [
       "<style scoped>\n  .table-result-container {\n    max-height: 300px;\n    overflow: auto;\n  }\n  table, th, td {\n    border: 1px solid black;\n    border-collapse: collapse;\n  }\n  th, td {\n    padding: 5px;\n  }\n  th {\n    text-align: left;\n  }\n</style><div class='table-result-container'><table class='table-result'><thead style='background-color: white'><tr><th>path</th><th>name</th><th>size</th><th>modificationTime</th></tr></thead><tbody><tr><td>abfs://raw@kijijidata.dfs.core.windows.net/apt/2023-04-06/kijiji_gta_1_2023-04-06.csv</td><td>kijiji_gta_1_2023-04-06.csv</td><td>200503</td><td>1681311680000</td></tr><tr><td>abfs://raw@kijijidata.dfs.core.windows.net/apt/2023-04-06/kijiji_gta_21_2023-04-06.csv</td><td>kijiji_gta_21_2023-04-06.csv</td><td>80942</td><td>1681311680000</td></tr><tr><td>abfs://raw@kijijidata.dfs.core.windows.net/apt/2023-04-06/kijiji_gta_41_2023-04-06.csv</td><td>kijiji_gta_41_2023-04-06.csv</td><td>71027</td><td>1681311681000</td></tr><tr><td>abfs://raw@kijijidata.dfs.core.windows.net/apt/2023-04-06/kijiji_gta_61_2023-04-06.csv</td><td>kijiji_gta_61_2023-04-06.csv</td><td>90544</td><td>1681311680000</td></tr><tr><td>abfs://raw@kijijidata.dfs.core.windows.net/apt/2023-04-06/kijiji_gta_81_2023-04-06.csv</td><td>kijiji_gta_81_2023-04-06.csv</td><td>81183</td><td>1681311680000</td></tr></tbody></table></div>"
      ]
     },
     "metadata": {
      "application/vnd.databricks.v1+output": {
       "addedWidgets": {},
       "aggData": [],
       "aggError": "",
       "aggOverflow": false,
       "aggSchema": [],
       "aggSeriesLimitReached": false,
       "aggType": "",
       "arguments": {},
       "columnCustomDisplayInfos": {},
       "data": [
        [
         "abfs://raw@kijijidata.dfs.core.windows.net/apt/2023-04-06/kijiji_gta_1_2023-04-06.csv",
         "kijiji_gta_1_2023-04-06.csv",
         200503,
         1681311680000
        ],
        [
         "abfs://raw@kijijidata.dfs.core.windows.net/apt/2023-04-06/kijiji_gta_21_2023-04-06.csv",
         "kijiji_gta_21_2023-04-06.csv",
         80942,
         1681311680000
        ],
        [
         "abfs://raw@kijijidata.dfs.core.windows.net/apt/2023-04-06/kijiji_gta_41_2023-04-06.csv",
         "kijiji_gta_41_2023-04-06.csv",
         71027,
         1681311681000
        ],
        [
         "abfs://raw@kijijidata.dfs.core.windows.net/apt/2023-04-06/kijiji_gta_61_2023-04-06.csv",
         "kijiji_gta_61_2023-04-06.csv",
         90544,
         1681311680000
        ],
        [
         "abfs://raw@kijijidata.dfs.core.windows.net/apt/2023-04-06/kijiji_gta_81_2023-04-06.csv",
         "kijiji_gta_81_2023-04-06.csv",
         81183,
         1681311680000
        ]
       ],
       "datasetInfos": [],
       "dbfsResultPath": null,
       "isJsonSchema": true,
       "metadata": {},
       "overflow": false,
       "plotOptions": {
        "customPlotOptions": {},
        "displayType": "table",
        "pivotAggregation": null,
        "pivotColumns": null,
        "xColumns": null,
        "yColumns": null
       },
       "removedWidgets": [],
       "schema": [
        {
         "metadata": "{}",
         "name": "path",
         "type": "\"string\""
        },
        {
         "metadata": "{}",
         "name": "name",
         "type": "\"string\""
        },
        {
         "metadata": "{}",
         "name": "size",
         "type": "\"long\""
        },
        {
         "metadata": "{}",
         "name": "modificationTime",
         "type": "\"long\""
        }
       ],
       "type": "table"
      }
     },
     "output_type": "display_data"
    }
   ],
   "source": [
    "display(dbutils.fs.ls(\"abfs://raw@kijijidata.dfs.core.windows.net/apt/2023-04-06/\"))"
   ]
  },
  {
   "cell_type": "code",
   "execution_count": 0,
   "metadata": {
    "application/vnd.databricks.v1+cell": {
     "cellMetadata": {
      "byteLimit": 2048000,
      "rowLimit": 10000
     },
     "inputWidgets": {},
     "nuid": "097771cb-3876-4f32-ad2a-bdf3ce459be6",
     "showTitle": false,
     "title": ""
    }
   },
   "outputs": [
    {
     "output_type": "display_data",
     "data": {
      "text/html": [
       "<style scoped>\n  .table-result-container {\n    max-height: 300px;\n    overflow: auto;\n  }\n  table, th, td {\n    border: 1px solid black;\n    border-collapse: collapse;\n  }\n  th, td {\n    padding: 5px;\n  }\n  th {\n    text-align: left;\n  }\n</style><div class='table-result-container'><table class='table-result'><thead style='background-color: white'><tr><th>_c0</th><th>_c1</th><th>_c2</th><th>_c3</th><th>_c4</th><th>_c5</th><th>_c6</th><th>_c7</th></tr></thead><tbody><tr><td>id</td><td>title</td><td>location</td><td>rent</td><td>bed_rooms</td><td>date_posted</td><td>url</td><td>scraped_on</td></tr><tr><td>1649856293</td><td>Large Luxury 2-Bedroom Toronto Apartment South West Facing</td><td>Toronto</td><td>$2,799.00</td><td>2</td><td>01/04/2023</td><td>https://www.kijiji.ca/v-apartments-condos/city-of-toronto/large-luxury-2-bedroom-toronto-apartment-south-west-facing/1649856293</td><td>2023-04-06</td></tr><tr><td>1649856299</td><td>1 MONTH FREE! Deluxe Open Concept 1 Bedroom Apartment, Toronto</td><td>Toronto</td><td>$2,349.00</td><td>1</td><td>< 15 hours ago</td><td>https://www.kijiji.ca/v-apartments-condos/city-of-toronto/1-month-free-deluxe-open-concept-1-bedroom-apartment-toronto/1649856299</td><td>2023-04-06</td></tr><tr><td>1653158018</td><td>Sunny, spacious 2 bdrm. circa 1898 Edwardian Roncy Village</td><td>Toronto</td><td>$2,595.00</td><td>2</td><td>< 22 hours ago</td><td>https://www.kijiji.ca/v-apartments-condos/city-of-toronto/sunny-spacious-2-bdrm-circa-1898-edwardian-roncy-village/1653158018</td><td>2023-04-06</td></tr><tr><td>1651533067</td><td>1 Bedroom Large Renovated Apartment For Rent in Toronto - 90 Eas</td><td>Toronto</td><td>$2,195.00</td><td>1</td><td>26/03/2023</td><td>https://www.kijiji.ca/v-apartments-condos/city-of-toronto/1-bedroom-large-renovated-apartment-for-rent-in-toronto-90-eas/1651533067</td><td>2023-04-06</td></tr></tbody></table></div>"
      ]
     },
     "metadata": {
      "application/vnd.databricks.v1+output": {
       "addedWidgets": {},
       "aggData": [],
       "aggError": "",
       "aggOverflow": false,
       "aggSchema": [],
       "aggSeriesLimitReached": false,
       "aggType": "",
       "arguments": {},
       "columnCustomDisplayInfos": {},
       "data": [
        [
         "id",
         "title",
         "location",
         "rent",
         "bed_rooms",
         "date_posted",
         "url",
         "scraped_on"
        ],
        [
         "1649856293",
         "Large Luxury 2-Bedroom Toronto Apartment South West Facing",
         "Toronto",
         "$2,799.00",
         "2",
         "01/04/2023",
         "https://www.kijiji.ca/v-apartments-condos/city-of-toronto/large-luxury-2-bedroom-toronto-apartment-south-west-facing/1649856293",
         "2023-04-06"
        ],
        [
         "1649856299",
         "1 MONTH FREE! Deluxe Open Concept 1 Bedroom Apartment, Toronto",
         "Toronto",
         "$2,349.00",
         "1",
         "< 15 hours ago",
         "https://www.kijiji.ca/v-apartments-condos/city-of-toronto/1-month-free-deluxe-open-concept-1-bedroom-apartment-toronto/1649856299",
         "2023-04-06"
        ],
        [
         "1653158018",
         "Sunny, spacious 2 bdrm. circa 1898 Edwardian Roncy Village",
         "Toronto",
         "$2,595.00",
         "2",
         "< 22 hours ago",
         "https://www.kijiji.ca/v-apartments-condos/city-of-toronto/sunny-spacious-2-bdrm-circa-1898-edwardian-roncy-village/1653158018",
         "2023-04-06"
        ],
        [
         "1651533067",
         "1 Bedroom Large Renovated Apartment For Rent in Toronto - 90 Eas",
         "Toronto",
         "$2,195.00",
         "1",
         "26/03/2023",
         "https://www.kijiji.ca/v-apartments-condos/city-of-toronto/1-bedroom-large-renovated-apartment-for-rent-in-toronto-90-eas/1651533067",
         "2023-04-06"
        ]
       ],
       "datasetInfos": [],
       "dbfsResultPath": null,
       "isJsonSchema": true,
       "metadata": {},
       "overflow": false,
       "plotOptions": {
        "customPlotOptions": {},
        "displayType": "table",
        "pivotAggregation": null,
        "pivotColumns": null,
        "xColumns": null,
        "yColumns": null
       },
       "removedWidgets": [],
       "schema": [
        {
         "metadata": "{}",
         "name": "_c0",
         "type": "\"string\""
        },
        {
         "metadata": "{}",
         "name": "_c1",
         "type": "\"string\""
        },
        {
         "metadata": "{}",
         "name": "_c2",
         "type": "\"string\""
        },
        {
         "metadata": "{}",
         "name": "_c3",
         "type": "\"string\""
        },
        {
         "metadata": "{}",
         "name": "_c4",
         "type": "\"string\""
        },
        {
         "metadata": "{}",
         "name": "_c5",
         "type": "\"string\""
        },
        {
         "metadata": "{}",
         "name": "_c6",
         "type": "\"string\""
        },
        {
         "metadata": "{}",
         "name": "_c7",
         "type": "\"string\""
        }
       ],
       "type": "table"
      }
     },
     "output_type": "display_data"
    }
   ],
   "source": [
    "display(spark.read.csv(\"abfs://raw@kijijidata.dfs.core.windows.net/apt/2023-04-06/kijiji_gta_1_2023-04-06.csv\").limit(5))"
   ]
  },
  {
   "cell_type": "markdown",
   "metadata": {
    "application/vnd.databricks.v1+cell": {
     "cellMetadata": {
      "byteLimit": 2048000,
      "rowLimit": 10000
     },
     "inputWidgets": {},
     "nuid": "ee9e3ce5-4577-40c2-9a1a-4c546c6e0346",
     "showTitle": false,
     "title": ""
    }
   },
   "source": [
    "###### Perform necessary transformations and save the result as parquet to ADLS\n",
    "1. read apt listsing and house rental listings from adls\n",
    "2. Specify Schema\n",
    "3. drop null column\n",
    "4. make title column smaller case\n",
    "5. clean location - group same text to one, eq :- City of Toronto, Toronto --> toronto\n",
    "6. convert rent column to integer and replace text please contact with 0\n",
    "7. clean bed_rooms columns and cast to int\n",
    "7. recalculate the date_posted column. eq :-  21 hours ago should be converted to proper date format\n",
    "8. create two additional columns. eq :- year and month column"
   ]
  },
  {
   "cell_type": "code",
   "execution_count": 0,
   "metadata": {
    "application/vnd.databricks.v1+cell": {
     "cellMetadata": {
      "byteLimit": 2048000,
      "rowLimit": 10000
     },
     "inputWidgets": {},
     "nuid": "493141c6-7c57-4c55-8ade-055818be99fd",
     "showTitle": false,
     "title": ""
    }
   },
   "outputs": [],
   "source": [
    "from pyspark.sql.types import StructField, StructType, StringType, IntegerType, DateType\n",
    "from pyspark.sql.functions import lower, udf, col, when, regexp_replace, trim, to_date, date_add\n",
    "from dateutil.relativedelta import relativedelta"
   ]
  },
  {
   "cell_type": "code",
   "execution_count": 0,
   "metadata": {
    "application/vnd.databricks.v1+cell": {
     "cellMetadata": {
      "byteLimit": 2048000,
      "rowLimit": 10000
     },
     "inputWidgets": {},
     "nuid": "7c20e340-786c-4dc5-89f5-33fecaf337c3",
     "showTitle": false,
     "title": ""
    }
   },
   "outputs": [
    {
     "output_type": "display_data",
     "data": {
      "text/html": [
       "<style scoped>\n  .table-result-container {\n    max-height: 300px;\n    overflow: auto;\n  }\n  table, th, td {\n    border: 1px solid black;\n    border-collapse: collapse;\n  }\n  th, td {\n    padding: 5px;\n  }\n  th {\n    text-align: left;\n  }\n</style><div class='table-result-container'><table class='table-result'><thead style='background-color: white'><tr><th>_c0</th><th>_c1</th><th>_c2</th><th>_c3</th><th>_c4</th><th>_c5</th><th>_c6</th><th>_c7</th></tr></thead><tbody><tr><td>id</td><td>title</td><td>location</td><td>rent</td><td>bed_rooms</td><td>date_posted</td><td>url</td><td>scraped_on</td></tr><tr><td>1649856293</td><td>Large Luxury 2-Bedroom Toronto Apartment South West Facing</td><td>Toronto</td><td>$2,799.00</td><td>2</td><td>01/04/2023</td><td>https://www.kijiji.ca/v-apartments-condos/city-of-toronto/large-luxury-2-bedroom-toronto-apartment-south-west-facing/1649856293</td><td>2023-04-06</td></tr><tr><td>1649856299</td><td>1 MONTH FREE! Deluxe Open Concept 1 Bedroom Apartment, Toronto</td><td>Toronto</td><td>$2,349.00</td><td>1</td><td>< 15 hours ago</td><td>https://www.kijiji.ca/v-apartments-condos/city-of-toronto/1-month-free-deluxe-open-concept-1-bedroom-apartment-toronto/1649856299</td><td>2023-04-06</td></tr><tr><td>1653158018</td><td>Sunny, spacious 2 bdrm. circa 1898 Edwardian Roncy Village</td><td>Toronto</td><td>$2,595.00</td><td>2</td><td>< 22 hours ago</td><td>https://www.kijiji.ca/v-apartments-condos/city-of-toronto/sunny-spacious-2-bdrm-circa-1898-edwardian-roncy-village/1653158018</td><td>2023-04-06</td></tr><tr><td>1651533067</td><td>1 Bedroom Large Renovated Apartment For Rent in Toronto - 90 Eas</td><td>Toronto</td><td>$2,195.00</td><td>1</td><td>26/03/2023</td><td>https://www.kijiji.ca/v-apartments-condos/city-of-toronto/1-bedroom-large-renovated-apartment-for-rent-in-toronto-90-eas/1651533067</td><td>2023-04-06</td></tr></tbody></table></div>"
      ]
     },
     "metadata": {
      "application/vnd.databricks.v1+output": {
       "addedWidgets": {},
       "aggData": [],
       "aggError": "",
       "aggOverflow": false,
       "aggSchema": [],
       "aggSeriesLimitReached": false,
       "aggType": "",
       "arguments": {},
       "columnCustomDisplayInfos": {},
       "data": [
        [
         "id",
         "title",
         "location",
         "rent",
         "bed_rooms",
         "date_posted",
         "url",
         "scraped_on"
        ],
        [
         "1649856293",
         "Large Luxury 2-Bedroom Toronto Apartment South West Facing",
         "Toronto",
         "$2,799.00",
         "2",
         "01/04/2023",
         "https://www.kijiji.ca/v-apartments-condos/city-of-toronto/large-luxury-2-bedroom-toronto-apartment-south-west-facing/1649856293",
         "2023-04-06"
        ],
        [
         "1649856299",
         "1 MONTH FREE! Deluxe Open Concept 1 Bedroom Apartment, Toronto",
         "Toronto",
         "$2,349.00",
         "1",
         "< 15 hours ago",
         "https://www.kijiji.ca/v-apartments-condos/city-of-toronto/1-month-free-deluxe-open-concept-1-bedroom-apartment-toronto/1649856299",
         "2023-04-06"
        ],
        [
         "1653158018",
         "Sunny, spacious 2 bdrm. circa 1898 Edwardian Roncy Village",
         "Toronto",
         "$2,595.00",
         "2",
         "< 22 hours ago",
         "https://www.kijiji.ca/v-apartments-condos/city-of-toronto/sunny-spacious-2-bdrm-circa-1898-edwardian-roncy-village/1653158018",
         "2023-04-06"
        ],
        [
         "1651533067",
         "1 Bedroom Large Renovated Apartment For Rent in Toronto - 90 Eas",
         "Toronto",
         "$2,195.00",
         "1",
         "26/03/2023",
         "https://www.kijiji.ca/v-apartments-condos/city-of-toronto/1-bedroom-large-renovated-apartment-for-rent-in-toronto-90-eas/1651533067",
         "2023-04-06"
        ]
       ],
       "datasetInfos": [],
       "dbfsResultPath": null,
       "isJsonSchema": true,
       "metadata": {},
       "overflow": false,
       "plotOptions": {
        "customPlotOptions": {},
        "displayType": "table",
        "pivotAggregation": null,
        "pivotColumns": null,
        "xColumns": null,
        "yColumns": null
       },
       "removedWidgets": [],
       "schema": [
        {
         "metadata": "{}",
         "name": "_c0",
         "type": "\"string\""
        },
        {
         "metadata": "{}",
         "name": "_c1",
         "type": "\"string\""
        },
        {
         "metadata": "{}",
         "name": "_c2",
         "type": "\"string\""
        },
        {
         "metadata": "{}",
         "name": "_c3",
         "type": "\"string\""
        },
        {
         "metadata": "{}",
         "name": "_c4",
         "type": "\"string\""
        },
        {
         "metadata": "{}",
         "name": "_c5",
         "type": "\"string\""
        },
        {
         "metadata": "{}",
         "name": "_c6",
         "type": "\"string\""
        },
        {
         "metadata": "{}",
         "name": "_c7",
         "type": "\"string\""
        }
       ],
       "type": "table"
      }
     },
     "output_type": "display_data"
    }
   ],
   "source": [
    "display(spark.read.csv(\"abfs://raw@kijijidata.dfs.core.windows.net/apt/2023-04-06/kijiji_gta_1_2023-04-06.csv\").limit(5))"
   ]
  },
  {
   "cell_type": "code",
   "execution_count": 0,
   "metadata": {
    "application/vnd.databricks.v1+cell": {
     "cellMetadata": {
      "byteLimit": 2048000,
      "rowLimit": 10000
     },
     "inputWidgets": {},
     "nuid": "e8f34e67-a5ff-4c76-9f6c-342e8f18daad",
     "showTitle": false,
     "title": ""
    }
   },
   "outputs": [],
   "source": [
    "rental_schema = StructType(fields=[\n",
    "                                StructField(\"id\", IntegerType(), True),\n",
    "                                StructField(\"title\", StringType(), True),\n",
    "                                StructField(\"location\", StringType(), True),\n",
    "                                StructField(\"rent\", StringType(), True),\n",
    "                                StructField(\"bed_rooms\", StringType(), True),\n",
    "                                StructField(\"date_posted\", StringType(), True),\n",
    "                                StructField(\"url\", StringType(), True),\n",
    "                                StructField(\"scraped_on\", DateType(), True)\n",
    "                            ])"
   ]
  },
  {
   "cell_type": "code",
   "execution_count": 0,
   "metadata": {
    "application/vnd.databricks.v1+cell": {
     "cellMetadata": {
      "byteLimit": 2048000,
      "rowLimit": 10000
     },
     "inputWidgets": {},
     "nuid": "c57cd859-388b-4ddf-ab8e-9bb5fe2d82de",
     "showTitle": false,
     "title": ""
    }
   },
   "outputs": [],
   "source": [
    "apt_df = spark.read\\\n",
    "              .option(\"header\", True)\\\n",
    "              .schema(rental_schema)\\\n",
    "              .csv(\"abfs://raw@kijijidata.dfs.core.windows.net/apt/**/*.csv\")\\\n",
    "              .drop(\"null\")"
   ]
  },
  {
   "cell_type": "code",
   "execution_count": 0,
   "metadata": {
    "application/vnd.databricks.v1+cell": {
     "cellMetadata": {
      "byteLimit": 2048000,
      "rowLimit": 10000
     },
     "inputWidgets": {},
     "nuid": "73101922-29ed-475f-aa19-ab707f983dfb",
     "showTitle": false,
     "title": ""
    }
   },
   "outputs": [
    {
     "output_type": "stream",
     "name": "stdout",
     "output_type": "stream",
     "text": [
      "Out[97]: 9785"
     ]
    }
   ],
   "source": [
    "apt_df.count()"
   ]
  },
  {
   "cell_type": "code",
   "execution_count": 0,
   "metadata": {
    "application/vnd.databricks.v1+cell": {
     "cellMetadata": {
      "byteLimit": 2048000,
      "rowLimit": 10000
     },
     "inputWidgets": {},
     "nuid": "cd1c0771-f5ab-4e93-a511-9b79e2a4826c",
     "showTitle": false,
     "title": ""
    }
   },
   "outputs": [],
   "source": [
    "apt_df = apt_df.dropna(subset=[\"id\"])"
   ]
  },
  {
   "cell_type": "code",
   "execution_count": 0,
   "metadata": {
    "application/vnd.databricks.v1+cell": {
     "cellMetadata": {
      "byteLimit": 2048000,
      "rowLimit": 10000
     },
     "inputWidgets": {},
     "nuid": "9bb9fa1e-35f9-4180-8578-a5d982cf34be",
     "showTitle": false,
     "title": ""
    }
   },
   "outputs": [
    {
     "output_type": "stream",
     "name": "stdout",
     "output_type": "stream",
     "text": [
      "Out[99]: 9765"
     ]
    }
   ],
   "source": [
    "apt_df.count()"
   ]
  },
  {
   "cell_type": "code",
   "execution_count": 0,
   "metadata": {
    "application/vnd.databricks.v1+cell": {
     "cellMetadata": {
      "byteLimit": 2048000,
      "rowLimit": 10000
     },
     "inputWidgets": {},
     "nuid": "93a03104-56bf-4c82-a6c6-7bf64bc0cc9e",
     "showTitle": false,
     "title": ""
    }
   },
   "outputs": [
    {
     "output_type": "display_data",
     "data": {
      "text/html": [
       "<style scoped>\n  .table-result-container {\n    max-height: 300px;\n    overflow: auto;\n  }\n  table, th, td {\n    border: 1px solid black;\n    border-collapse: collapse;\n  }\n  th, td {\n    padding: 5px;\n  }\n  th {\n    text-align: left;\n  }\n</style><div class='table-result-container'><table class='table-result'><thead style='background-color: white'><tr><th>id</th><th>title</th><th>location</th><th>rent</th><th>bed_rooms</th><th>date_posted</th><th>url</th><th>scraped_on</th></tr></thead><tbody><tr><td>1653225832</td><td>1 Bedroom Apartment for Rent! Dufferin St./Lawrence Ave.!</td><td>Toronto</td><td>$1,750.00</td><td>1</td><td>2023-03-13 00:00:00.000</td><td>https://www.kijiji.ca/v-apartments-condos/city-of-toronto/1-bedroom-apartment-for-rent-dufferin-st-lawrence-ave/1653225832</td><td>2023-04-03</td></tr><tr><td>1652711690</td><td>Greenrock Davisville - Renovated 1 Bedroom Suite Available</td><td>TORONTO</td><td>$2,500.00</td><td>1</td><td>2023-04-01 00:00:00.000</td><td>https://www.kijiji.ca/v-apartments-condos/city-of-toronto/greenrock-davisville-renovated-1-bedroom-suite-available/1652711690</td><td>2023-04-03</td></tr><tr><td>1623036589</td><td>Brand New Luxury Two Bedroom Apartment Rental in Oakville!</td><td>Oakville / Halton Region</td><td>$3,295.00</td><td>2</td><td>2023-03-23 00:00:00.000</td><td>https://www.kijiji.ca/v-apartments-condos/oakville-halton-region/brand-new-luxury-two-bedroom-apartment-rental-in-oakville/1623036589</td><td>2023-04-03</td></tr><tr><td>1560281969</td><td>BUY HOUSE WITH ZERO DOWN OR RENT TO OWN PROGRAM</td><td>Oshawa / Durham Region</td><td>Please Contact</td><td>4</td><td>2023-03-30 00:00:00.000</td><td>https://www.kijiji.ca/v-apartments-condos/oshawa-durham-region/buy-house-with-zero-down-or-rent-to-own-program/1560281969</td><td>2023-04-03</td></tr><tr><td>1653804711</td><td>Modern townhouse</td><td>Markham / York Region</td><td>$2,800.00</td><td>2 + Den</td><td>2023-03-19 00:00:00.000</td><td>https://www.kijiji.ca/v-apartments-condos/markham-york-region/modern-townhouse/1653804711</td><td>2023-04-03</td></tr></tbody></table></div>"
      ]
     },
     "metadata": {
      "application/vnd.databricks.v1+output": {
       "addedWidgets": {},
       "aggData": [],
       "aggError": "",
       "aggOverflow": false,
       "aggSchema": [],
       "aggSeriesLimitReached": false,
       "aggType": "",
       "arguments": {},
       "columnCustomDisplayInfos": {},
       "data": [
        [
         1653225832,
         "1 Bedroom Apartment for Rent! Dufferin St./Lawrence Ave.!",
         "Toronto",
         "$1,750.00",
         "1",
         "2023-03-13 00:00:00.000",
         "https://www.kijiji.ca/v-apartments-condos/city-of-toronto/1-bedroom-apartment-for-rent-dufferin-st-lawrence-ave/1653225832",
         "2023-04-03"
        ],
        [
         1652711690,
         "Greenrock Davisville - Renovated 1 Bedroom Suite Available",
         "TORONTO",
         "$2,500.00",
         "1",
         "2023-04-01 00:00:00.000",
         "https://www.kijiji.ca/v-apartments-condos/city-of-toronto/greenrock-davisville-renovated-1-bedroom-suite-available/1652711690",
         "2023-04-03"
        ],
        [
         1623036589,
         "Brand New Luxury Two Bedroom Apartment Rental in Oakville!",
         "Oakville / Halton Region",
         "$3,295.00",
         "2",
         "2023-03-23 00:00:00.000",
         "https://www.kijiji.ca/v-apartments-condos/oakville-halton-region/brand-new-luxury-two-bedroom-apartment-rental-in-oakville/1623036589",
         "2023-04-03"
        ],
        [
         1560281969,
         "BUY HOUSE WITH ZERO DOWN OR RENT TO OWN PROGRAM",
         "Oshawa / Durham Region",
         "Please Contact",
         "4",
         "2023-03-30 00:00:00.000",
         "https://www.kijiji.ca/v-apartments-condos/oshawa-durham-region/buy-house-with-zero-down-or-rent-to-own-program/1560281969",
         "2023-04-03"
        ],
        [
         1653804711,
         "Modern townhouse",
         "Markham / York Region",
         "$2,800.00",
         "2 + Den",
         "2023-03-19 00:00:00.000",
         "https://www.kijiji.ca/v-apartments-condos/markham-york-region/modern-townhouse/1653804711",
         "2023-04-03"
        ]
       ],
       "datasetInfos": [],
       "dbfsResultPath": null,
       "isJsonSchema": true,
       "metadata": {},
       "overflow": false,
       "plotOptions": {
        "customPlotOptions": {},
        "displayType": "table",
        "pivotAggregation": null,
        "pivotColumns": null,
        "xColumns": null,
        "yColumns": null
       },
       "removedWidgets": [],
       "schema": [
        {
         "metadata": "{}",
         "name": "id",
         "type": "\"integer\""
        },
        {
         "metadata": "{}",
         "name": "title",
         "type": "\"string\""
        },
        {
         "metadata": "{}",
         "name": "location",
         "type": "\"string\""
        },
        {
         "metadata": "{}",
         "name": "rent",
         "type": "\"string\""
        },
        {
         "metadata": "{}",
         "name": "bed_rooms",
         "type": "\"string\""
        },
        {
         "metadata": "{}",
         "name": "date_posted",
         "type": "\"string\""
        },
        {
         "metadata": "{}",
         "name": "url",
         "type": "\"string\""
        },
        {
         "metadata": "{}",
         "name": "scraped_on",
         "type": "\"date\""
        }
       ],
       "type": "table"
      }
     },
     "output_type": "display_data"
    }
   ],
   "source": [
    "display(apt_df.limit(5))"
   ]
  },
  {
   "cell_type": "code",
   "execution_count": 0,
   "metadata": {
    "application/vnd.databricks.v1+cell": {
     "cellMetadata": {
      "byteLimit": 2048000,
      "rowLimit": 10000
     },
     "inputWidgets": {},
     "nuid": "de8697d9-7395-473a-942b-46dc129244b2",
     "showTitle": false,
     "title": ""
    }
   },
   "outputs": [],
   "source": [
    "apt_df = apt_df.withColumn(\"title\", lower(apt_df[\"title\"]))\\\n",
    "               .withColumn(\"date_posted\", lower(apt_df[\"date_posted\"]))\\\n",
    "               .withColumn(\"location\", when(col(\"location\").isNull(), \"Not Available\").otherwise(lower(col(\"location\"))))\\\n",
    "               .withColumn(\"rent\", when(col(\"rent\") == \"Please Contact\", 0).otherwise(col(\"rent\")))\\\n",
    "               .withColumn(\"rent\", trim(regexp_replace(col(\"rent\"), \"[$,]\", \"\")).cast(\"decimal(10,2)\"))\\\n",
    "               .withColumn(\"bed_rooms\", when(col(\"bed_rooms\").isNull(), 0).otherwise(lower(col(\"bed_rooms\"))))"
   ]
  },
  {
   "cell_type": "code",
   "execution_count": 0,
   "metadata": {
    "application/vnd.databricks.v1+cell": {
     "cellMetadata": {
      "byteLimit": 2048000,
      "rowLimit": 10000
     },
     "inputWidgets": {},
     "nuid": "1bcc6d1a-1876-4b50-987b-5b611843b4cf",
     "showTitle": false,
     "title": ""
    }
   },
   "outputs": [
    {
     "output_type": "display_data",
     "data": {
      "text/html": [
       "<style scoped>\n  .table-result-container {\n    max-height: 300px;\n    overflow: auto;\n  }\n  table, th, td {\n    border: 1px solid black;\n    border-collapse: collapse;\n  }\n  th, td {\n    padding: 5px;\n  }\n  th {\n    text-align: left;\n  }\n</style><div class='table-result-container'><table class='table-result'><thead style='background-color: white'><tr><th>id</th><th>title</th><th>location</th><th>rent</th><th>bed_rooms</th><th>date_posted</th><th>url</th><th>scraped_on</th></tr></thead><tbody><tr><td>1653225832</td><td>1 bedroom apartment for rent! dufferin st./lawrence ave.!</td><td>toronto</td><td>1750.00</td><td>1</td><td>2023-03-13 00:00:00.000</td><td>https://www.kijiji.ca/v-apartments-condos/city-of-toronto/1-bedroom-apartment-for-rent-dufferin-st-lawrence-ave/1653225832</td><td>2023-04-03</td></tr><tr><td>1652711690</td><td>greenrock davisville - renovated 1 bedroom suite available</td><td>toronto</td><td>2500.00</td><td>1</td><td>2023-04-01 00:00:00.000</td><td>https://www.kijiji.ca/v-apartments-condos/city-of-toronto/greenrock-davisville-renovated-1-bedroom-suite-available/1652711690</td><td>2023-04-03</td></tr><tr><td>1623036589</td><td>brand new luxury two bedroom apartment rental in oakville!</td><td>oakville / halton region</td><td>3295.00</td><td>2</td><td>2023-03-23 00:00:00.000</td><td>https://www.kijiji.ca/v-apartments-condos/oakville-halton-region/brand-new-luxury-two-bedroom-apartment-rental-in-oakville/1623036589</td><td>2023-04-03</td></tr><tr><td>1560281969</td><td>buy house with zero down or rent to own program</td><td>oshawa / durham region</td><td>0.00</td><td>4</td><td>2023-03-30 00:00:00.000</td><td>https://www.kijiji.ca/v-apartments-condos/oshawa-durham-region/buy-house-with-zero-down-or-rent-to-own-program/1560281969</td><td>2023-04-03</td></tr><tr><td>1653804711</td><td>modern townhouse</td><td>markham / york region</td><td>2800.00</td><td>2 + den</td><td>2023-03-19 00:00:00.000</td><td>https://www.kijiji.ca/v-apartments-condos/markham-york-region/modern-townhouse/1653804711</td><td>2023-04-03</td></tr></tbody></table></div>"
      ]
     },
     "metadata": {
      "application/vnd.databricks.v1+output": {
       "addedWidgets": {},
       "aggData": [],
       "aggError": "",
       "aggOverflow": false,
       "aggSchema": [],
       "aggSeriesLimitReached": false,
       "aggType": "",
       "arguments": {},
       "columnCustomDisplayInfos": {},
       "data": [
        [
         1653225832,
         "1 bedroom apartment for rent! dufferin st./lawrence ave.!",
         "toronto",
         "1750.00",
         "1",
         "2023-03-13 00:00:00.000",
         "https://www.kijiji.ca/v-apartments-condos/city-of-toronto/1-bedroom-apartment-for-rent-dufferin-st-lawrence-ave/1653225832",
         "2023-04-03"
        ],
        [
         1652711690,
         "greenrock davisville - renovated 1 bedroom suite available",
         "toronto",
         "2500.00",
         "1",
         "2023-04-01 00:00:00.000",
         "https://www.kijiji.ca/v-apartments-condos/city-of-toronto/greenrock-davisville-renovated-1-bedroom-suite-available/1652711690",
         "2023-04-03"
        ],
        [
         1623036589,
         "brand new luxury two bedroom apartment rental in oakville!",
         "oakville / halton region",
         "3295.00",
         "2",
         "2023-03-23 00:00:00.000",
         "https://www.kijiji.ca/v-apartments-condos/oakville-halton-region/brand-new-luxury-two-bedroom-apartment-rental-in-oakville/1623036589",
         "2023-04-03"
        ],
        [
         1560281969,
         "buy house with zero down or rent to own program",
         "oshawa / durham region",
         "0.00",
         "4",
         "2023-03-30 00:00:00.000",
         "https://www.kijiji.ca/v-apartments-condos/oshawa-durham-region/buy-house-with-zero-down-or-rent-to-own-program/1560281969",
         "2023-04-03"
        ],
        [
         1653804711,
         "modern townhouse",
         "markham / york region",
         "2800.00",
         "2 + den",
         "2023-03-19 00:00:00.000",
         "https://www.kijiji.ca/v-apartments-condos/markham-york-region/modern-townhouse/1653804711",
         "2023-04-03"
        ]
       ],
       "datasetInfos": [],
       "dbfsResultPath": null,
       "isJsonSchema": true,
       "metadata": {},
       "overflow": false,
       "plotOptions": {
        "customPlotOptions": {},
        "displayType": "table",
        "pivotAggregation": null,
        "pivotColumns": null,
        "xColumns": null,
        "yColumns": null
       },
       "removedWidgets": [],
       "schema": [
        {
         "metadata": "{}",
         "name": "id",
         "type": "\"integer\""
        },
        {
         "metadata": "{}",
         "name": "title",
         "type": "\"string\""
        },
        {
         "metadata": "{}",
         "name": "location",
         "type": "\"string\""
        },
        {
         "metadata": "{}",
         "name": "rent",
         "type": "\"decimal(10,2)\""
        },
        {
         "metadata": "{}",
         "name": "bed_rooms",
         "type": "\"string\""
        },
        {
         "metadata": "{}",
         "name": "date_posted",
         "type": "\"string\""
        },
        {
         "metadata": "{}",
         "name": "url",
         "type": "\"string\""
        },
        {
         "metadata": "{}",
         "name": "scraped_on",
         "type": "\"date\""
        }
       ],
       "type": "table"
      }
     },
     "output_type": "display_data"
    }
   ],
   "source": [
    "display(apt_df.limit(5))"
   ]
  },
  {
   "cell_type": "code",
   "execution_count": 0,
   "metadata": {
    "application/vnd.databricks.v1+cell": {
     "cellMetadata": {
      "byteLimit": 2048000,
      "rowLimit": 10000
     },
     "inputWidgets": {},
     "nuid": "3cd552d1-d486-403a-9eb2-6178ca920bf2",
     "showTitle": false,
     "title": ""
    }
   },
   "outputs": [
    {
     "output_type": "stream",
     "name": "stdout",
     "output_type": "stream",
     "text": [
      "root\n |-- id: integer (nullable = true)\n |-- title: string (nullable = true)\n |-- location: string (nullable = true)\n |-- rent: decimal(10,2) (nullable = true)\n |-- bed_rooms: string (nullable = true)\n |-- date_posted: string (nullable = true)\n |-- url: string (nullable = true)\n |-- scraped_on: date (nullable = true)\n\n"
     ]
    }
   ],
   "source": [
    "apt_df.printSchema()"
   ]
  },
  {
   "cell_type": "code",
   "execution_count": 0,
   "metadata": {
    "application/vnd.databricks.v1+cell": {
     "cellMetadata": {
      "byteLimit": 2048000,
      "rowLimit": 10000
     },
     "inputWidgets": {},
     "nuid": "fd4de965-60de-41b8-b60d-3b179a041022",
     "showTitle": false,
     "title": ""
    }
   },
   "outputs": [
    {
     "output_type": "stream",
     "name": "stdout",
     "output_type": "stream",
     "text": [
      "Row(location='kitchener')\nRow(location='town of caledon')\nRow(location='concord')\nRow(location='acton')\nRow(location='oshawa / durham region')\nRow(location='orangeville')\nRow(location='markham / york region')\nRow(location='meadowvale')\nRow(location='roseneath')\nRow(location='ashburn')\nRow(location='bradford')\nRow(location='caledon')\nRow(location='toronto')\nRow(location='burlington')\nRow(location='sutton')\nRow(location='schomberg')\nRow(location='erin')\nRow(location='milton')\nRow(location='cobourg')\nRow(location='nobleton')\nRow(location='city of toronto')\nRow(location='brampton')\nRow(location='township of guelph/eramosa')\nRow(location='mississauga')\nRow(location='churchville')\nRow(location='east york')\nRow(location='kettleby')\nRow(location='vaughan')\nRow(location='stouffville')\nRow(location='mineola')\nRow(location='north yorks')\nRow(location='toronto m9m 0b5')\nRow(location='etobicoke')\nRow(location='whitchurch-stouffville')\nRow(location='eden mills')\nRow(location='erin mills')\nRow(location='newmarket')\nRow(location='oshawa')\nRow(location='east credit')\nRow(location='georgetown')\nRow(location='ajax')\nRow(location='guelph')\nRow(location='bolton')\nRow(location='new tecumseth')\nRow(location='cooksville')\nRow(location='markham')\nRow(location='hamilton')\nRow(location='palermo west')\nRow(location='gormley')\nRow(location='unionville')\nRow(location='north york')\nRow(location='king')\nRow(location='whitby')\nRow(location='mississauga / peel region')\nRow(location='woodbridge')\nRow(location='tottenham')\nRow(location='bowmanville')\nRow(location='deerfield')\nRow(location='mount albert')\nRow(location='richmond hill')\nRow(location='halton hills')\nRow(location='east gwillimbury')\nRow(location='bronte')\nRow(location='thornhill')\nRow(location='newcastle')\nRow(location='niagara on the lake')\nRow(location='oakville / halton region')\nRow(location='georgina')\nRow(location='meadowvale village')\nRow(location='courtice')\nRow(location='milliken')\nRow(location='uxbridge')\nRow(location='valley creek')\nRow(location='missisauga')\nRow(location='eastdale')\nRow(location='grafton')\nRow(location='scarborough')\nRow(location='regional municipality of york')\nRow(location='york')\nRow(location='lefroy')\nRow(location='old toronto')\nRow(location='lakeview')\nRow(location='Not Available')\nRow(location='spring valley')\nRow(location='hampton')\nRow(location='oakville')\nRow(location='campbellville')\nRow(location='maple')\nRow(location='pickering')\nRow(location='aurora')\nRow(location='bradford west gwillimbury')\nRow(location='port hope')\nRow(location='thorold')\nRow(location='berczy village')\nRow(location='blackstock')\nRow(location='inglewood')\nRow(location='innisfil')\nRow(location='collingwood')\nRow(location='orillia')\nRow(location='streetsville')\nRow(location='donevan')\nRow(location='port perry')\nRow(location='brooklin')\nRow(location='cambridge')\nRow(location='bramalea')\nRow(location='rockwood')\nRow(location='barrie')\nRow(location='regional municipality of peel')\nRow(location='windfields')\nRow(location='malton')\nRow(location='caledon east')\nRow(location='ottawa')\nRow(location='township of melancthon')\nRow(location='king city')\nRow(location='grimsby')\n"
     ]
    }
   ],
   "source": [
    "for location in unique_locations:\n",
    "    print(location)"
   ]
  },
  {
   "cell_type": "code",
   "execution_count": 0,
   "metadata": {
    "application/vnd.databricks.v1+cell": {
     "cellMetadata": {
      "byteLimit": 2048000,
      "rowLimit": 10000
     },
     "inputWidgets": {},
     "nuid": "8576702c-8788-4b5b-9c18-f58cf32a4697",
     "showTitle": false,
     "title": ""
    }
   },
   "outputs": [
    {
     "output_type": "stream",
     "name": "stdout",
     "output_type": "stream",
     "text": [
      "+----------+--------------------+---------------+-------+---------+--------------------+--------------------+----------+\n|        id|               title|       location|   rent|bed_rooms|         date_posted|                 url|scraped_on|\n+----------+--------------------+---------------+-------+---------+--------------------+--------------------+----------+\n|1649856271|      1 bdrm and den|city of toronto|2615.00|  1 + den|2023-04-03 00:00:...|https://www.kijij...|2023-04-03|\n|1640353318|1 bdrm and den- k...|city of toronto|2850.00|  1 + den|2023-04-03 00:00:...|https://www.kijij...|2023-04-03|\n|1649220565|1 bdrm + den +din...|city of toronto|3220.00|        1|2023-04-03 00:00:...|https://www.kijij...|2023-04-03|\n|1655388109|beautiful 3 bedro...|city of toronto|3400.00|        3|2023-04-03 00:00:...|https://www.kijij...|2023-04-03|\n|1526047287|spacious 1 bed + ...|city of toronto|2495.00|  1 + den|2023-04-03 00:00:...|https://www.kijij...|2023-04-03|\n+----------+--------------------+---------------+-------+---------+--------------------+--------------------+----------+\nonly showing top 5 rows\n\n"
     ]
    }
   ],
   "source": [
    "apt_df[apt_df[\"location\"]==\"city of toronto\"].show(5)"
   ]
  },
  {
   "cell_type": "code",
   "execution_count": 0,
   "metadata": {
    "application/vnd.databricks.v1+cell": {
     "cellMetadata": {
      "byteLimit": 2048000,
      "rowLimit": 10000
     },
     "inputWidgets": {},
     "nuid": "aa7192ab-7a6e-435b-9fb1-271b19c04e4e",
     "showTitle": false,
     "title": ""
    }
   },
   "outputs": [],
   "source": [
    "@udf(returnType=StringType())\n",
    "def clean_location(location):\n",
    "    # split the location text by / and return first element\n",
    "    # eq : mississauga / peel region - > mississauga\n",
    "    location_dict = {\"city of toronto\":\"toronto\"}\n",
    "    if str(location) == \"None\":\n",
    "        return \"N/A\"\n",
    "    location = location.split(\"/\")[0]\n",
    "    if location in location_dict:\n",
    "        return location_dict[location]\n",
    "    return location.strip()"
   ]
  },
  {
   "cell_type": "code",
   "execution_count": 0,
   "metadata": {
    "application/vnd.databricks.v1+cell": {
     "cellMetadata": {
      "byteLimit": 2048000,
      "rowLimit": 10000
     },
     "inputWidgets": {},
     "nuid": "8d611996-fda4-479c-b52e-ff2cb1c28d72",
     "showTitle": false,
     "title": ""
    }
   },
   "outputs": [],
   "source": [
    "apt_df = apt_df.withColumn(\"location\", clean_location(apt_df[\"location\"]))"
   ]
  },
  {
   "cell_type": "code",
   "execution_count": 0,
   "metadata": {
    "application/vnd.databricks.v1+cell": {
     "cellMetadata": {
      "byteLimit": 2048000,
      "rowLimit": 10000
     },
     "inputWidgets": {},
     "nuid": "964708ae-7a33-4a07-84a5-b39b8610d908",
     "showTitle": false,
     "title": ""
    }
   },
   "outputs": [
    {
     "output_type": "display_data",
     "data": {
      "text/html": [
       "<style scoped>\n  .table-result-container {\n    max-height: 300px;\n    overflow: auto;\n  }\n  table, th, td {\n    border: 1px solid black;\n    border-collapse: collapse;\n  }\n  th, td {\n    padding: 5px;\n  }\n  th {\n    text-align: left;\n  }\n</style><div class='table-result-container'><table class='table-result'><thead style='background-color: white'><tr><th>id</th><th>title</th><th>location</th><th>rent</th><th>bed_rooms</th><th>date_posted</th><th>url</th><th>scraped_on</th></tr></thead><tbody><tr><td>1653225832</td><td>1 bedroom apartment for rent! dufferin st./lawrence ave.!</td><td>toronto</td><td>1750.00</td><td>1</td><td>2023-03-13 00:00:00.000</td><td>https://www.kijiji.ca/v-apartments-condos/city-of-toronto/1-bedroom-apartment-for-rent-dufferin-st-lawrence-ave/1653225832</td><td>2023-04-03</td></tr><tr><td>1652711690</td><td>greenrock davisville - renovated 1 bedroom suite available</td><td>toronto</td><td>2500.00</td><td>1</td><td>2023-04-01 00:00:00.000</td><td>https://www.kijiji.ca/v-apartments-condos/city-of-toronto/greenrock-davisville-renovated-1-bedroom-suite-available/1652711690</td><td>2023-04-03</td></tr><tr><td>1623036589</td><td>brand new luxury two bedroom apartment rental in oakville!</td><td>oakville</td><td>3295.00</td><td>2</td><td>2023-03-23 00:00:00.000</td><td>https://www.kijiji.ca/v-apartments-condos/oakville-halton-region/brand-new-luxury-two-bedroom-apartment-rental-in-oakville/1623036589</td><td>2023-04-03</td></tr><tr><td>1560281969</td><td>buy house with zero down or rent to own program</td><td>oshawa</td><td>0.00</td><td>4</td><td>2023-03-30 00:00:00.000</td><td>https://www.kijiji.ca/v-apartments-condos/oshawa-durham-region/buy-house-with-zero-down-or-rent-to-own-program/1560281969</td><td>2023-04-03</td></tr><tr><td>1653804711</td><td>modern townhouse</td><td>markham</td><td>2800.00</td><td>2 + den</td><td>2023-03-19 00:00:00.000</td><td>https://www.kijiji.ca/v-apartments-condos/markham-york-region/modern-townhouse/1653804711</td><td>2023-04-03</td></tr></tbody></table></div>"
      ]
     },
     "metadata": {
      "application/vnd.databricks.v1+output": {
       "addedWidgets": {},
       "aggData": [],
       "aggError": "",
       "aggOverflow": false,
       "aggSchema": [],
       "aggSeriesLimitReached": false,
       "aggType": "",
       "arguments": {},
       "columnCustomDisplayInfos": {},
       "data": [
        [
         1653225832,
         "1 bedroom apartment for rent! dufferin st./lawrence ave.!",
         "toronto",
         "1750.00",
         "1",
         "2023-03-13 00:00:00.000",
         "https://www.kijiji.ca/v-apartments-condos/city-of-toronto/1-bedroom-apartment-for-rent-dufferin-st-lawrence-ave/1653225832",
         "2023-04-03"
        ],
        [
         1652711690,
         "greenrock davisville - renovated 1 bedroom suite available",
         "toronto",
         "2500.00",
         "1",
         "2023-04-01 00:00:00.000",
         "https://www.kijiji.ca/v-apartments-condos/city-of-toronto/greenrock-davisville-renovated-1-bedroom-suite-available/1652711690",
         "2023-04-03"
        ],
        [
         1623036589,
         "brand new luxury two bedroom apartment rental in oakville!",
         "oakville",
         "3295.00",
         "2",
         "2023-03-23 00:00:00.000",
         "https://www.kijiji.ca/v-apartments-condos/oakville-halton-region/brand-new-luxury-two-bedroom-apartment-rental-in-oakville/1623036589",
         "2023-04-03"
        ],
        [
         1560281969,
         "buy house with zero down or rent to own program",
         "oshawa",
         "0.00",
         "4",
         "2023-03-30 00:00:00.000",
         "https://www.kijiji.ca/v-apartments-condos/oshawa-durham-region/buy-house-with-zero-down-or-rent-to-own-program/1560281969",
         "2023-04-03"
        ],
        [
         1653804711,
         "modern townhouse",
         "markham",
         "2800.00",
         "2 + den",
         "2023-03-19 00:00:00.000",
         "https://www.kijiji.ca/v-apartments-condos/markham-york-region/modern-townhouse/1653804711",
         "2023-04-03"
        ]
       ],
       "datasetInfos": [],
       "dbfsResultPath": null,
       "isJsonSchema": true,
       "metadata": {},
       "overflow": false,
       "plotOptions": {
        "customPlotOptions": {},
        "displayType": "table",
        "pivotAggregation": null,
        "pivotColumns": null,
        "xColumns": null,
        "yColumns": null
       },
       "removedWidgets": [],
       "schema": [
        {
         "metadata": "{}",
         "name": "id",
         "type": "\"integer\""
        },
        {
         "metadata": "{}",
         "name": "title",
         "type": "\"string\""
        },
        {
         "metadata": "{}",
         "name": "location",
         "type": "\"string\""
        },
        {
         "metadata": "{}",
         "name": "rent",
         "type": "\"decimal(10,2)\""
        },
        {
         "metadata": "{}",
         "name": "bed_rooms",
         "type": "\"string\""
        },
        {
         "metadata": "{}",
         "name": "date_posted",
         "type": "\"string\""
        },
        {
         "metadata": "{}",
         "name": "url",
         "type": "\"string\""
        },
        {
         "metadata": "{}",
         "name": "scraped_on",
         "type": "\"date\""
        }
       ],
       "type": "table"
      }
     },
     "output_type": "display_data"
    }
   ],
   "source": [
    "display(apt_df.limit(5))"
   ]
  },
  {
   "cell_type": "code",
   "execution_count": 0,
   "metadata": {
    "application/vnd.databricks.v1+cell": {
     "cellMetadata": {
      "byteLimit": 2048000,
      "rowLimit": 10000
     },
     "inputWidgets": {},
     "nuid": "19e72d0a-fb57-48cc-8d64-973df1955560",
     "showTitle": false,
     "title": ""
    }
   },
   "outputs": [
    {
     "output_type": "stream",
     "name": "stdout",
     "output_type": "stream",
     "text": [
      "2 + den\n1 + den\n3\n4 + den\n0\n3 + den\n5+\nbachelor/studio\n1\n4\n2\n"
     ]
    }
   ],
   "source": [
    "unique_beds = apt_df.select(\"bed_rooms\").distinct().limit(100).collect()\n",
    "for beds in unique_beds:\n",
    "    print(beds[\"bed_rooms\"])"
   ]
  },
  {
   "cell_type": "code",
   "execution_count": 0,
   "metadata": {
    "application/vnd.databricks.v1+cell": {
     "cellMetadata": {
      "byteLimit": 2048000,
      "rowLimit": 10000
     },
     "inputWidgets": {},
     "nuid": "d4e2c401-4964-42f5-af57-821b6ee322b1",
     "showTitle": false,
     "title": ""
    }
   },
   "outputs": [],
   "source": [
    "@udf(returnType=IntegerType())\n",
    "def clean_beds(beds):\n",
    "    if 'bachelor' in beds:\n",
    "        return 0\n",
    "    if 'studio' in beds:\n",
    "        return 0\n",
    "    \n",
    "    beds = beds.split(\"+\")[0]\n",
    "    return int(beds)"
   ]
  },
  {
   "cell_type": "code",
   "execution_count": 0,
   "metadata": {
    "application/vnd.databricks.v1+cell": {
     "cellMetadata": {
      "byteLimit": 2048000,
      "rowLimit": 10000
     },
     "inputWidgets": {},
     "nuid": "641192c4-da01-4c72-856b-07a4acf8b2c9",
     "showTitle": false,
     "title": ""
    }
   },
   "outputs": [],
   "source": [
    "apt_df = apt_df.withColumn(\"bed_rooms\", clean_beds(apt_df[\"bed_rooms\"]))"
   ]
  },
  {
   "cell_type": "code",
   "execution_count": 0,
   "metadata": {
    "application/vnd.databricks.v1+cell": {
     "cellMetadata": {
      "byteLimit": 2048000,
      "rowLimit": 10000
     },
     "inputWidgets": {},
     "nuid": "84903f2c-043a-489c-825b-358e69abf499",
     "showTitle": false,
     "title": ""
    }
   },
   "outputs": [
    {
     "output_type": "display_data",
     "data": {
      "text/html": [
       "<style scoped>\n  .table-result-container {\n    max-height: 300px;\n    overflow: auto;\n  }\n  table, th, td {\n    border: 1px solid black;\n    border-collapse: collapse;\n  }\n  th, td {\n    padding: 5px;\n  }\n  th {\n    text-align: left;\n  }\n</style><div class='table-result-container'><table class='table-result'><thead style='background-color: white'><tr><th>id</th><th>title</th><th>location</th><th>rent</th><th>bed_rooms</th><th>date_posted</th><th>url</th><th>scraped_on</th></tr></thead><tbody><tr><td>1653225832</td><td>1 bedroom apartment for rent! dufferin st./lawrence ave.!</td><td>toronto</td><td>1750.00</td><td>1</td><td>2023-03-13 00:00:00.000</td><td>https://www.kijiji.ca/v-apartments-condos/city-of-toronto/1-bedroom-apartment-for-rent-dufferin-st-lawrence-ave/1653225832</td><td>2023-04-03</td></tr><tr><td>1652711690</td><td>greenrock davisville - renovated 1 bedroom suite available</td><td>toronto</td><td>2500.00</td><td>1</td><td>2023-04-01 00:00:00.000</td><td>https://www.kijiji.ca/v-apartments-condos/city-of-toronto/greenrock-davisville-renovated-1-bedroom-suite-available/1652711690</td><td>2023-04-03</td></tr><tr><td>1623036589</td><td>brand new luxury two bedroom apartment rental in oakville!</td><td>oakville</td><td>3295.00</td><td>2</td><td>2023-03-23 00:00:00.000</td><td>https://www.kijiji.ca/v-apartments-condos/oakville-halton-region/brand-new-luxury-two-bedroom-apartment-rental-in-oakville/1623036589</td><td>2023-04-03</td></tr><tr><td>1560281969</td><td>buy house with zero down or rent to own program</td><td>oshawa</td><td>0.00</td><td>4</td><td>2023-03-30 00:00:00.000</td><td>https://www.kijiji.ca/v-apartments-condos/oshawa-durham-region/buy-house-with-zero-down-or-rent-to-own-program/1560281969</td><td>2023-04-03</td></tr><tr><td>1653804711</td><td>modern townhouse</td><td>markham</td><td>2800.00</td><td>2</td><td>2023-03-19 00:00:00.000</td><td>https://www.kijiji.ca/v-apartments-condos/markham-york-region/modern-townhouse/1653804711</td><td>2023-04-03</td></tr></tbody></table></div>"
      ]
     },
     "metadata": {
      "application/vnd.databricks.v1+output": {
       "addedWidgets": {},
       "aggData": [],
       "aggError": "",
       "aggOverflow": false,
       "aggSchema": [],
       "aggSeriesLimitReached": false,
       "aggType": "",
       "arguments": {},
       "columnCustomDisplayInfos": {},
       "data": [
        [
         1653225832,
         "1 bedroom apartment for rent! dufferin st./lawrence ave.!",
         "toronto",
         "1750.00",
         1,
         "2023-03-13 00:00:00.000",
         "https://www.kijiji.ca/v-apartments-condos/city-of-toronto/1-bedroom-apartment-for-rent-dufferin-st-lawrence-ave/1653225832",
         "2023-04-03"
        ],
        [
         1652711690,
         "greenrock davisville - renovated 1 bedroom suite available",
         "toronto",
         "2500.00",
         1,
         "2023-04-01 00:00:00.000",
         "https://www.kijiji.ca/v-apartments-condos/city-of-toronto/greenrock-davisville-renovated-1-bedroom-suite-available/1652711690",
         "2023-04-03"
        ],
        [
         1623036589,
         "brand new luxury two bedroom apartment rental in oakville!",
         "oakville",
         "3295.00",
         2,
         "2023-03-23 00:00:00.000",
         "https://www.kijiji.ca/v-apartments-condos/oakville-halton-region/brand-new-luxury-two-bedroom-apartment-rental-in-oakville/1623036589",
         "2023-04-03"
        ],
        [
         1560281969,
         "buy house with zero down or rent to own program",
         "oshawa",
         "0.00",
         4,
         "2023-03-30 00:00:00.000",
         "https://www.kijiji.ca/v-apartments-condos/oshawa-durham-region/buy-house-with-zero-down-or-rent-to-own-program/1560281969",
         "2023-04-03"
        ],
        [
         1653804711,
         "modern townhouse",
         "markham",
         "2800.00",
         2,
         "2023-03-19 00:00:00.000",
         "https://www.kijiji.ca/v-apartments-condos/markham-york-region/modern-townhouse/1653804711",
         "2023-04-03"
        ]
       ],
       "datasetInfos": [],
       "dbfsResultPath": null,
       "isJsonSchema": true,
       "metadata": {},
       "overflow": false,
       "plotOptions": {
        "customPlotOptions": {},
        "displayType": "table",
        "pivotAggregation": null,
        "pivotColumns": null,
        "xColumns": null,
        "yColumns": null
       },
       "removedWidgets": [],
       "schema": [
        {
         "metadata": "{}",
         "name": "id",
         "type": "\"integer\""
        },
        {
         "metadata": "{}",
         "name": "title",
         "type": "\"string\""
        },
        {
         "metadata": "{}",
         "name": "location",
         "type": "\"string\""
        },
        {
         "metadata": "{}",
         "name": "rent",
         "type": "\"decimal(10,2)\""
        },
        {
         "metadata": "{}",
         "name": "bed_rooms",
         "type": "\"integer\""
        },
        {
         "metadata": "{}",
         "name": "date_posted",
         "type": "\"string\""
        },
        {
         "metadata": "{}",
         "name": "url",
         "type": "\"string\""
        },
        {
         "metadata": "{}",
         "name": "scraped_on",
         "type": "\"date\""
        }
       ],
       "type": "table"
      }
     },
     "output_type": "display_data"
    }
   ],
   "source": [
    "display(apt_df.limit(5))"
   ]
  },
  {
   "cell_type": "code",
   "execution_count": 0,
   "metadata": {
    "application/vnd.databricks.v1+cell": {
     "cellMetadata": {
      "byteLimit": 2048000,
      "rowLimit": 10000
     },
     "inputWidgets": {},
     "nuid": "e922e639-02c1-4ca1-bd65-4d84405a7790",
     "showTitle": false,
     "title": ""
    }
   },
   "outputs": [
    {
     "output_type": "stream",
     "name": "stdout",
     "output_type": "stream",
     "text": [
      "1\n3\n5\n4\n2\n0\n"
     ]
    }
   ],
   "source": [
    "unique_beds = apt_df.select(\"bed_rooms\").distinct().limit(10).collect()\n",
    "for beds in unique_beds:\n",
    "    print(beds[\"bed_rooms\"])"
   ]
  },
  {
   "cell_type": "code",
   "execution_count": 0,
   "metadata": {
    "application/vnd.databricks.v1+cell": {
     "cellMetadata": {
      "byteLimit": 2048000,
      "rowLimit": 10000
     },
     "inputWidgets": {},
     "nuid": "fa4dcbf6-ccb3-4d65-83c0-ccd8de3fb86d",
     "showTitle": false,
     "title": ""
    }
   },
   "outputs": [],
   "source": [
    "from pyspark.sql.functions import year, month, to_date, datediff\n",
    "from dateutil.relativedelta import relativedelta\n",
    "from datetime import datetime, date, timedelta"
   ]
  },
  {
   "cell_type": "code",
   "execution_count": 0,
   "metadata": {
    "application/vnd.databricks.v1+cell": {
     "cellMetadata": {
      "byteLimit": 2048000,
      "rowLimit": 10000
     },
     "inputWidgets": {},
     "nuid": "32eaa47b-dc56-4d21-9b78-92eb94c8d6b0",
     "showTitle": false,
     "title": ""
    }
   },
   "outputs": [
    {
     "output_type": "stream",
     "name": "stdout",
     "output_type": "stream",
     "text": [
      "< 48 minutes ago\n2023-04-03 21:24:15.437\n2023-03-30 00:00:00.000\n2023-03-24 00:00:00.000\n08/03/2023\n2023-04-01 17:05:53.262\n2023-03-28 00:00:00.000\n< 19 minutes ago\n< 9 hours ago\n2023-04-01 17:20:48.979\n< 30 minutes ago\n2023-04-01 17:06:48.979\n2023-04-01 17:21:48.980\n< 9 minutes ago\n< 14 minutes ago\n2023-03-04 00:00:00.000\n2023-03-02 00:00:00.000\n2023-03-20 00:00:00.000\n31/03/2023\n2023-04-03 21:17:08.548\n2023-04-03 21:16:08.548\n2023-04-03 21:04:15.434\n2023-04-03 21:18:15.436\n< 6 minutes ago\n2023-04-01 17:11:53.262\n2023-02-22 00:00:00.000\n2023-04-03 21:13:08.549\n< 7 hours ago\n29/03/2023\n< 34 minutes ago\n2023-04-01 17:16:48.980\n2023-04-01 17:11:48.981\n2023-04-01 17:04:48.980\n< 28 minutes ago\n< 41 minutes ago\n2023-04-01 17:20:48.980\n< 40 minutes ago\n< 58 minutes ago\n2023-03-07 00:00:00.000\n13/03/2023\n2023-04-01 17:23:53.262\n< 23 minutes ago\n2023-02-27 00:00:00.000\n2023-04-03 21:19:08.547\n2023-04-01 17:04:48.979\n2023-04-01 17:01:48.980\n< 59 minutes ago\n2023-04-01 17:22:48.979\n< 31 minutes ago\n< 35 minutes ago\nNone\n2023-03-17 00:00:00.000\n< 7 minutes ago\n2023-04-03 00:00:00.000\n2023-03-31 00:00:00.000\n< 52 minutes ago\n2023-04-01 17:10:48.981\n2023-03-26 00:00:00.000\n< 8 minutes ago\n< 6 hours ago\n< 37 minutes ago\n< 19 hours ago\n< 25 minutes ago\n< 26 minutes ago\n< 20 minutes ago\n< 20 hours ago\n26/03/2023\n< 17 minutes ago\n2023-03-27 00:00:00.000\n< 33 minutes ago\n< 10 minutes ago\n25/03/2023\n2023-04-03 21:18:08.548\n2023-04-01 17:08:48.980\n11/03/2023\n< 15 minutes ago\n2023-04-01 17:05:48.982\n2023-04-01 17:06:48.978\n< 49 minutes ago\n2023-04-01 17:16:48.981\n05/04/2023\n2023-03-06 00:00:00.000\n2023-04-01 17:03:48.982\n2023-04-03 21:17:08.547\n< 2 minutes ago\n2023-04-03 21:14:08.549\n2023-04-01 17:03:48.980\n06/03/2023\n2023-04-03 21:24:15.436\n2023-04-01 17:06:48.980\n22/02/2023\n2023-03-10 00:00:00.000\n< 46 minutes ago\n22/03/2023\n2023-04-03 21:20:08.547\n< 51 minutes ago\n2023-04-03 21:14:08.548\n< 22 hours ago\n2023-04-01 17:21:48.979\n< 1 minute ago\n2023-04-03 21:18:08.547\n< 22 minutes ago\n14/03/2023\n2023-04-03 21:23:08.547\n2023-03-22 00:00:00.000\n2023-04-03 21:03:08.547\n< 43 minutes ago\n2023-04-03 21:22:15.438\n2023-04-02 00:00:00.000\n2023-04-01 17:06:48.982\n< 5 hours ago\n2023-04-01 17:07:48.981\n< 24 minutes ago\n2023-04-03 21:03:08.546\n2023-04-01 17:00:48.980\n< 11 hours ago\n2023-04-03 21:23:08.546\n< 16 hours ago\n< 18 minutes ago\n2023-04-03 21:24:15.434\n2023-04-01 17:19:48.980\n< 18 hours ago\n< 12 minutes ago\n23/03/2023\n2023-04-01 17:08:48.981\n27/03/2023\n27/02/2023\n< 16 minutes ago\n2023-04-01 17:12:48.981\n17/03/2023\n2023-03-05 00:00:00.000\n2023-03-09 00:00:00.000\n< 44 minutes ago\n< 57 minutes ago\n04/04/2023\n< 60 minutes ago\n2023-03-21 00:00:00.000\n2023-03-23 00:00:00.000\n01/03/2023\n< 2 hours ago\n2023-03-08 00:00:00.000\n< 4 hours ago\n< 21 hours ago\n2023-03-01 00:00:00.000\n2023-03-25 00:00:00.000\n30/03/2023\n< 39 minutes ago\n2023-04-03 21:21:08.546\n2023-04-01 17:05:53.260\n2023-03-11 00:00:00.000\n< 17 hours ago\n2023-04-01 17:01:53.260\n2023-04-01 17:09:48.981\n20/03/2023\n18/03/2023\nyesterday\n2023-04-01 17:14:48.981\n2023-04-01 17:06:48.981\n2023-04-01 17:07:53.260\n< 29 minutes ago\n< 3 hours ago\n< 4 minutes ago\n< 55 minutes ago\n09/03/2023\n2023-04-01 17:17:48.980\n< 12 hours ago\n< 36 minutes ago\n< 13 minutes ago\n< 21 minutes ago\n< 53 minutes ago\n2023-04-01 17:07:53.262\n< 32 minutes ago\n2023-03-18 00:00:00.000\n19/03/2023\n2023-04-03 21:19:08.546\n< 10 hours ago\n< 56 minutes ago\n2023-04-03 21:21:08.547\n2023-03-13 00:00:00.000\n24/03/2023\n28/03/2023\n10/03/2023\n< 47 minutes ago\n< 24 hours ago\n2023-04-01 17:07:53.261\n< 5 minutes ago\n2023-04-01 17:15:48.981\n2023-04-01 17:13:48.981\n< 27 minutes ago\n< 15 hours ago\n2023-03-14 00:00:00.000\n< 8 hours ago\n2023-04-01 17:02:48.980\n2023-04-03 21:22:15.437\n< 3 minutes ago\n2023-04-03 21:23:08.548\n02/04/2023\n2023-04-01 17:18:48.980\n< 54 minutes ago\n07/03/2023\n< 14 hours ago\n2023-03-19 00:00:00.000\n2023-04-01 17:04:48.981\n03/04/2023\n2023-04-01 17:04:48.982\n2023-04-01 17:02:53.261\n2023-04-03 21:01:08.546\n2023-04-03 21:15:08.548\n2023-04-01 17:21:48.981\n01/04/2023\n2023-03-29 00:00:00.000\n2023-04-03 21:22:08.546\n2023-04-01 00:00:00.000\n< 38 minutes ago\n< 13 hours ago\n2023-04-01 17:05:58.409\n2023-04-01 17:21:52.254\n2023-04-01 17:07:57.797\n2023-04-01 17:07:52.256\n2023-04-01 17:01:57.797\n2023-04-01 17:07:58.404\n2023-04-01 17:03:57.799\n2023-04-01 17:07:52.255\n2023-04-01 17:07:52.257\n2023-04-01 17:07:52.254\n2023-04-01 17:23:58.416\n2023-04-01 17:07:58.416\n2023-04-01 17:22:52.256\n21/03/2023\n2023-04-01 17:07:58.415\n2023-04-01 17:10:58.406\n2023-04-01 17:05:57.798\n2023-04-01 17:21:57.795\n2023-04-01 17:07:57.796\n2023-04-01 17:02:52.257\n2023-04-01 17:09:52.253\n2023-04-01 17:07:58.409\n2023-04-01 17:22:52.255\n2023-04-01 17:07:58.412\n2023-04-03 21:22:53.508\n02/03/2023\n2023-04-03 21:18:54.712\n2023-04-03 21:04:54.712\n2023-04-03 21:24:54.712\n< 23 hours ago\n< 42 minutes ago\n2023-04-03 21:18:50.406\n"
     ]
    }
   ],
   "source": [
    "unique_dates = apt_df.select(\"date_posted\").distinct().collect()\n",
    "for dates in unique_dates:\n",
    "    print(dates[\"date_posted\"])"
   ]
  },
  {
   "cell_type": "code",
   "execution_count": 0,
   "metadata": {
    "application/vnd.databricks.v1+cell": {
     "cellMetadata": {
      "byteLimit": 2048000,
      "rowLimit": 10000
     },
     "inputWidgets": {},
     "nuid": "35ad9fe0-c462-4088-b3ce-b22fc6955070",
     "showTitle": false,
     "title": ""
    }
   },
   "outputs": [],
   "source": [
    "from dateutil.parser import parse\n",
    "@udf(returnType=DateType())\n",
    "def parse_date_string(date_string, date_=None):\n",
    "    \n",
    "    date_string = str(date_string)\n",
    "    if date_string == \"None\":\n",
    "        return date_\n",
    "\n",
    "    if \"/\" in date_string:\n",
    "        date_obj = datetime.strptime(date_string, '%d/%m/%Y')\n",
    "        date_string = date_obj.strftime('%Y-%m-%d')\n",
    "    elif \"-\" in date_string:\n",
    "        try:\n",
    "            date_obj = datetime.strptime(date_string, '%Y-%m-%d %H:%M:%S.%f')\n",
    "            date_string = date_obj.strftime('%Y-%m-%d')\n",
    "        except:\n",
    "            date_obj = datetime.strptime(date_string, '%Y-%m-%d')\n",
    "            date_string = date_obj.strftime('%Y-%m-%d')\n",
    "    \n",
    "    if date_ is None:\n",
    "        now = datetime.now().date()\n",
    "    else:\n",
    "        now = datetime.strptime(str(date_), '%Y-%m-%d')\n",
    "    \n",
    "    if date_string == 'yesterday':\n",
    "        return (now - relativedelta(days=1)).date()\n",
    "    \n",
    "    elif 'minute' in date_string:\n",
    "        return now.date()\n",
    "    \n",
    "    elif date_string.startswith('<'):\n",
    "        # Convert relative time to absolute time\n",
    "        minutes_ago = int(date_string.split()[1])\n",
    "        return datetime.now() - timedelta(minutes=minutes_ago)\n",
    "    \n",
    "    else:\n",
    "        return datetime.strptime(date_string, '%Y-%m-%d').date()"
   ]
  },
  {
   "cell_type": "code",
   "execution_count": 0,
   "metadata": {
    "application/vnd.databricks.v1+cell": {
     "cellMetadata": {
      "byteLimit": 2048000,
      "rowLimit": 10000
     },
     "inputWidgets": {},
     "nuid": "0d13db3f-6494-46c7-887b-048abdb8a0f7",
     "showTitle": false,
     "title": ""
    }
   },
   "outputs": [],
   "source": [
    "apt_df = apt_df.withColumn(\"date_posted_calculated\", parse_date_string(apt_df[\"date_posted\"], apt_df[\"scraped_on\"]))"
   ]
  },
  {
   "cell_type": "code",
   "execution_count": 0,
   "metadata": {
    "application/vnd.databricks.v1+cell": {
     "cellMetadata": {
      "byteLimit": 2048000,
      "rowLimit": 10000
     },
     "inputWidgets": {},
     "nuid": "70282152-2b3e-4ef4-a927-a8c038f88ac1",
     "showTitle": false,
     "title": ""
    }
   },
   "outputs": [],
   "source": [
    "apt_df = apt_df.withColumn(\"year\", year(apt_df[\"date_posted_calculated\"]))\\\n",
    "               .withColumn(\"month\", month(apt_df[\"date_posted_calculated\"]))"
   ]
  },
  {
   "cell_type": "code",
   "execution_count": 0,
   "metadata": {
    "application/vnd.databricks.v1+cell": {
     "cellMetadata": {
      "byteLimit": 2048000,
      "rowLimit": 10000
     },
     "inputWidgets": {},
     "nuid": "3059eb96-60a4-451d-a587-6269ac6e6919",
     "showTitle": false,
     "title": ""
    }
   },
   "outputs": [
    {
     "output_type": "stream",
     "name": "stdout",
     "output_type": "stream",
     "text": [
      "Out[121]: 9765"
     ]
    }
   ],
   "source": [
    "apt_df.count()"
   ]
  },
  {
   "cell_type": "code",
   "execution_count": 0,
   "metadata": {
    "application/vnd.databricks.v1+cell": {
     "cellMetadata": {
      "byteLimit": 2048000,
      "rowLimit": 10000
     },
     "inputWidgets": {},
     "nuid": "c9f976c8-891b-4695-bd4b-a215d2c33c41",
     "showTitle": false,
     "title": ""
    }
   },
   "outputs": [],
   "source": [
    "apt_df = apt_df.withColumnRenamed('id', 'listing_id')\\\n",
    "       .withColumnRenamed('bed_rooms', 'bedrooms')\\\n",
    "       .withColumnRenamed('date_posted', 'post_date')\\\n",
    "       .withColumnRenamed('scraped_on', 'scrape_date')\\\n",
    "       .withColumnRenamed(\"date_posted_calculated\", \"calculated_date\")\n"
   ]
  },
  {
   "cell_type": "code",
   "execution_count": 0,
   "metadata": {
    "application/vnd.databricks.v1+cell": {
     "cellMetadata": {
      "byteLimit": 2048000,
      "rowLimit": 10000
     },
     "inputWidgets": {},
     "nuid": "89d5dcce-0bdc-4ca3-93e4-0322991935c5",
     "showTitle": false,
     "title": ""
    }
   },
   "outputs": [
    {
     "output_type": "display_data",
     "data": {
      "text/html": [
       "<style scoped>\n  .table-result-container {\n    max-height: 300px;\n    overflow: auto;\n  }\n  table, th, td {\n    border: 1px solid black;\n    border-collapse: collapse;\n  }\n  th, td {\n    padding: 5px;\n  }\n  th {\n    text-align: left;\n  }\n</style><div class='table-result-container'><table class='table-result'><thead style='background-color: white'><tr><th>listing_id</th><th>title</th><th>location</th><th>rent</th><th>bedrooms</th><th>post_date</th><th>url</th><th>scrape_date</th><th>calculated_date</th><th>year</th><th>month</th></tr></thead><tbody><tr><td>1653225832</td><td>1 bedroom apartment for rent! dufferin st./lawrence ave.!</td><td>toronto</td><td>1750.00</td><td>1</td><td>2023-03-13 00:00:00.000</td><td>https://www.kijiji.ca/v-apartments-condos/city-of-toronto/1-bedroom-apartment-for-rent-dufferin-st-lawrence-ave/1653225832</td><td>2023-04-03</td><td>2023-03-13</td><td>2023</td><td>3</td></tr><tr><td>1652711690</td><td>greenrock davisville - renovated 1 bedroom suite available</td><td>toronto</td><td>2500.00</td><td>1</td><td>2023-04-01 00:00:00.000</td><td>https://www.kijiji.ca/v-apartments-condos/city-of-toronto/greenrock-davisville-renovated-1-bedroom-suite-available/1652711690</td><td>2023-04-03</td><td>2023-04-01</td><td>2023</td><td>4</td></tr><tr><td>1623036589</td><td>brand new luxury two bedroom apartment rental in oakville!</td><td>oakville</td><td>3295.00</td><td>2</td><td>2023-03-23 00:00:00.000</td><td>https://www.kijiji.ca/v-apartments-condos/oakville-halton-region/brand-new-luxury-two-bedroom-apartment-rental-in-oakville/1623036589</td><td>2023-04-03</td><td>2023-03-23</td><td>2023</td><td>3</td></tr><tr><td>1560281969</td><td>buy house with zero down or rent to own program</td><td>oshawa</td><td>0.00</td><td>4</td><td>2023-03-30 00:00:00.000</td><td>https://www.kijiji.ca/v-apartments-condos/oshawa-durham-region/buy-house-with-zero-down-or-rent-to-own-program/1560281969</td><td>2023-04-03</td><td>2023-03-30</td><td>2023</td><td>3</td></tr><tr><td>1653804711</td><td>modern townhouse</td><td>markham</td><td>2800.00</td><td>2</td><td>2023-03-19 00:00:00.000</td><td>https://www.kijiji.ca/v-apartments-condos/markham-york-region/modern-townhouse/1653804711</td><td>2023-04-03</td><td>2023-03-19</td><td>2023</td><td>3</td></tr></tbody></table></div>"
      ]
     },
     "metadata": {
      "application/vnd.databricks.v1+output": {
       "addedWidgets": {},
       "aggData": [],
       "aggError": "",
       "aggOverflow": false,
       "aggSchema": [],
       "aggSeriesLimitReached": false,
       "aggType": "",
       "arguments": {},
       "columnCustomDisplayInfos": {},
       "data": [
        [
         1653225832,
         "1 bedroom apartment for rent! dufferin st./lawrence ave.!",
         "toronto",
         "1750.00",
         1,
         "2023-03-13 00:00:00.000",
         "https://www.kijiji.ca/v-apartments-condos/city-of-toronto/1-bedroom-apartment-for-rent-dufferin-st-lawrence-ave/1653225832",
         "2023-04-03",
         "2023-03-13",
         2023,
         3
        ],
        [
         1652711690,
         "greenrock davisville - renovated 1 bedroom suite available",
         "toronto",
         "2500.00",
         1,
         "2023-04-01 00:00:00.000",
         "https://www.kijiji.ca/v-apartments-condos/city-of-toronto/greenrock-davisville-renovated-1-bedroom-suite-available/1652711690",
         "2023-04-03",
         "2023-04-01",
         2023,
         4
        ],
        [
         1623036589,
         "brand new luxury two bedroom apartment rental in oakville!",
         "oakville",
         "3295.00",
         2,
         "2023-03-23 00:00:00.000",
         "https://www.kijiji.ca/v-apartments-condos/oakville-halton-region/brand-new-luxury-two-bedroom-apartment-rental-in-oakville/1623036589",
         "2023-04-03",
         "2023-03-23",
         2023,
         3
        ],
        [
         1560281969,
         "buy house with zero down or rent to own program",
         "oshawa",
         "0.00",
         4,
         "2023-03-30 00:00:00.000",
         "https://www.kijiji.ca/v-apartments-condos/oshawa-durham-region/buy-house-with-zero-down-or-rent-to-own-program/1560281969",
         "2023-04-03",
         "2023-03-30",
         2023,
         3
        ],
        [
         1653804711,
         "modern townhouse",
         "markham",
         "2800.00",
         2,
         "2023-03-19 00:00:00.000",
         "https://www.kijiji.ca/v-apartments-condos/markham-york-region/modern-townhouse/1653804711",
         "2023-04-03",
         "2023-03-19",
         2023,
         3
        ]
       ],
       "datasetInfos": [],
       "dbfsResultPath": null,
       "isJsonSchema": true,
       "metadata": {},
       "overflow": false,
       "plotOptions": {
        "customPlotOptions": {},
        "displayType": "table",
        "pivotAggregation": null,
        "pivotColumns": null,
        "xColumns": null,
        "yColumns": null
       },
       "removedWidgets": [],
       "schema": [
        {
         "metadata": "{}",
         "name": "listing_id",
         "type": "\"integer\""
        },
        {
         "metadata": "{}",
         "name": "title",
         "type": "\"string\""
        },
        {
         "metadata": "{}",
         "name": "location",
         "type": "\"string\""
        },
        {
         "metadata": "{}",
         "name": "rent",
         "type": "\"decimal(10,2)\""
        },
        {
         "metadata": "{}",
         "name": "bedrooms",
         "type": "\"integer\""
        },
        {
         "metadata": "{}",
         "name": "post_date",
         "type": "\"string\""
        },
        {
         "metadata": "{}",
         "name": "url",
         "type": "\"string\""
        },
        {
         "metadata": "{}",
         "name": "scrape_date",
         "type": "\"date\""
        },
        {
         "metadata": "{}",
         "name": "calculated_date",
         "type": "\"date\""
        },
        {
         "metadata": "{}",
         "name": "year",
         "type": "\"integer\""
        },
        {
         "metadata": "{}",
         "name": "month",
         "type": "\"integer\""
        }
       ],
       "type": "table"
      }
     },
     "output_type": "display_data"
    }
   ],
   "source": [
    "display(apt_df.limit(5))"
   ]
  },
  {
   "cell_type": "markdown",
   "metadata": {
    "application/vnd.databricks.v1+cell": {
     "cellMetadata": {
      "byteLimit": 2048000,
      "rowLimit": 10000
     },
     "inputWidgets": {},
     "nuid": "75f99beb-cac4-4a92-91ed-f93bafd2ff71",
     "showTitle": false,
     "title": ""
    }
   },
   "source": [
    "###### write the processed data back to ADLS"
   ]
  },
  {
   "cell_type": "code",
   "execution_count": 0,
   "metadata": {
    "application/vnd.databricks.v1+cell": {
     "cellMetadata": {
      "byteLimit": 2048000,
      "rowLimit": 10000
     },
     "inputWidgets": {},
     "nuid": "99e42b34-d9bd-45de-9813-7cef36686cca",
     "showTitle": false,
     "title": ""
    }
   },
   "outputs": [],
   "source": [
    "apt_df.write\\\n",
    "      .format('parquet')\\\n",
    "      .mode('append')\\\n",
    "      .partitionBy(\"location\")\\\n",
    "      .save('abfs://processed@kijijidata.dfs.core.windows.net/apt/')\n"
   ]
  },
  {
   "cell_type": "markdown",
   "metadata": {
    "application/vnd.databricks.v1+cell": {
     "cellMetadata": {
      "byteLimit": 2048000,
      "rowLimit": 10000
     },
     "inputWidgets": {},
     "nuid": "1b044585-4303-485e-a6aa-5f05dbd65ce3",
     "showTitle": false,
     "title": ""
    }
   },
   "source": [
    "##### move processed data from raw to raw-processed"
   ]
  },
  {
   "cell_type": "code",
   "execution_count": 0,
   "metadata": {
    "application/vnd.databricks.v1+cell": {
     "cellMetadata": {
      "byteLimit": 2048000,
      "rowLimit": 10000
     },
     "inputWidgets": {},
     "nuid": "bd08b558-d091-4c01-b4a1-a60824fc65f1",
     "showTitle": false,
     "title": ""
    }
   },
   "outputs": [
    {
     "output_type": "stream",
     "name": "stdout",
     "output_type": "stream",
     "text": [
      "Out[125]: True"
     ]
    }
   ],
   "source": [
    "dbutils.fs.mv(\"abfs://raw@kijijidata.dfs.core.windows.net/apt/\", \"abfs://raw-processed@kijijidata.dfs.core.windows.net/apt/\", recurse=True)"
   ]
  },
  {
   "cell_type": "code",
   "execution_count": 0,
   "metadata": {
    "application/vnd.databricks.v1+cell": {
     "cellMetadata": {},
     "inputWidgets": {},
     "nuid": "7daa3d69-6b6d-48a4-98e2-4d9c598b2d03",
     "showTitle": false,
     "title": ""
    }
   },
   "outputs": [],
   "source": []
  }
 ],
 "metadata": {
  "application/vnd.databricks.v1+notebook": {
   "dashboards": [],
   "language": "python",
   "notebookMetadata": {
    "pythonIndentUnit": 4
   },
   "notebookName": "kijiji_ingest_apt",
   "notebookOrigID": 3354036332381099,
   "widgets": {}
  }
 },
 "nbformat": 4,
 "nbformat_minor": 0
}
