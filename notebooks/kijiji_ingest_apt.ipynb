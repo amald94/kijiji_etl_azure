{
 "cells": [
  {
   "cell_type": "markdown",
   "metadata": {
    "application/vnd.databricks.v1+cell": {
     "cellMetadata": {
      "byteLimit": 2048000,
      "rowLimit": 10000
     },
     "inputWidgets": {},
     "nuid": "7629cab4-8862-4b3b-a420-9e2f70959cf8",
     "showTitle": false,
     "title": ""
    }
   },
   "source": [
    "##### Access Azure data lake and read the data using\n",
    "1. Databricks secretScope\n",
    "2. Azure key-vault"
   ]
  },
  {
   "cell_type": "code",
   "execution_count": 0,
   "metadata": {
    "application/vnd.databricks.v1+cell": {
     "cellMetadata": {
      "byteLimit": 2048000,
      "rowLimit": 10000
     },
     "inputWidgets": {},
     "nuid": "ddd0f67f-c9be-4d34-866d-44472d9d2c2b",
     "showTitle": false,
     "title": ""
    }
   },
   "outputs": [
    {
     "output_type": "display_data",
     "data": {
      "text/html": [
       "<div class = \"ansiout\">\nProvides utilities for leveraging secrets within notebooks.\nDatabricks documentation for more info.\n    <h3></h3><b>get(scope: String, key: String): String</b> -> Gets the string representation of a secret value with scope and key<br /><b>getBytes(scope: String, key: String): byte[]</b> -> Gets the bytes representation of a secret value with scope and key<br /><b>list(scope: String): Seq</b> -> Lists secret metadata for secrets within a scope<br /><b>listScopes: Seq</b> -> Lists secret scopes<br /><br /></div>"
      ]
     },
     "metadata": {
      "application/vnd.databricks.v1+output": {
       "addedWidgets": {},
       "arguments": {},
       "data": "<div class = \"ansiout\">\nProvides utilities for leveraging secrets within notebooks.\nDatabricks documentation for more info.\n    <h3></h3><b>get(scope: String, key: String): String</b> -> Gets the string representation of a secret value with scope and key<br /><b>getBytes(scope: String, key: String): byte[]</b> -> Gets the bytes representation of a secret value with scope and key<br /><b>list(scope: String): Seq</b> -> Lists secret metadata for secrets within a scope<br /><b>listScopes: Seq</b> -> Lists secret scopes<br /><br /></div>",
       "datasetInfos": [],
       "metadata": {},
       "removedWidgets": [],
       "textData": null,
       "type": "htmlSandbox"
      }
     },
     "output_type": "display_data"
    }
   ],
   "source": [
    "dbutils.secrets.help()"
   ]
  },
  {
   "cell_type": "code",
   "execution_count": 0,
   "metadata": {
    "application/vnd.databricks.v1+cell": {
     "cellMetadata": {
      "byteLimit": 2048000,
      "rowLimit": 10000
     },
     "inputWidgets": {},
     "nuid": "27b54094-73ad-4f74-89f6-97c84e333b35",
     "showTitle": false,
     "title": ""
    }
   },
   "outputs": [
    {
     "output_type": "stream",
     "name": "stdout",
     "output_type": "stream",
     "text": [
      "Out[39]: [SecretScope(name='kijiji-data-scope')]"
     ]
    }
   ],
   "source": [
    "dbutils.secrets.listScopes()"
   ]
  },
  {
   "cell_type": "code",
   "execution_count": 0,
   "metadata": {
    "application/vnd.databricks.v1+cell": {
     "cellMetadata": {
      "byteLimit": 2048000,
      "rowLimit": 10000
     },
     "inputWidgets": {},
     "nuid": "b72f217e-206e-4287-a892-e625e03bf76d",
     "showTitle": false,
     "title": ""
    }
   },
   "outputs": [
    {
     "output_type": "stream",
     "name": "stdout",
     "output_type": "stream",
     "text": [
      "Out[40]: [SecretMetadata(key='account-key')]"
     ]
    }
   ],
   "source": [
    "dbutils.secrets.list(scope='kijiji-data-scope')"
   ]
  },
  {
   "cell_type": "code",
   "execution_count": 0,
   "metadata": {
    "application/vnd.databricks.v1+cell": {
     "cellMetadata": {
      "byteLimit": 2048000,
      "rowLimit": 10000
     },
     "inputWidgets": {},
     "nuid": "0245e556-c15a-42de-b785-99d3ddfab181",
     "showTitle": false,
     "title": ""
    }
   },
   "outputs": [],
   "source": [
    "account_key = dbutils.secrets.get(scope='kijiji-data-scope',key='account-key')"
   ]
  },
  {
   "cell_type": "code",
   "execution_count": 0,
   "metadata": {
    "application/vnd.databricks.v1+cell": {
     "cellMetadata": {
      "byteLimit": 2048000,
      "rowLimit": 10000
     },
     "inputWidgets": {},
     "nuid": "6df12bd5-af40-40a8-a3ff-77154ceb258f",
     "showTitle": false,
     "title": ""
    }
   },
   "outputs": [],
   "source": [
    "spark.conf.set(\n",
    "    \"fs.azure.account.key.kijijidata.dfs.core.windows.net\",\n",
    "    account_key\n",
    ")"
   ]
  },
  {
   "cell_type": "markdown",
   "metadata": {
    "application/vnd.databricks.v1+cell": {
     "cellMetadata": {
      "byteLimit": 2048000,
      "rowLimit": 10000
     },
     "inputWidgets": {},
     "nuid": "eeb15708-1655-4471-9950-39323acab899",
     "showTitle": false,
     "title": ""
    }
   },
   "source": [
    "##### check the access to ADLS"
   ]
  },
  {
   "cell_type": "code",
   "execution_count": 0,
   "metadata": {
    "application/vnd.databricks.v1+cell": {
     "cellMetadata": {
      "byteLimit": 2048000,
      "rowLimit": 10000
     },
     "inputWidgets": {},
     "nuid": "37593221-ae06-4a59-8697-d3946029c854",
     "showTitle": false,
     "title": ""
    }
   },
   "outputs": [
    {
     "output_type": "display_data",
     "data": {
      "text/html": [
       "<style scoped>\n  .table-result-container {\n    max-height: 300px;\n    overflow: auto;\n  }\n  table, th, td {\n    border: 1px solid black;\n    border-collapse: collapse;\n  }\n  th, td {\n    padding: 5px;\n  }\n  th {\n    text-align: left;\n  }\n</style><div class='table-result-container'><table class='table-result'><thead style='background-color: white'><tr><th>path</th><th>name</th><th>size</th><th>modificationTime</th></tr></thead><tbody><tr><td>abfs://raw@kijijidata.dfs.core.windows.net/apt/</td><td>apt/</td><td>0</td><td>1680729431000</td></tr><tr><td>abfs://raw@kijijidata.dfs.core.windows.net/house/</td><td>house/</td><td>0</td><td>1680729436000</td></tr></tbody></table></div>"
      ]
     },
     "metadata": {
      "application/vnd.databricks.v1+output": {
       "addedWidgets": {},
       "aggData": [],
       "aggError": "",
       "aggOverflow": false,
       "aggSchema": [],
       "aggSeriesLimitReached": false,
       "aggType": "",
       "arguments": {},
       "columnCustomDisplayInfos": {},
       "data": [
        [
         "abfs://raw@kijijidata.dfs.core.windows.net/apt/",
         "apt/",
         0,
         1680729431000
        ],
        [
         "abfs://raw@kijijidata.dfs.core.windows.net/house/",
         "house/",
         0,
         1680729436000
        ]
       ],
       "datasetInfos": [],
       "dbfsResultPath": null,
       "isJsonSchema": true,
       "metadata": {},
       "overflow": false,
       "plotOptions": {
        "customPlotOptions": {},
        "displayType": "table",
        "pivotAggregation": null,
        "pivotColumns": null,
        "xColumns": null,
        "yColumns": null
       },
       "removedWidgets": [],
       "schema": [
        {
         "metadata": "{}",
         "name": "path",
         "type": "\"string\""
        },
        {
         "metadata": "{}",
         "name": "name",
         "type": "\"string\""
        },
        {
         "metadata": "{}",
         "name": "size",
         "type": "\"long\""
        },
        {
         "metadata": "{}",
         "name": "modificationTime",
         "type": "\"long\""
        }
       ],
       "type": "table"
      }
     },
     "output_type": "display_data"
    }
   ],
   "source": [
    "display(dbutils.fs.ls(\"abfs://raw@kijijidata.dfs.core.windows.net\"))"
   ]
  },
  {
   "cell_type": "code",
   "execution_count": 0,
   "metadata": {
    "application/vnd.databricks.v1+cell": {
     "cellMetadata": {
      "byteLimit": 2048000,
      "rowLimit": 10000
     },
     "inputWidgets": {},
     "nuid": "682e0e69-6cae-432e-8858-65db499631ab",
     "showTitle": false,
     "title": ""
    }
   },
   "outputs": [
    {
     "output_type": "display_data",
     "data": {
      "text/html": [
       "<style scoped>\n  .table-result-container {\n    max-height: 300px;\n    overflow: auto;\n  }\n  table, th, td {\n    border: 1px solid black;\n    border-collapse: collapse;\n  }\n  th, td {\n    padding: 5px;\n  }\n  th {\n    text-align: left;\n  }\n</style><div class='table-result-container'><table class='table-result'><thead style='background-color: white'><tr><th>path</th><th>name</th><th>size</th><th>modificationTime</th></tr></thead><tbody><tr><td>abfs://raw@kijijidata.dfs.core.windows.net/apt/2023-04-06/</td><td>2023-04-06/</td><td>0</td><td>1680788559000</td></tr></tbody></table></div>"
      ]
     },
     "metadata": {
      "application/vnd.databricks.v1+output": {
       "addedWidgets": {},
       "aggData": [],
       "aggError": "",
       "aggOverflow": false,
       "aggSchema": [],
       "aggSeriesLimitReached": false,
       "aggType": "",
       "arguments": {},
       "columnCustomDisplayInfos": {},
       "data": [
        [
         "abfs://raw@kijijidata.dfs.core.windows.net/apt/2023-04-06/",
         "2023-04-06/",
         0,
         1680788559000
        ]
       ],
       "datasetInfos": [],
       "dbfsResultPath": null,
       "isJsonSchema": true,
       "metadata": {},
       "overflow": false,
       "plotOptions": {
        "customPlotOptions": {},
        "displayType": "table",
        "pivotAggregation": null,
        "pivotColumns": null,
        "xColumns": null,
        "yColumns": null
       },
       "removedWidgets": [],
       "schema": [
        {
         "metadata": "{}",
         "name": "path",
         "type": "\"string\""
        },
        {
         "metadata": "{}",
         "name": "name",
         "type": "\"string\""
        },
        {
         "metadata": "{}",
         "name": "size",
         "type": "\"long\""
        },
        {
         "metadata": "{}",
         "name": "modificationTime",
         "type": "\"long\""
        }
       ],
       "type": "table"
      }
     },
     "output_type": "display_data"
    }
   ],
   "source": [
    "display(dbutils.fs.ls(\"abfs://raw@kijijidata.dfs.core.windows.net/apt/\"))"
   ]
  },
  {
   "cell_type": "code",
   "execution_count": 0,
   "metadata": {
    "application/vnd.databricks.v1+cell": {
     "cellMetadata": {
      "byteLimit": 2048000,
      "rowLimit": 10000
     },
     "inputWidgets": {},
     "nuid": "7283830f-c516-4bc0-8a24-5c6cac926f3c",
     "showTitle": false,
     "title": ""
    }
   },
   "outputs": [
    {
     "output_type": "display_data",
     "data": {
      "text/html": [
       "<style scoped>\n  .table-result-container {\n    max-height: 300px;\n    overflow: auto;\n  }\n  table, th, td {\n    border: 1px solid black;\n    border-collapse: collapse;\n  }\n  th, td {\n    padding: 5px;\n  }\n  th {\n    text-align: left;\n  }\n</style><div class='table-result-container'><table class='table-result'><thead style='background-color: white'><tr><th>path</th><th>name</th><th>size</th><th>modificationTime</th></tr></thead><tbody><tr><td>abfs://raw@kijijidata.dfs.core.windows.net/apt/2023-04-06/kijiji_apt_1_2023-04-06.csv</td><td>kijiji_apt_1_2023-04-06.csv</td><td>203763</td><td>1680788489000</td></tr><tr><td>abfs://raw@kijijidata.dfs.core.windows.net/apt/2023-04-06/kijiji_apt_21_2023-04-06.csv</td><td>kijiji_apt_21_2023-04-06.csv</td><td>82250</td><td>1680788557000</td></tr><tr><td>abfs://raw@kijijidata.dfs.core.windows.net/apt/2023-04-06/kijiji_apt_41_2023-04-06.csv</td><td>kijiji_apt_41_2023-04-06.csv</td><td>72137</td><td>1680788559000</td></tr><tr><td>abfs://raw@kijijidata.dfs.core.windows.net/apt/2023-04-06/kijiji_apt_61_2023-04-06.csv</td><td>kijiji_apt_61_2023-04-06.csv</td><td>92029</td><td>1680788552000</td></tr><tr><td>abfs://raw@kijijidata.dfs.core.windows.net/apt/2023-04-06/kijiji_apt_81_2023-04-06.csv</td><td>kijiji_apt_81_2023-04-06.csv</td><td>82485</td><td>1680788555000</td></tr></tbody></table></div>"
      ]
     },
     "metadata": {
      "application/vnd.databricks.v1+output": {
       "addedWidgets": {},
       "aggData": [],
       "aggError": "",
       "aggOverflow": false,
       "aggSchema": [],
       "aggSeriesLimitReached": false,
       "aggType": "",
       "arguments": {},
       "columnCustomDisplayInfos": {},
       "data": [
        [
         "abfs://raw@kijijidata.dfs.core.windows.net/apt/2023-04-06/kijiji_apt_1_2023-04-06.csv",
         "kijiji_apt_1_2023-04-06.csv",
         203763,
         1680788489000
        ],
        [
         "abfs://raw@kijijidata.dfs.core.windows.net/apt/2023-04-06/kijiji_apt_21_2023-04-06.csv",
         "kijiji_apt_21_2023-04-06.csv",
         82250,
         1680788557000
        ],
        [
         "abfs://raw@kijijidata.dfs.core.windows.net/apt/2023-04-06/kijiji_apt_41_2023-04-06.csv",
         "kijiji_apt_41_2023-04-06.csv",
         72137,
         1680788559000
        ],
        [
         "abfs://raw@kijijidata.dfs.core.windows.net/apt/2023-04-06/kijiji_apt_61_2023-04-06.csv",
         "kijiji_apt_61_2023-04-06.csv",
         92029,
         1680788552000
        ],
        [
         "abfs://raw@kijijidata.dfs.core.windows.net/apt/2023-04-06/kijiji_apt_81_2023-04-06.csv",
         "kijiji_apt_81_2023-04-06.csv",
         82485,
         1680788555000
        ]
       ],
       "datasetInfos": [],
       "dbfsResultPath": null,
       "isJsonSchema": true,
       "metadata": {},
       "overflow": false,
       "plotOptions": {
        "customPlotOptions": {},
        "displayType": "table",
        "pivotAggregation": null,
        "pivotColumns": null,
        "xColumns": null,
        "yColumns": null
       },
       "removedWidgets": [],
       "schema": [
        {
         "metadata": "{}",
         "name": "path",
         "type": "\"string\""
        },
        {
         "metadata": "{}",
         "name": "name",
         "type": "\"string\""
        },
        {
         "metadata": "{}",
         "name": "size",
         "type": "\"long\""
        },
        {
         "metadata": "{}",
         "name": "modificationTime",
         "type": "\"long\""
        }
       ],
       "type": "table"
      }
     },
     "output_type": "display_data"
    }
   ],
   "source": [
    "display(dbutils.fs.ls(\"abfs://raw@kijijidata.dfs.core.windows.net/apt/2023-04-06/\"))"
   ]
  },
  {
   "cell_type": "code",
   "execution_count": 0,
   "metadata": {
    "application/vnd.databricks.v1+cell": {
     "cellMetadata": {
      "byteLimit": 2048000,
      "rowLimit": 10000
     },
     "inputWidgets": {},
     "nuid": "097771cb-3876-4f32-ad2a-bdf3ce459be6",
     "showTitle": false,
     "title": ""
    }
   },
   "outputs": [
    {
     "output_type": "display_data",
     "data": {
      "text/html": [
       "<style scoped>\n  .table-result-container {\n    max-height: 300px;\n    overflow: auto;\n  }\n  table, th, td {\n    border: 1px solid black;\n    border-collapse: collapse;\n  }\n  th, td {\n    padding: 5px;\n  }\n  th {\n    text-align: left;\n  }\n</style><div class='table-result-container'><table class='table-result'><thead style='background-color: white'><tr><th>_c0</th><th>_c1</th><th>_c2</th><th>_c3</th><th>_c4</th><th>_c5</th><th>_c6</th><th>_c7</th><th>_c8</th></tr></thead><tbody><tr><td>null</td><td>id</td><td>title</td><td>location</td><td>rent</td><td>bed_rooms</td><td>date_posted</td><td>url</td><td>scraped_on</td></tr><tr><td>0</td><td>1649856293</td><td>Large Luxury 2-Bedroom Toronto Apartment South West Facing</td><td>Toronto</td><td>$2,799.00</td><td>2</td><td>01/04/2023</td><td>https://www.kijiji.ca/v-apartments-condos/city-of-toronto/large-luxury-2-bedroom-toronto-apartment-south-west-facing/1649856293</td><td>2023-04-06</td></tr><tr><td>1</td><td>1649856299</td><td>1 MONTH FREE! Deluxe Open Concept 1 Bedroom Apartment, Toronto</td><td>Toronto</td><td>$2,349.00</td><td>1</td><td>< 15 hours ago</td><td>https://www.kijiji.ca/v-apartments-condos/city-of-toronto/1-month-free-deluxe-open-concept-1-bedroom-apartment-toronto/1649856299</td><td>2023-04-06</td></tr><tr><td>2</td><td>1653158018</td><td>Sunny, spacious 2 bdrm. circa 1898 Edwardian Roncy Village</td><td>Toronto</td><td>$2,595.00</td><td>2</td><td>< 22 hours ago</td><td>https://www.kijiji.ca/v-apartments-condos/city-of-toronto/sunny-spacious-2-bdrm-circa-1898-edwardian-roncy-village/1653158018</td><td>2023-04-06</td></tr><tr><td>3</td><td>1651533067</td><td>1 Bedroom Large Renovated Apartment For Rent in Toronto - 90 Eas</td><td>Toronto</td><td>$2,195.00</td><td>1</td><td>26/03/2023</td><td>https://www.kijiji.ca/v-apartments-condos/city-of-toronto/1-bedroom-large-renovated-apartment-for-rent-in-toronto-90-eas/1651533067</td><td>2023-04-06</td></tr></tbody></table></div>"
      ]
     },
     "metadata": {
      "application/vnd.databricks.v1+output": {
       "addedWidgets": {},
       "aggData": [],
       "aggError": "",
       "aggOverflow": false,
       "aggSchema": [],
       "aggSeriesLimitReached": false,
       "aggType": "",
       "arguments": {},
       "columnCustomDisplayInfos": {},
       "data": [
        [
         null,
         "id",
         "title",
         "location",
         "rent",
         "bed_rooms",
         "date_posted",
         "url",
         "scraped_on"
        ],
        [
         "0",
         "1649856293",
         "Large Luxury 2-Bedroom Toronto Apartment South West Facing",
         "Toronto",
         "$2,799.00",
         "2",
         "01/04/2023",
         "https://www.kijiji.ca/v-apartments-condos/city-of-toronto/large-luxury-2-bedroom-toronto-apartment-south-west-facing/1649856293",
         "2023-04-06"
        ],
        [
         "1",
         "1649856299",
         "1 MONTH FREE! Deluxe Open Concept 1 Bedroom Apartment, Toronto",
         "Toronto",
         "$2,349.00",
         "1",
         "< 15 hours ago",
         "https://www.kijiji.ca/v-apartments-condos/city-of-toronto/1-month-free-deluxe-open-concept-1-bedroom-apartment-toronto/1649856299",
         "2023-04-06"
        ],
        [
         "2",
         "1653158018",
         "Sunny, spacious 2 bdrm. circa 1898 Edwardian Roncy Village",
         "Toronto",
         "$2,595.00",
         "2",
         "< 22 hours ago",
         "https://www.kijiji.ca/v-apartments-condos/city-of-toronto/sunny-spacious-2-bdrm-circa-1898-edwardian-roncy-village/1653158018",
         "2023-04-06"
        ],
        [
         "3",
         "1651533067",
         "1 Bedroom Large Renovated Apartment For Rent in Toronto - 90 Eas",
         "Toronto",
         "$2,195.00",
         "1",
         "26/03/2023",
         "https://www.kijiji.ca/v-apartments-condos/city-of-toronto/1-bedroom-large-renovated-apartment-for-rent-in-toronto-90-eas/1651533067",
         "2023-04-06"
        ]
       ],
       "datasetInfos": [],
       "dbfsResultPath": null,
       "isJsonSchema": true,
       "metadata": {},
       "overflow": false,
       "plotOptions": {
        "customPlotOptions": {},
        "displayType": "table",
        "pivotAggregation": null,
        "pivotColumns": null,
        "xColumns": null,
        "yColumns": null
       },
       "removedWidgets": [],
       "schema": [
        {
         "metadata": "{}",
         "name": "_c0",
         "type": "\"string\""
        },
        {
         "metadata": "{}",
         "name": "_c1",
         "type": "\"string\""
        },
        {
         "metadata": "{}",
         "name": "_c2",
         "type": "\"string\""
        },
        {
         "metadata": "{}",
         "name": "_c3",
         "type": "\"string\""
        },
        {
         "metadata": "{}",
         "name": "_c4",
         "type": "\"string\""
        },
        {
         "metadata": "{}",
         "name": "_c5",
         "type": "\"string\""
        },
        {
         "metadata": "{}",
         "name": "_c6",
         "type": "\"string\""
        },
        {
         "metadata": "{}",
         "name": "_c7",
         "type": "\"string\""
        },
        {
         "metadata": "{}",
         "name": "_c8",
         "type": "\"string\""
        }
       ],
       "type": "table"
      }
     },
     "output_type": "display_data"
    }
   ],
   "source": [
    "display(spark.read.csv(\"abfs://raw@kijijidata.dfs.core.windows.net/apt/2023-04-06/kijiji_apt_1_2023-04-06.csv\").limit(5))"
   ]
  },
  {
   "cell_type": "markdown",
   "metadata": {
    "application/vnd.databricks.v1+cell": {
     "cellMetadata": {
      "byteLimit": 2048000,
      "rowLimit": 10000
     },
     "inputWidgets": {},
     "nuid": "ee9e3ce5-4577-40c2-9a1a-4c546c6e0346",
     "showTitle": false,
     "title": ""
    }
   },
   "source": [
    "###### Perform necessary transformations and save the result as parquet to ADLS\n",
    "1. read apt listsing and house rental listings from adls\n",
    "2. Specify Schema\n",
    "3. drop null column\n",
    "4. make title column smaller case\n",
    "5. clean location - group same text to one, eq :- City of Toronto, Toronto --> toronto\n",
    "6. convert rent column to integer and replace text please contact with 0\n",
    "7. clean bed_rooms columns and cast to int\n",
    "7. recalculate the date_posted column. eq :-  21 hours ago should be converted to proper date format\n",
    "8. create two additional columns. eq :- year and month column"
   ]
  },
  {
   "cell_type": "code",
   "execution_count": 0,
   "metadata": {
    "application/vnd.databricks.v1+cell": {
     "cellMetadata": {
      "byteLimit": 2048000,
      "rowLimit": 10000
     },
     "inputWidgets": {},
     "nuid": "493141c6-7c57-4c55-8ade-055818be99fd",
     "showTitle": false,
     "title": ""
    }
   },
   "outputs": [],
   "source": [
    "from pyspark.sql.types import StructField, StructType, StringType, IntegerType, DateType\n",
    "from pyspark.sql.functions import lower, udf, col, when, regexp_replace, trim, to_date, date_add\n",
    "from dateutil.relativedelta import relativedelta"
   ]
  },
  {
   "cell_type": "code",
   "execution_count": 0,
   "metadata": {
    "application/vnd.databricks.v1+cell": {
     "cellMetadata": {
      "byteLimit": 2048000,
      "rowLimit": 10000
     },
     "inputWidgets": {},
     "nuid": "e8f34e67-a5ff-4c76-9f6c-342e8f18daad",
     "showTitle": false,
     "title": ""
    }
   },
   "outputs": [],
   "source": [
    "rental_schema = StructType(fields=[\n",
    "                                StructField(\"null\", IntegerType(), True),\n",
    "                                StructField(\"id\", IntegerType(), True),\n",
    "                                StructField(\"title\", StringType(), True),\n",
    "                                StructField(\"location\", StringType(), True),\n",
    "                                StructField(\"rent\", StringType(), True),\n",
    "                                StructField(\"bed_rooms\", StringType(), True),\n",
    "                                StructField(\"date_posted\", StringType(), True),\n",
    "                                StructField(\"url\", StringType(), True),\n",
    "                                StructField(\"scraped_on\", DateType(), True)\n",
    "                            ])"
   ]
  },
  {
   "cell_type": "code",
   "execution_count": 0,
   "metadata": {
    "application/vnd.databricks.v1+cell": {
     "cellMetadata": {
      "byteLimit": 2048000,
      "rowLimit": 10000
     },
     "inputWidgets": {},
     "nuid": "c57cd859-388b-4ddf-ab8e-9bb5fe2d82de",
     "showTitle": false,
     "title": ""
    }
   },
   "outputs": [],
   "source": [
    "apt_df = spark.read\\\n",
    "              .option(\"header\", True)\\\n",
    "              .schema(rental_schema)\\\n",
    "              .csv(\"abfs://raw@kijijidata.dfs.core.windows.net/apt/**/*.csv\")\\\n",
    "              .drop(\"null\")"
   ]
  },
  {
   "cell_type": "code",
   "execution_count": 0,
   "metadata": {
    "application/vnd.databricks.v1+cell": {
     "cellMetadata": {
      "byteLimit": 2048000,
      "rowLimit": 10000
     },
     "inputWidgets": {},
     "nuid": "73101922-29ed-475f-aa19-ab707f983dfb",
     "showTitle": false,
     "title": ""
    }
   },
   "outputs": [
    {
     "output_type": "stream",
     "name": "stdout",
     "output_type": "stream",
     "text": [
      "Out[50]: 2304"
     ]
    }
   ],
   "source": [
    "apt_df.count()"
   ]
  },
  {
   "cell_type": "code",
   "execution_count": 0,
   "metadata": {
    "application/vnd.databricks.v1+cell": {
     "cellMetadata": {
      "byteLimit": 2048000,
      "rowLimit": 10000
     },
     "inputWidgets": {},
     "nuid": "cd1c0771-f5ab-4e93-a511-9b79e2a4826c",
     "showTitle": false,
     "title": ""
    }
   },
   "outputs": [],
   "source": [
    "apt_df = apt_df.dropna(subset=[\"id\"])"
   ]
  },
  {
   "cell_type": "code",
   "execution_count": 0,
   "metadata": {
    "application/vnd.databricks.v1+cell": {
     "cellMetadata": {
      "byteLimit": 2048000,
      "rowLimit": 10000
     },
     "inputWidgets": {},
     "nuid": "9bb9fa1e-35f9-4180-8578-a5d982cf34be",
     "showTitle": false,
     "title": ""
    }
   },
   "outputs": [
    {
     "output_type": "stream",
     "name": "stdout",
     "output_type": "stream",
     "text": [
      "Out[52]: 2295"
     ]
    }
   ],
   "source": [
    "apt_df.count()"
   ]
  },
  {
   "cell_type": "code",
   "execution_count": 0,
   "metadata": {
    "application/vnd.databricks.v1+cell": {
     "cellMetadata": {
      "byteLimit": 2048000,
      "rowLimit": 10000
     },
     "inputWidgets": {},
     "nuid": "93a03104-56bf-4c82-a6c6-7bf64bc0cc9e",
     "showTitle": false,
     "title": ""
    }
   },
   "outputs": [
    {
     "output_type": "display_data",
     "data": {
      "text/html": [
       "<style scoped>\n  .table-result-container {\n    max-height: 300px;\n    overflow: auto;\n  }\n  table, th, td {\n    border: 1px solid black;\n    border-collapse: collapse;\n  }\n  th, td {\n    padding: 5px;\n  }\n  th {\n    text-align: left;\n  }\n</style><div class='table-result-container'><table class='table-result'><thead style='background-color: white'><tr><th>id</th><th>title</th><th>location</th><th>rent</th><th>bed_rooms</th><th>date_posted</th><th>url</th><th>scraped_on</th></tr></thead><tbody><tr><td>1649856293</td><td>Large Luxury 2-Bedroom Toronto Apartment South West Facing</td><td>Toronto</td><td>$2,799.00</td><td>2</td><td>01/04/2023</td><td>https://www.kijiji.ca/v-apartments-condos/city-of-toronto/large-luxury-2-bedroom-toronto-apartment-south-west-facing/1649856293</td><td>2023-04-06</td></tr><tr><td>1649856299</td><td>1 MONTH FREE! Deluxe Open Concept 1 Bedroom Apartment, Toronto</td><td>Toronto</td><td>$2,349.00</td><td>1</td><td>< 15 hours ago</td><td>https://www.kijiji.ca/v-apartments-condos/city-of-toronto/1-month-free-deluxe-open-concept-1-bedroom-apartment-toronto/1649856299</td><td>2023-04-06</td></tr><tr><td>1653158018</td><td>Sunny, spacious 2 bdrm. circa 1898 Edwardian Roncy Village</td><td>Toronto</td><td>$2,595.00</td><td>2</td><td>< 22 hours ago</td><td>https://www.kijiji.ca/v-apartments-condos/city-of-toronto/sunny-spacious-2-bdrm-circa-1898-edwardian-roncy-village/1653158018</td><td>2023-04-06</td></tr><tr><td>1651533067</td><td>1 Bedroom Large Renovated Apartment For Rent in Toronto - 90 Eas</td><td>Toronto</td><td>$2,195.00</td><td>1</td><td>26/03/2023</td><td>https://www.kijiji.ca/v-apartments-condos/city-of-toronto/1-bedroom-large-renovated-apartment-for-rent-in-toronto-90-eas/1651533067</td><td>2023-04-06</td></tr><tr><td>1654957801</td><td>3Bdrm+2 Bath-Penthouse (1660 sqft) at Queen and Spadina</td><td>Toronto</td><td>$3,950.00</td><td>3</td><td>30/03/2023</td><td>https://www.kijiji.ca/v-apartments-condos/city-of-toronto/3bdrm-2-bath-penthouse-1660-sqft-at-queen-and-spadina/1654957801</td><td>2023-04-06</td></tr></tbody></table></div>"
      ]
     },
     "metadata": {
      "application/vnd.databricks.v1+output": {
       "addedWidgets": {},
       "aggData": [],
       "aggError": "",
       "aggOverflow": false,
       "aggSchema": [],
       "aggSeriesLimitReached": false,
       "aggType": "",
       "arguments": {},
       "columnCustomDisplayInfos": {},
       "data": [
        [
         1649856293,
         "Large Luxury 2-Bedroom Toronto Apartment South West Facing",
         "Toronto",
         "$2,799.00",
         "2",
         "01/04/2023",
         "https://www.kijiji.ca/v-apartments-condos/city-of-toronto/large-luxury-2-bedroom-toronto-apartment-south-west-facing/1649856293",
         "2023-04-06"
        ],
        [
         1649856299,
         "1 MONTH FREE! Deluxe Open Concept 1 Bedroom Apartment, Toronto",
         "Toronto",
         "$2,349.00",
         "1",
         "< 15 hours ago",
         "https://www.kijiji.ca/v-apartments-condos/city-of-toronto/1-month-free-deluxe-open-concept-1-bedroom-apartment-toronto/1649856299",
         "2023-04-06"
        ],
        [
         1653158018,
         "Sunny, spacious 2 bdrm. circa 1898 Edwardian Roncy Village",
         "Toronto",
         "$2,595.00",
         "2",
         "< 22 hours ago",
         "https://www.kijiji.ca/v-apartments-condos/city-of-toronto/sunny-spacious-2-bdrm-circa-1898-edwardian-roncy-village/1653158018",
         "2023-04-06"
        ],
        [
         1651533067,
         "1 Bedroom Large Renovated Apartment For Rent in Toronto - 90 Eas",
         "Toronto",
         "$2,195.00",
         "1",
         "26/03/2023",
         "https://www.kijiji.ca/v-apartments-condos/city-of-toronto/1-bedroom-large-renovated-apartment-for-rent-in-toronto-90-eas/1651533067",
         "2023-04-06"
        ],
        [
         1654957801,
         "3Bdrm+2 Bath-Penthouse (1660 sqft) at Queen and Spadina",
         "Toronto",
         "$3,950.00",
         "3",
         "30/03/2023",
         "https://www.kijiji.ca/v-apartments-condos/city-of-toronto/3bdrm-2-bath-penthouse-1660-sqft-at-queen-and-spadina/1654957801",
         "2023-04-06"
        ]
       ],
       "datasetInfos": [],
       "dbfsResultPath": null,
       "isJsonSchema": true,
       "metadata": {},
       "overflow": false,
       "plotOptions": {
        "customPlotOptions": {},
        "displayType": "table",
        "pivotAggregation": null,
        "pivotColumns": null,
        "xColumns": null,
        "yColumns": null
       },
       "removedWidgets": [],
       "schema": [
        {
         "metadata": "{}",
         "name": "id",
         "type": "\"integer\""
        },
        {
         "metadata": "{}",
         "name": "title",
         "type": "\"string\""
        },
        {
         "metadata": "{}",
         "name": "location",
         "type": "\"string\""
        },
        {
         "metadata": "{}",
         "name": "rent",
         "type": "\"string\""
        },
        {
         "metadata": "{}",
         "name": "bed_rooms",
         "type": "\"string\""
        },
        {
         "metadata": "{}",
         "name": "date_posted",
         "type": "\"string\""
        },
        {
         "metadata": "{}",
         "name": "url",
         "type": "\"string\""
        },
        {
         "metadata": "{}",
         "name": "scraped_on",
         "type": "\"date\""
        }
       ],
       "type": "table"
      }
     },
     "output_type": "display_data"
    }
   ],
   "source": [
    "display(apt_df.limit(5))"
   ]
  },
  {
   "cell_type": "code",
   "execution_count": 0,
   "metadata": {
    "application/vnd.databricks.v1+cell": {
     "cellMetadata": {
      "byteLimit": 2048000,
      "rowLimit": 10000
     },
     "inputWidgets": {},
     "nuid": "de8697d9-7395-473a-942b-46dc129244b2",
     "showTitle": false,
     "title": ""
    }
   },
   "outputs": [],
   "source": [
    "apt_df = apt_df.withColumn(\"title\", lower(apt_df[\"title\"]))\\\n",
    "               .withColumn(\"date_posted\", lower(apt_df[\"date_posted\"]))\\\n",
    "               .withColumn(\"location\", when(col(\"location\").isNull(), \"Not Available\").otherwise(lower(col(\"location\"))))\\\n",
    "               .withColumn(\"rent\", when(col(\"rent\") == \"Please Contact\", 0).otherwise(col(\"rent\")))\\\n",
    "               .withColumn(\"rent\", trim(regexp_replace(col(\"rent\"), \"[$,]\", \"\")).cast(\"int\"))\\\n",
    "               .withColumn(\"bed_rooms\", when(col(\"bed_rooms\").isNull(), 0).otherwise(lower(col(\"bed_rooms\"))))"
   ]
  },
  {
   "cell_type": "code",
   "execution_count": 0,
   "metadata": {
    "application/vnd.databricks.v1+cell": {
     "cellMetadata": {
      "byteLimit": 2048000,
      "rowLimit": 10000
     },
     "inputWidgets": {},
     "nuid": "dcc0e226-4c95-4de0-bfdd-c39dd9bccb00",
     "showTitle": false,
     "title": ""
    }
   },
   "outputs": [],
   "source": [
    "unique_locations = apt_df.select(\"location\").distinct().collect()"
   ]
  },
  {
   "cell_type": "code",
   "execution_count": 0,
   "metadata": {
    "application/vnd.databricks.v1+cell": {
     "cellMetadata": {
      "byteLimit": 2048000,
      "rowLimit": 10000
     },
     "inputWidgets": {},
     "nuid": "fd4de965-60de-41b8-b60d-3b179a041022",
     "showTitle": false,
     "title": ""
    }
   },
   "outputs": [
    {
     "output_type": "stream",
     "name": "stdout",
     "output_type": "stream",
     "text": [
      "kitchener\ntown of caledon\nconcord\nacton\noshawa / durham region\norangeville\nmarkham / york region\nmeadowvale\nroseneath\nbradford\nashburn\ncaledon\ntoronto\nburlington\nschomberg\nmilton\ncobourg\ncity of toronto\nbrampton\ntownship of guelph/eramosa\nmississauga\neast york\nkettleby\nvaughan\nmineola\ntoronto m9m 0b5\netobicoke\nwhitchurch-stouffville\nerin mills\nnewmarket\noshawa\neast credit\ngeorgetown\najax\nbolton\ncooksville\nmarkham\npalermo west\nunionville\nnorth york\nking\nwhitby\nmississauga / peel region\nwoodbridge\nbowmanville\nrichmond hill\nhalton hills\nthornhill\nnewcastle\nniagara on the lake\noakville / halton region\nmeadowvale village\ngeorgina\ncourtice\nuxbridge\nmissisauga\neastdale\nscarborough\nyork\nold toronto\nlakeview\nhampton\noakville\ncampbellville\nmaple\npickering\naurora\nbradford west gwillimbury\ninglewood\nchurchville\nnorth yorks\nhamilton\nport perry\nbramalea\nrockwood\nNot Available\nregional municipality of peel\ninnisfil\ndonevan\nlefroy\nbarrie\nwindfields\n"
     ]
    }
   ],
   "source": [
    "for location in unique_locations:\n",
    "    print(location[\"location\"])"
   ]
  },
  {
   "cell_type": "code",
   "execution_count": 0,
   "metadata": {
    "application/vnd.databricks.v1+cell": {
     "cellMetadata": {
      "byteLimit": 2048000,
      "rowLimit": 10000
     },
     "inputWidgets": {},
     "nuid": "8576702c-8788-4b5b-9c18-f58cf32a4697",
     "showTitle": false,
     "title": ""
    }
   },
   "outputs": [
    {
     "output_type": "stream",
     "name": "stdout",
     "output_type": "stream",
     "text": [
      "+----------+--------------------+---------------+----+---------------+---------------+--------------------+----------+\n|        id|               title|       location|rent|      bed_rooms|    date_posted|                 url|scraped_on|\n+----------+--------------------+---------------+----+---------------+---------------+--------------------+----------+\n|1627845120|1 bedroom east yo...|city of toronto|1949|              1|< 7 minutes ago|https://www.kijij...|2023-04-06|\n|1635837021|large fully renov...|city of toronto|2039|              1|< 8 minutes ago|https://www.kijij...|2023-04-06|\n|1635836521|newly renovated b...|city of toronto|1762|bachelor/studio|< 8 minutes ago|https://www.kijij...|2023-04-06|\n|1626968899|east york reno 1 ...|city of toronto|2144|              1|< 8 minutes ago|https://www.kijij...|2023-04-06|\n|1645423583|new renos, large ...|city of toronto|1979|              1|< 8 minutes ago|https://www.kijij...|2023-04-06|\n+----------+--------------------+---------------+----+---------------+---------------+--------------------+----------+\nonly showing top 5 rows\n\n"
     ]
    }
   ],
   "source": [
    "apt_df[apt_df[\"location\"]==\"city of toronto\"].show(5)"
   ]
  },
  {
   "cell_type": "code",
   "execution_count": 0,
   "metadata": {
    "application/vnd.databricks.v1+cell": {
     "cellMetadata": {
      "byteLimit": 2048000,
      "rowLimit": 10000
     },
     "inputWidgets": {},
     "nuid": "aa7192ab-7a6e-435b-9fb1-271b19c04e4e",
     "showTitle": false,
     "title": ""
    }
   },
   "outputs": [],
   "source": [
    "@udf(returnType=StringType())\n",
    "def clean_location(location):\n",
    "    # split the location text by / and return first element\n",
    "    # eq : mississauga / peel region - > mississauga\n",
    "    location_dict = {\"city of toronto\":\"toronto\"}\n",
    "    if str(location) == \"None\":\n",
    "        return \"N/A\"\n",
    "    location = location.split(\"/\")[0]\n",
    "    if location in location_dict:\n",
    "        return location_dict[location]\n",
    "    return location.strip()"
   ]
  },
  {
   "cell_type": "code",
   "execution_count": 0,
   "metadata": {
    "application/vnd.databricks.v1+cell": {
     "cellMetadata": {
      "byteLimit": 2048000,
      "rowLimit": 10000
     },
     "inputWidgets": {},
     "nuid": "8d611996-fda4-479c-b52e-ff2cb1c28d72",
     "showTitle": false,
     "title": ""
    }
   },
   "outputs": [],
   "source": [
    "apt_df = apt_df.withColumn(\"location\", clean_location(apt_df[\"location\"]))"
   ]
  },
  {
   "cell_type": "code",
   "execution_count": 0,
   "metadata": {
    "application/vnd.databricks.v1+cell": {
     "cellMetadata": {
      "byteLimit": 2048000,
      "rowLimit": 10000
     },
     "inputWidgets": {},
     "nuid": "19e72d0a-fb57-48cc-8d64-973df1955560",
     "showTitle": false,
     "title": ""
    }
   },
   "outputs": [
    {
     "output_type": "stream",
     "name": "stdout",
     "output_type": "stream",
     "text": [
      "2 + den\n1 + den\n3\n4 + den\n0\n3 + den\n5+\nbachelor/studio\n1\n4\n2\n"
     ]
    }
   ],
   "source": [
    "unique_beds = apt_df.select(\"bed_rooms\").distinct().collect()\n",
    "for beds in unique_beds:\n",
    "    print(beds[\"bed_rooms\"])"
   ]
  },
  {
   "cell_type": "code",
   "execution_count": 0,
   "metadata": {
    "application/vnd.databricks.v1+cell": {
     "cellMetadata": {
      "byteLimit": 2048000,
      "rowLimit": 10000
     },
     "inputWidgets": {},
     "nuid": "d4e2c401-4964-42f5-af57-821b6ee322b1",
     "showTitle": false,
     "title": ""
    }
   },
   "outputs": [],
   "source": [
    "@udf(returnType=IntegerType())\n",
    "def clean_beds(beds):\n",
    "    if 'bachelor' in beds:\n",
    "        return 0\n",
    "    if 'studio' in beds:\n",
    "        return 0\n",
    "    \n",
    "    beds = beds.split(\"+\")[0]\n",
    "    return int(beds)"
   ]
  },
  {
   "cell_type": "code",
   "execution_count": 0,
   "metadata": {
    "application/vnd.databricks.v1+cell": {
     "cellMetadata": {
      "byteLimit": 2048000,
      "rowLimit": 10000
     },
     "inputWidgets": {},
     "nuid": "641192c4-da01-4c72-856b-07a4acf8b2c9",
     "showTitle": false,
     "title": ""
    }
   },
   "outputs": [],
   "source": [
    "apt_df = apt_df.withColumn(\"bed_rooms\", clean_beds(apt_df[\"bed_rooms\"]))"
   ]
  },
  {
   "cell_type": "code",
   "execution_count": 0,
   "metadata": {
    "application/vnd.databricks.v1+cell": {
     "cellMetadata": {
      "byteLimit": 2048000,
      "rowLimit": 10000
     },
     "inputWidgets": {},
     "nuid": "e922e639-02c1-4ca1-bd65-4d84405a7790",
     "showTitle": false,
     "title": ""
    }
   },
   "outputs": [
    {
     "output_type": "stream",
     "name": "stdout",
     "output_type": "stream",
     "text": [
      "1\n3\n5\n4\n2\n0\n"
     ]
    }
   ],
   "source": [
    "unique_beds = apt_df.select(\"bed_rooms\").distinct().collect()\n",
    "for beds in unique_beds:\n",
    "    print(beds[\"bed_rooms\"])"
   ]
  },
  {
   "cell_type": "code",
   "execution_count": 0,
   "metadata": {
    "application/vnd.databricks.v1+cell": {
     "cellMetadata": {
      "byteLimit": 2048000,
      "rowLimit": 10000
     },
     "inputWidgets": {},
     "nuid": "fa4dcbf6-ccb3-4d65-83c0-ccd8de3fb86d",
     "showTitle": false,
     "title": ""
    }
   },
   "outputs": [],
   "source": [
    "from pyspark.sql.functions import year, month, to_date, datediff\n",
    "from dateutil.relativedelta import relativedelta\n",
    "from datetime import datetime, date, timedelta"
   ]
  },
  {
   "cell_type": "code",
   "execution_count": 0,
   "metadata": {
    "application/vnd.databricks.v1+cell": {
     "cellMetadata": {
      "byteLimit": 2048000,
      "rowLimit": 10000
     },
     "inputWidgets": {},
     "nuid": "32eaa47b-dc56-4d21-9b78-92eb94c8d6b0",
     "showTitle": false,
     "title": ""
    }
   },
   "outputs": [
    {
     "output_type": "stream",
     "name": "stdout",
     "output_type": "stream",
     "text": [
      "< 19 minutes ago\n< 9 hours ago\n< 30 minutes ago\n< 9 minutes ago\n< 14 minutes ago\n31/03/2023\n< 7 hours ago\n< 41 minutes ago\n< 40 minutes ago\n< 58 minutes ago\n13/03/2023\n< 23 minutes ago\n< 59 minutes ago\n< 31 minutes ago\n< 35 minutes ago\nNone\n< 7 minutes ago\n< 52 minutes ago\n< 8 minutes ago\n< 6 hours ago\n< 37 minutes ago\n< 19 hours ago\n< 26 minutes ago\n26/03/2023\n< 33 minutes ago\n< 10 minutes ago\n25/03/2023\n11/03/2023\n< 49 minutes ago\n< 2 minutes ago\n< 46 minutes ago\n22/03/2023\n< 51 minutes ago\n< 22 hours ago\n< 1 minute ago\n< 22 minutes ago\n< 5 hours ago\n< 11 hours ago\n< 16 hours ago\n< 18 minutes ago\n< 18 hours ago\n23/03/2023\n27/03/2023\n27/02/2023\n< 16 minutes ago\n17/03/2023\n< 57 minutes ago\n04/04/2023\n< 60 minutes ago\n01/03/2023\n< 2 hours ago\n< 4 hours ago\n< 21 hours ago\n30/03/2023\n< 39 minutes ago\n< 17 hours ago\n20/03/2023\n18/03/2023\nyesterday\n< 29 minutes ago\n< 3 hours ago\n< 55 minutes ago\n09/03/2023\n< 12 hours ago\n< 36 minutes ago\n< 13 minutes ago\n< 21 minutes ago\n19/03/2023\n< 10 hours ago\n< 56 minutes ago\n24/03/2023\n28/03/2023\n< 5 minutes ago\n< 15 hours ago\n< 8 hours ago\n02/04/2023\n< 54 minutes ago\n07/03/2023\n< 14 hours ago\n03/04/2023\n01/04/2023\n< 38 minutes ago\n< 13 hours ago\n< 17 minutes ago\n21/03/2023\n< 24 hours ago\n"
     ]
    }
   ],
   "source": [
    "unique_dates = apt_df.select(\"date_posted\").distinct().collect()\n",
    "for dates in unique_dates:\n",
    "    print(dates[\"date_posted\"])"
   ]
  },
  {
   "cell_type": "code",
   "execution_count": 0,
   "metadata": {
    "application/vnd.databricks.v1+cell": {
     "cellMetadata": {
      "byteLimit": 2048000,
      "rowLimit": 10000
     },
     "inputWidgets": {},
     "nuid": "35ad9fe0-c462-4088-b3ce-b22fc6955070",
     "showTitle": false,
     "title": ""
    }
   },
   "outputs": [],
   "source": [
    "@udf(returnType=DateType())\n",
    "def parse_date_string(date_string, date_=None):\n",
    "    \n",
    "    if str(date_string) == \"None\":\n",
    "        return date_\n",
    "    if date_ is None:\n",
    "        now = datetime.now().replace(hour=0, minute=0, second=0, microsecond=0)\n",
    "    else:\n",
    "        now = datetime.strptime(str(date_), '%Y-%m-%d').replace(hour=0, minute=0, second=0, microsecond=0)\n",
    "    if date_string == 'yesterday':\n",
    "        return (now - relativedelta(days=1)).date()\n",
    "    elif 'minute' in date_string:\n",
    "        return now.date()\n",
    "    elif date_string.startswith('<'):\n",
    "        # Convert relative time to absolute time\n",
    "        minutes_ago = int(date_string.split()[1])\n",
    "        return datetime.now() - timedelta(minutes=minutes_ago)\n",
    "    else:\n",
    "        return datetime.strptime(date_string, '%d/%m/%Y').date()"
   ]
  },
  {
   "cell_type": "code",
   "execution_count": 0,
   "metadata": {
    "application/vnd.databricks.v1+cell": {
     "cellMetadata": {
      "byteLimit": 2048000,
      "rowLimit": 10000
     },
     "inputWidgets": {},
     "nuid": "0d13db3f-6494-46c7-887b-048abdb8a0f7",
     "showTitle": false,
     "title": ""
    }
   },
   "outputs": [],
   "source": [
    "apt_df = apt_df.withColumn(\"date_posted_calculated\", parse_date_string(apt_df[\"date_posted\"], apt_df[\"scraped_on\"]))"
   ]
  },
  {
   "cell_type": "code",
   "execution_count": 0,
   "metadata": {
    "application/vnd.databricks.v1+cell": {
     "cellMetadata": {
      "byteLimit": 2048000,
      "rowLimit": 10000
     },
     "inputWidgets": {},
     "nuid": "70282152-2b3e-4ef4-a927-a8c038f88ac1",
     "showTitle": false,
     "title": ""
    }
   },
   "outputs": [],
   "source": [
    "apt_df = apt_df.withColumn(\"year\", year(apt_df[\"date_posted_calculated\"]))\\\n",
    "               .withColumn(\"month\", month(apt_df[\"date_posted_calculated\"]))"
   ]
  },
  {
   "cell_type": "code",
   "execution_count": 0,
   "metadata": {
    "application/vnd.databricks.v1+cell": {
     "cellMetadata": {
      "byteLimit": 2048000,
      "rowLimit": 10000
     },
     "inputWidgets": {},
     "nuid": "3059eb96-60a4-451d-a587-6269ac6e6919",
     "showTitle": false,
     "title": ""
    }
   },
   "outputs": [
    {
     "output_type": "stream",
     "name": "stdout",
     "output_type": "stream",
     "text": [
      "Out[69]: 2295"
     ]
    }
   ],
   "source": [
    "apt_df.count()"
   ]
  },
  {
   "cell_type": "code",
   "execution_count": 0,
   "metadata": {
    "application/vnd.databricks.v1+cell": {
     "cellMetadata": {
      "byteLimit": 2048000,
      "rowLimit": 10000
     },
     "inputWidgets": {},
     "nuid": "c9f976c8-891b-4695-bd4b-a215d2c33c41",
     "showTitle": false,
     "title": ""
    }
   },
   "outputs": [],
   "source": [
    "apt_df = apt_df.withColumnRenamed('id', 'listing_id')\\\n",
    "       .withColumnRenamed('bed_rooms', 'bedrooms')\\\n",
    "       .withColumnRenamed('date_posted', 'post_date')\\\n",
    "       .withColumnRenamed('scraped_on', 'scrape_date')\\\n",
    "       .withColumnRenamed(\"date_posted_calculated\", \"calculated_date\")\n"
   ]
  },
  {
   "cell_type": "code",
   "execution_count": 0,
   "metadata": {
    "application/vnd.databricks.v1+cell": {
     "cellMetadata": {
      "byteLimit": 2048000,
      "rowLimit": 10000
     },
     "inputWidgets": {},
     "nuid": "89d5dcce-0bdc-4ca3-93e4-0322991935c5",
     "showTitle": false,
     "title": ""
    }
   },
   "outputs": [
    {
     "output_type": "display_data",
     "data": {
      "text/html": [
       "<style scoped>\n  .table-result-container {\n    max-height: 300px;\n    overflow: auto;\n  }\n  table, th, td {\n    border: 1px solid black;\n    border-collapse: collapse;\n  }\n  th, td {\n    padding: 5px;\n  }\n  th {\n    text-align: left;\n  }\n</style><div class='table-result-container'><table class='table-result'><thead style='background-color: white'><tr><th>listing_id</th><th>title</th><th>location</th><th>rent</th><th>bedrooms</th><th>post_date</th><th>url</th><th>scrape_date</th><th>calculated_date</th><th>year</th><th>month</th></tr></thead><tbody><tr><td>1649856293</td><td>large luxury 2-bedroom toronto apartment south west facing</td><td>toronto</td><td>2799</td><td>2</td><td>01/04/2023</td><td>https://www.kijiji.ca/v-apartments-condos/city-of-toronto/large-luxury-2-bedroom-toronto-apartment-south-west-facing/1649856293</td><td>2023-04-06</td><td>2023-04-01</td><td>2023</td><td>4</td></tr><tr><td>1649856299</td><td>1 month free! deluxe open concept 1 bedroom apartment, toronto</td><td>toronto</td><td>2349</td><td>1</td><td>< 15 hours ago</td><td>https://www.kijiji.ca/v-apartments-condos/city-of-toronto/1-month-free-deluxe-open-concept-1-bedroom-apartment-toronto/1649856299</td><td>2023-04-06</td><td>2023-04-06</td><td>2023</td><td>4</td></tr><tr><td>1653158018</td><td>sunny, spacious 2 bdrm. circa 1898 edwardian roncy village</td><td>toronto</td><td>2595</td><td>2</td><td>< 22 hours ago</td><td>https://www.kijiji.ca/v-apartments-condos/city-of-toronto/sunny-spacious-2-bdrm-circa-1898-edwardian-roncy-village/1653158018</td><td>2023-04-06</td><td>2023-04-06</td><td>2023</td><td>4</td></tr><tr><td>1651533067</td><td>1 bedroom large renovated apartment for rent in toronto - 90 eas</td><td>toronto</td><td>2195</td><td>1</td><td>26/03/2023</td><td>https://www.kijiji.ca/v-apartments-condos/city-of-toronto/1-bedroom-large-renovated-apartment-for-rent-in-toronto-90-eas/1651533067</td><td>2023-04-06</td><td>2023-03-26</td><td>2023</td><td>3</td></tr><tr><td>1654957801</td><td>3bdrm+2 bath-penthouse (1660 sqft) at queen and spadina</td><td>toronto</td><td>3950</td><td>3</td><td>30/03/2023</td><td>https://www.kijiji.ca/v-apartments-condos/city-of-toronto/3bdrm-2-bath-penthouse-1660-sqft-at-queen-and-spadina/1654957801</td><td>2023-04-06</td><td>2023-03-30</td><td>2023</td><td>3</td></tr></tbody></table></div>"
      ]
     },
     "metadata": {
      "application/vnd.databricks.v1+output": {
       "addedWidgets": {},
       "aggData": [],
       "aggError": "",
       "aggOverflow": false,
       "aggSchema": [],
       "aggSeriesLimitReached": false,
       "aggType": "",
       "arguments": {},
       "columnCustomDisplayInfos": {},
       "data": [
        [
         1649856293,
         "large luxury 2-bedroom toronto apartment south west facing",
         "toronto",
         2799,
         2,
         "01/04/2023",
         "https://www.kijiji.ca/v-apartments-condos/city-of-toronto/large-luxury-2-bedroom-toronto-apartment-south-west-facing/1649856293",
         "2023-04-06",
         "2023-04-01",
         2023,
         4
        ],
        [
         1649856299,
         "1 month free! deluxe open concept 1 bedroom apartment, toronto",
         "toronto",
         2349,
         1,
         "< 15 hours ago",
         "https://www.kijiji.ca/v-apartments-condos/city-of-toronto/1-month-free-deluxe-open-concept-1-bedroom-apartment-toronto/1649856299",
         "2023-04-06",
         "2023-04-06",
         2023,
         4
        ],
        [
         1653158018,
         "sunny, spacious 2 bdrm. circa 1898 edwardian roncy village",
         "toronto",
         2595,
         2,
         "< 22 hours ago",
         "https://www.kijiji.ca/v-apartments-condos/city-of-toronto/sunny-spacious-2-bdrm-circa-1898-edwardian-roncy-village/1653158018",
         "2023-04-06",
         "2023-04-06",
         2023,
         4
        ],
        [
         1651533067,
         "1 bedroom large renovated apartment for rent in toronto - 90 eas",
         "toronto",
         2195,
         1,
         "26/03/2023",
         "https://www.kijiji.ca/v-apartments-condos/city-of-toronto/1-bedroom-large-renovated-apartment-for-rent-in-toronto-90-eas/1651533067",
         "2023-04-06",
         "2023-03-26",
         2023,
         3
        ],
        [
         1654957801,
         "3bdrm+2 bath-penthouse (1660 sqft) at queen and spadina",
         "toronto",
         3950,
         3,
         "30/03/2023",
         "https://www.kijiji.ca/v-apartments-condos/city-of-toronto/3bdrm-2-bath-penthouse-1660-sqft-at-queen-and-spadina/1654957801",
         "2023-04-06",
         "2023-03-30",
         2023,
         3
        ]
       ],
       "datasetInfos": [],
       "dbfsResultPath": null,
       "isJsonSchema": true,
       "metadata": {},
       "overflow": false,
       "plotOptions": {
        "customPlotOptions": {},
        "displayType": "table",
        "pivotAggregation": null,
        "pivotColumns": null,
        "xColumns": null,
        "yColumns": null
       },
       "removedWidgets": [],
       "schema": [
        {
         "metadata": "{}",
         "name": "listing_id",
         "type": "\"integer\""
        },
        {
         "metadata": "{}",
         "name": "title",
         "type": "\"string\""
        },
        {
         "metadata": "{}",
         "name": "location",
         "type": "\"string\""
        },
        {
         "metadata": "{}",
         "name": "rent",
         "type": "\"integer\""
        },
        {
         "metadata": "{}",
         "name": "bedrooms",
         "type": "\"integer\""
        },
        {
         "metadata": "{}",
         "name": "post_date",
         "type": "\"string\""
        },
        {
         "metadata": "{}",
         "name": "url",
         "type": "\"string\""
        },
        {
         "metadata": "{}",
         "name": "scrape_date",
         "type": "\"date\""
        },
        {
         "metadata": "{}",
         "name": "calculated_date",
         "type": "\"date\""
        },
        {
         "metadata": "{}",
         "name": "year",
         "type": "\"integer\""
        },
        {
         "metadata": "{}",
         "name": "month",
         "type": "\"integer\""
        }
       ],
       "type": "table"
      }
     },
     "output_type": "display_data"
    }
   ],
   "source": [
    "display(apt_df.limit(5))"
   ]
  },
  {
   "cell_type": "markdown",
   "metadata": {
    "application/vnd.databricks.v1+cell": {
     "cellMetadata": {
      "byteLimit": 2048000,
      "rowLimit": 10000
     },
     "inputWidgets": {},
     "nuid": "75f99beb-cac4-4a92-91ed-f93bafd2ff71",
     "showTitle": false,
     "title": ""
    }
   },
   "source": [
    "###### write the processed data back to ADLS"
   ]
  },
  {
   "cell_type": "code",
   "execution_count": 0,
   "metadata": {
    "application/vnd.databricks.v1+cell": {
     "cellMetadata": {
      "byteLimit": 2048000,
      "rowLimit": 10000
     },
     "inputWidgets": {},
     "nuid": "99e42b34-d9bd-45de-9813-7cef36686cca",
     "showTitle": false,
     "title": ""
    }
   },
   "outputs": [],
   "source": [
    "apt_df.write\\\n",
    "      .format('parquet')\\\n",
    "      .mode('append')\\\n",
    "      .partitionBy(\"location\")\\\n",
    "      .save('abfs://processed@kijijidata.dfs.core.windows.net/apt/')\n"
   ]
  },
  {
   "cell_type": "markdown",
   "metadata": {
    "application/vnd.databricks.v1+cell": {
     "cellMetadata": {},
     "inputWidgets": {},
     "nuid": "1b044585-4303-485e-a6aa-5f05dbd65ce3",
     "showTitle": false,
     "title": ""
    }
   },
   "source": [
    "##### move processed data from raw to raw-processed"
   ]
  },
  {
   "cell_type": "code",
   "execution_count": 0,
   "metadata": {
    "application/vnd.databricks.v1+cell": {
     "cellMetadata": {
      "byteLimit": 2048000,
      "rowLimit": 10000
     },
     "inputWidgets": {},
     "nuid": "bd08b558-d091-4c01-b4a1-a60824fc65f1",
     "showTitle": false,
     "title": ""
    }
   },
   "outputs": [],
   "source": [
    "dbutils.fs.mv(\"abfs://raw@kijijidata.dfs.core.windows.net/apt/\", \"abfs://raw-processed@kijijidata.dfs.core.windows.net/apt/\", recurse=True)"
   ]
  },
  {
   "cell_type": "code",
   "execution_count": 0,
   "metadata": {
    "application/vnd.databricks.v1+cell": {
     "cellMetadata": {},
     "inputWidgets": {},
     "nuid": "61e5126b-1eed-4c86-8c0b-4c0f8bbb0e8a",
     "showTitle": false,
     "title": ""
    }
   },
   "outputs": [],
   "source": []
  }
 ],
 "metadata": {
  "application/vnd.databricks.v1+notebook": {
   "dashboards": [],
   "language": "python",
   "notebookMetadata": {
    "pythonIndentUnit": 4
   },
   "notebookName": "kijiji_ingest_apt",
   "notebookOrigID": 3563686892925733,
   "widgets": {}
  }
 },
 "nbformat": 4,
 "nbformat_minor": 0
}
